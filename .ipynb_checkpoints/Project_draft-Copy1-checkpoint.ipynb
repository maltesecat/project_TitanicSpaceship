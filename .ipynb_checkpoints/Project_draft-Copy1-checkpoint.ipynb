{
 "cells": [
  {
   "cell_type": "markdown",
   "id": "9be9fbd3",
   "metadata": {},
   "source": [
    "# Spaceship Titanic - classification problem "
   ]
  },
  {
   "cell_type": "markdown",
   "id": "dc7b6cb0",
   "metadata": {},
   "source": [
    "### Table of contents:"
   ]
  },
  {
   "cell_type": "markdown",
   "id": "ec3a06c6",
   "metadata": {},
   "source": [
    "## Abstract"
   ]
  },
  {
   "cell_type": "markdown",
   "id": "25258113",
   "metadata": {},
   "source": [
    "## Dataset description"
   ]
  },
  {
   "cell_type": "markdown",
   "id": "national-seminar",
   "metadata": {},
   "source": [
    "- PassengerId - A unique Id for each passenger. Each Id takes the form gggg_pp where gggg indicates a group the passenger is travelling with and pp is their number within the group. People in a group are often family members, but not always.\n",
    "- HomePlanet - The planet the passenger departed from, typically their planet of permanent residence.\n",
    "- CryoSleep - Indicates whether the passenger elected to be put into suspended animation for the duration of the voyage. Passengers in cryosleep are confined to their cabins.\n",
    "- Cabin - The cabin number where the passenger is staying. Takes the form deck/num/side, where side can be either P for Port or S for Starboard.\n",
    "- Destination - The planet the passenger will be debarking to.\n",
    "- Age - The age of the passenger.\n",
    "- VIP - Whether the passenger has paid for special VIP service during the voyage.\n",
    "- RoomService, FoodCourt, ShoppingMall, Spa, VRDeck - Amount the passenger has billed at each of the Spaceship Titanic's many luxury amenities.\n",
    "- Name - The first and last names of the passenger.\n",
    "- Transported - Whether the passenger was transported to another dimension. This is the target, the column you are trying to predict."
   ]
  },
  {
   "cell_type": "markdown",
   "id": "4e3d13ec",
   "metadata": {},
   "source": [
    "## Prerequisites"
   ]
  },
  {
   "cell_type": "code",
   "execution_count": 1,
   "id": "49fc8982",
   "metadata": {},
   "outputs": [],
   "source": [
    "import pandas as pd\n",
    "import numpy as np\n",
    "import matplotlib.pyplot as plt\n",
    "import warnings\n",
    "from scipy.stats import uniform"
   ]
  },
  {
   "cell_type": "code",
   "execution_count": 2,
   "id": "naughty-picture",
   "metadata": {},
   "outputs": [],
   "source": [
    "# preprocessing\n",
    "from sklearn.model_selection import train_test_split\n",
    "from sklearn.compose import ColumnTransformer\n",
    "from sklearn.preprocessing import FunctionTransformer\n",
    "from sklearn.base import BaseEstimator, TransformerMixin  \n",
    "from sklearn.pipeline import Pipeline\n",
    "from sklearn.impute import SimpleImputer\n",
    "from sklearn.preprocessing import StandardScaler, OneHotEncoder  "
   ]
  },
  {
   "cell_type": "code",
   "execution_count": 3,
   "id": "experimental-replica",
   "metadata": {},
   "outputs": [],
   "source": [
    "# models \n",
    "from sklearn.decomposition import PCA\n",
    "from sklearn.linear_model import LogisticRegression\n",
    "from sklearn.svm import LinearSVC\n",
    "from sklearn.svm import SVC\n",
    "from sklearn.tree import DecisionTreeClassifier\n",
    "from sklearn.ensemble import RandomForestClassifier\n",
    "from xgboost.sklearn import XGBClassifier"
   ]
  },
  {
   "cell_type": "code",
   "execution_count": 4,
   "id": "devoted-island",
   "metadata": {},
   "outputs": [],
   "source": [
    "# model selection\n",
    "from sklearn.model_selection import StratifiedKFold, GridSearchCV, RandomizedSearchCV\n",
    "from sklearn.feature_selection import RFE\n",
    "from sklearn.metrics import accuracy_score, f1_score\n",
    "from sklearn.metrics import f1_score"
   ]
  },
  {
   "cell_type": "markdown",
   "id": "third-garlic",
   "metadata": {},
   "source": [
    "## Data preparation"
   ]
  },
  {
   "cell_type": "markdown",
   "id": "difficult-respondent",
   "metadata": {},
   "source": [
    "### Data Loading"
   ]
  },
  {
   "cell_type": "code",
   "execution_count": 5,
   "id": "84cf843e",
   "metadata": {},
   "outputs": [
    {
     "data": {
      "text/html": [
       "<div>\n",
       "<style scoped>\n",
       "    .dataframe tbody tr th:only-of-type {\n",
       "        vertical-align: middle;\n",
       "    }\n",
       "\n",
       "    .dataframe tbody tr th {\n",
       "        vertical-align: top;\n",
       "    }\n",
       "\n",
       "    .dataframe thead th {\n",
       "        text-align: right;\n",
       "    }\n",
       "</style>\n",
       "<table border=\"1\" class=\"dataframe\">\n",
       "  <thead>\n",
       "    <tr style=\"text-align: right;\">\n",
       "      <th></th>\n",
       "      <th>PassengerId</th>\n",
       "      <th>HomePlanet</th>\n",
       "      <th>CryoSleep</th>\n",
       "      <th>Cabin</th>\n",
       "      <th>Destination</th>\n",
       "      <th>Age</th>\n",
       "      <th>VIP</th>\n",
       "      <th>RoomService</th>\n",
       "      <th>FoodCourt</th>\n",
       "      <th>ShoppingMall</th>\n",
       "      <th>Spa</th>\n",
       "      <th>VRDeck</th>\n",
       "      <th>Name</th>\n",
       "      <th>Transported</th>\n",
       "    </tr>\n",
       "  </thead>\n",
       "  <tbody>\n",
       "    <tr>\n",
       "      <th>0</th>\n",
       "      <td>0001_01</td>\n",
       "      <td>Europa</td>\n",
       "      <td>False</td>\n",
       "      <td>B/0/P</td>\n",
       "      <td>TRAPPIST-1e</td>\n",
       "      <td>39.0</td>\n",
       "      <td>False</td>\n",
       "      <td>0.0</td>\n",
       "      <td>0.0</td>\n",
       "      <td>0.0</td>\n",
       "      <td>0.0</td>\n",
       "      <td>0.0</td>\n",
       "      <td>Maham Ofracculy</td>\n",
       "      <td>False</td>\n",
       "    </tr>\n",
       "    <tr>\n",
       "      <th>1</th>\n",
       "      <td>0002_01</td>\n",
       "      <td>Earth</td>\n",
       "      <td>False</td>\n",
       "      <td>F/0/S</td>\n",
       "      <td>TRAPPIST-1e</td>\n",
       "      <td>24.0</td>\n",
       "      <td>False</td>\n",
       "      <td>109.0</td>\n",
       "      <td>9.0</td>\n",
       "      <td>25.0</td>\n",
       "      <td>549.0</td>\n",
       "      <td>44.0</td>\n",
       "      <td>Juanna Vines</td>\n",
       "      <td>True</td>\n",
       "    </tr>\n",
       "  </tbody>\n",
       "</table>\n",
       "</div>"
      ],
      "text/plain": [
       "  PassengerId HomePlanet CryoSleep  Cabin  Destination   Age    VIP  \\\n",
       "0     0001_01     Europa     False  B/0/P  TRAPPIST-1e  39.0  False   \n",
       "1     0002_01      Earth     False  F/0/S  TRAPPIST-1e  24.0  False   \n",
       "\n",
       "   RoomService  FoodCourt  ShoppingMall    Spa  VRDeck             Name  \\\n",
       "0          0.0        0.0           0.0    0.0     0.0  Maham Ofracculy   \n",
       "1        109.0        9.0          25.0  549.0    44.0     Juanna Vines   \n",
       "\n",
       "   Transported  \n",
       "0        False  \n",
       "1         True  "
      ]
     },
     "execution_count": 5,
     "metadata": {},
     "output_type": "execute_result"
    }
   ],
   "source": [
    "data = pd.read_csv(\"./spaceship.csv\")\n",
    "data.head(2)"
   ]
  },
  {
   "cell_type": "code",
   "execution_count": 6,
   "id": "growing-floor",
   "metadata": {},
   "outputs": [
    {
     "name": "stdout",
     "output_type": "stream",
     "text": [
      "<class 'pandas.core.frame.DataFrame'>\n",
      "RangeIndex: 8693 entries, 0 to 8692\n",
      "Data columns (total 14 columns):\n",
      " #   Column        Non-Null Count  Dtype  \n",
      "---  ------        --------------  -----  \n",
      " 0   PassengerId   8693 non-null   object \n",
      " 1   HomePlanet    8492 non-null   object \n",
      " 2   CryoSleep     8476 non-null   object \n",
      " 3   Cabin         8494 non-null   object \n",
      " 4   Destination   8511 non-null   object \n",
      " 5   Age           8514 non-null   float64\n",
      " 6   VIP           8490 non-null   object \n",
      " 7   RoomService   8512 non-null   float64\n",
      " 8   FoodCourt     8510 non-null   float64\n",
      " 9   ShoppingMall  8485 non-null   float64\n",
      " 10  Spa           8510 non-null   float64\n",
      " 11  VRDeck        8505 non-null   float64\n",
      " 12  Name          8493 non-null   object \n",
      " 13  Transported   8693 non-null   bool   \n",
      "dtypes: bool(1), float64(6), object(7)\n",
      "memory usage: 891.5+ KB\n"
     ]
    }
   ],
   "source": [
    "data.info()"
   ]
  },
  {
   "cell_type": "code",
   "execution_count": 7,
   "id": "legal-israel",
   "metadata": {},
   "outputs": [
    {
     "data": {
      "text/plain": [
       "PassengerId       0\n",
       "HomePlanet      201\n",
       "CryoSleep       217\n",
       "Cabin           199\n",
       "Destination     182\n",
       "Age             179\n",
       "VIP             203\n",
       "RoomService     181\n",
       "FoodCourt       183\n",
       "ShoppingMall    208\n",
       "Spa             183\n",
       "VRDeck          188\n",
       "Name            200\n",
       "Transported       0\n",
       "dtype: int64"
      ]
     },
     "execution_count": 7,
     "metadata": {},
     "output_type": "execute_result"
    }
   ],
   "source": [
    "data.isnull().sum()"
   ]
  },
  {
   "cell_type": "code",
   "execution_count": 8,
   "id": "recovered-vegetarian",
   "metadata": {},
   "outputs": [
    {
     "data": {
      "text/plain": [
       "(8693, 14)"
      ]
     },
     "execution_count": 8,
     "metadata": {},
     "output_type": "execute_result"
    }
   ],
   "source": [
    "data.shape"
   ]
  },
  {
   "cell_type": "markdown",
   "id": "indirect-dealing",
   "metadata": {},
   "source": [
    "**Based on amount of rows (8693 values) the NA values are rare. There is no need to remove any column due to the high missing value.**"
   ]
  },
  {
   "cell_type": "markdown",
   "id": "wicked-second",
   "metadata": {},
   "source": [
    "### Columns split\n",
    "\n",
    "Some columns contain more than one feature - extracting these data into separate columns before dividing the set into training and test set. There is no need to add that split into pipeline."
   ]
  },
  {
   "cell_type": "markdown",
   "id": "capable-discharge",
   "metadata": {},
   "source": [
    "0. PassengerId\n",
    "\n",
    "Contains information if passenger was alone or travel in group."
   ]
  },
  {
   "cell_type": "code",
   "execution_count": 9,
   "id": "adequate-brazilian",
   "metadata": {},
   "outputs": [],
   "source": [
    "data['Travel_alone'] = pd.NA\n",
    "_pas_group = set()\n",
    "\n",
    "for id in data['PassengerId']:\n",
    "    if int(id[-2:]) > 1:\n",
    "        _pas_group.add(id[:4])\n",
    "        \n",
    "for idx, row in data.iterrows():\n",
    "    if (row.PassengerId[:4]) not in _pas_group:\n",
    "        data.at[idx, 'Travel_alone'] = 1      \n",
    "    else:\n",
    "        data.at[idx, 'Travel_alone'] = 0\n",
    "        \n",
    "data['Travel_alone'] = data['Travel_alone'].astype('bool')"
   ]
  },
  {
   "cell_type": "markdown",
   "id": "impressive-recruitment",
   "metadata": {},
   "source": [
    "3. Cabin\n",
    "\n",
    "Contains information about Deck, Cabin number and Side of the ship."
   ]
  },
  {
   "cell_type": "code",
   "execution_count": 10,
   "id": "english-guatemala",
   "metadata": {},
   "outputs": [],
   "source": [
    "data['Deck'] = data['Cabin'].str[0]\n",
    "data['Cabin_num'] = data['Cabin'].str[2:-2].map(float)\n",
    "data['Side'] = data['Cabin'].str[-1]"
   ]
  },
  {
   "cell_type": "markdown",
   "id": "incoming-bouquet",
   "metadata": {},
   "source": [
    "### Columns to be deleted \n",
    "\n",
    "Columns \"PassengerId\", \"Name\", \"Cabin\": variables without affecting observations - will be not used."
   ]
  },
  {
   "cell_type": "code",
   "execution_count": 11,
   "id": "exempt-python",
   "metadata": {},
   "outputs": [],
   "source": [
    "data = data.set_index('PassengerId')"
   ]
  },
  {
   "cell_type": "code",
   "execution_count": 12,
   "id": "wrapped-logistics",
   "metadata": {},
   "outputs": [],
   "source": [
    "data = data.drop([\"Name\", \"Cabin\"], axis=1)"
   ]
  },
  {
   "cell_type": "code",
   "execution_count": 13,
   "id": "critical-desert",
   "metadata": {},
   "outputs": [
    {
     "data": {
      "text/html": [
       "<div>\n",
       "<style scoped>\n",
       "    .dataframe tbody tr th:only-of-type {\n",
       "        vertical-align: middle;\n",
       "    }\n",
       "\n",
       "    .dataframe tbody tr th {\n",
       "        vertical-align: top;\n",
       "    }\n",
       "\n",
       "    .dataframe thead th {\n",
       "        text-align: right;\n",
       "    }\n",
       "</style>\n",
       "<table border=\"1\" class=\"dataframe\">\n",
       "  <thead>\n",
       "    <tr style=\"text-align: right;\">\n",
       "      <th></th>\n",
       "      <th>HomePlanet</th>\n",
       "      <th>CryoSleep</th>\n",
       "      <th>Destination</th>\n",
       "      <th>Age</th>\n",
       "      <th>VIP</th>\n",
       "      <th>RoomService</th>\n",
       "      <th>FoodCourt</th>\n",
       "      <th>ShoppingMall</th>\n",
       "      <th>Spa</th>\n",
       "      <th>VRDeck</th>\n",
       "      <th>Transported</th>\n",
       "      <th>Travel_alone</th>\n",
       "      <th>Deck</th>\n",
       "      <th>Cabin_num</th>\n",
       "      <th>Side</th>\n",
       "    </tr>\n",
       "    <tr>\n",
       "      <th>PassengerId</th>\n",
       "      <th></th>\n",
       "      <th></th>\n",
       "      <th></th>\n",
       "      <th></th>\n",
       "      <th></th>\n",
       "      <th></th>\n",
       "      <th></th>\n",
       "      <th></th>\n",
       "      <th></th>\n",
       "      <th></th>\n",
       "      <th></th>\n",
       "      <th></th>\n",
       "      <th></th>\n",
       "      <th></th>\n",
       "      <th></th>\n",
       "    </tr>\n",
       "  </thead>\n",
       "  <tbody>\n",
       "    <tr>\n",
       "      <th>0001_01</th>\n",
       "      <td>Europa</td>\n",
       "      <td>False</td>\n",
       "      <td>TRAPPIST-1e</td>\n",
       "      <td>39.0</td>\n",
       "      <td>False</td>\n",
       "      <td>0.0</td>\n",
       "      <td>0.0</td>\n",
       "      <td>0.0</td>\n",
       "      <td>0.0</td>\n",
       "      <td>0.0</td>\n",
       "      <td>False</td>\n",
       "      <td>True</td>\n",
       "      <td>B</td>\n",
       "      <td>0.0</td>\n",
       "      <td>P</td>\n",
       "    </tr>\n",
       "    <tr>\n",
       "      <th>0002_01</th>\n",
       "      <td>Earth</td>\n",
       "      <td>False</td>\n",
       "      <td>TRAPPIST-1e</td>\n",
       "      <td>24.0</td>\n",
       "      <td>False</td>\n",
       "      <td>109.0</td>\n",
       "      <td>9.0</td>\n",
       "      <td>25.0</td>\n",
       "      <td>549.0</td>\n",
       "      <td>44.0</td>\n",
       "      <td>True</td>\n",
       "      <td>True</td>\n",
       "      <td>F</td>\n",
       "      <td>0.0</td>\n",
       "      <td>S</td>\n",
       "    </tr>\n",
       "    <tr>\n",
       "      <th>0003_01</th>\n",
       "      <td>Europa</td>\n",
       "      <td>False</td>\n",
       "      <td>TRAPPIST-1e</td>\n",
       "      <td>58.0</td>\n",
       "      <td>True</td>\n",
       "      <td>43.0</td>\n",
       "      <td>3576.0</td>\n",
       "      <td>0.0</td>\n",
       "      <td>6715.0</td>\n",
       "      <td>49.0</td>\n",
       "      <td>False</td>\n",
       "      <td>False</td>\n",
       "      <td>A</td>\n",
       "      <td>0.0</td>\n",
       "      <td>S</td>\n",
       "    </tr>\n",
       "    <tr>\n",
       "      <th>0003_02</th>\n",
       "      <td>Europa</td>\n",
       "      <td>False</td>\n",
       "      <td>TRAPPIST-1e</td>\n",
       "      <td>33.0</td>\n",
       "      <td>False</td>\n",
       "      <td>0.0</td>\n",
       "      <td>1283.0</td>\n",
       "      <td>371.0</td>\n",
       "      <td>3329.0</td>\n",
       "      <td>193.0</td>\n",
       "      <td>False</td>\n",
       "      <td>False</td>\n",
       "      <td>A</td>\n",
       "      <td>0.0</td>\n",
       "      <td>S</td>\n",
       "    </tr>\n",
       "    <tr>\n",
       "      <th>0004_01</th>\n",
       "      <td>Earth</td>\n",
       "      <td>False</td>\n",
       "      <td>TRAPPIST-1e</td>\n",
       "      <td>16.0</td>\n",
       "      <td>False</td>\n",
       "      <td>303.0</td>\n",
       "      <td>70.0</td>\n",
       "      <td>151.0</td>\n",
       "      <td>565.0</td>\n",
       "      <td>2.0</td>\n",
       "      <td>True</td>\n",
       "      <td>True</td>\n",
       "      <td>F</td>\n",
       "      <td>1.0</td>\n",
       "      <td>S</td>\n",
       "    </tr>\n",
       "  </tbody>\n",
       "</table>\n",
       "</div>"
      ],
      "text/plain": [
       "            HomePlanet CryoSleep  Destination   Age    VIP  RoomService  \\\n",
       "PassengerId                                                               \n",
       "0001_01         Europa     False  TRAPPIST-1e  39.0  False          0.0   \n",
       "0002_01          Earth     False  TRAPPIST-1e  24.0  False        109.0   \n",
       "0003_01         Europa     False  TRAPPIST-1e  58.0   True         43.0   \n",
       "0003_02         Europa     False  TRAPPIST-1e  33.0  False          0.0   \n",
       "0004_01          Earth     False  TRAPPIST-1e  16.0  False        303.0   \n",
       "\n",
       "             FoodCourt  ShoppingMall     Spa  VRDeck  Transported  \\\n",
       "PassengerId                                                         \n",
       "0001_01            0.0           0.0     0.0     0.0        False   \n",
       "0002_01            9.0          25.0   549.0    44.0         True   \n",
       "0003_01         3576.0           0.0  6715.0    49.0        False   \n",
       "0003_02         1283.0         371.0  3329.0   193.0        False   \n",
       "0004_01           70.0         151.0   565.0     2.0         True   \n",
       "\n",
       "             Travel_alone Deck  Cabin_num Side  \n",
       "PassengerId                                     \n",
       "0001_01              True    B        0.0    P  \n",
       "0002_01              True    F        0.0    S  \n",
       "0003_01             False    A        0.0    S  \n",
       "0003_02             False    A        0.0    S  \n",
       "0004_01              True    F        1.0    S  "
      ]
     },
     "execution_count": 13,
     "metadata": {},
     "output_type": "execute_result"
    }
   ],
   "source": [
    "data.head(5)"
   ]
  },
  {
   "cell_type": "markdown",
   "id": "acute-devon",
   "metadata": {},
   "source": [
    "### Test-train split"
   ]
  },
  {
   "cell_type": "code",
   "execution_count": 14,
   "id": "7b114776",
   "metadata": {},
   "outputs": [],
   "source": [
    "X = data.drop('Transported', axis='columns')\n",
    "y = data.Transported.astype('category').cat.codes\n",
    "X_train, X_test, y_train, y_test = train_test_split(X, y, stratify=y, test_size=0.3, random_state=123)"
   ]
  },
  {
   "cell_type": "code",
   "execution_count": 15,
   "id": "elect-camel",
   "metadata": {},
   "outputs": [
    {
     "data": {
      "text/plain": [
       "1    4378\n",
       "0    4315\n",
       "dtype: int64"
      ]
     },
     "execution_count": 15,
     "metadata": {},
     "output_type": "execute_result"
    }
   ],
   "source": [
    "y.value_counts()"
   ]
  },
  {
   "cell_type": "code",
   "execution_count": 16,
   "id": "collect-format",
   "metadata": {
    "scrolled": true
   },
   "outputs": [
    {
     "data": {
      "image/png": "[encoded data removed]",
      "text/plain": [
       "<Figure size 288x288 with 1 Axes>"
      ]
     },
     "metadata": {},
     "output_type": "display_data"
    }
   ],
   "source": [
    "fig, ax = plt.subplots(figsize=(4, 4))\n",
    "ax.pie(y_train.value_counts(), labels=[\"Transported\", \"Not transported\"], \n",
    "       autopct='%1.1f%%', startangle=60, colors=['mediumseagreen', 'silver'])\n",
    "plt.title(\"Proportion of passenger transported to another dimension\")\n",
    "plt.show()"
   ]
  },
  {
   "cell_type": "markdown",
   "id": "compliant-pearl",
   "metadata": {},
   "source": [
    "**Classes are balanced - no need to use oversampling or undersampling.**"
   ]
  },
  {
   "cell_type": "code",
   "execution_count": 17,
   "id": "fatal-satellite",
   "metadata": {},
   "outputs": [
    {
     "name": "stdout",
     "output_type": "stream",
     "text": [
      "<class 'pandas.core.frame.DataFrame'>\n",
      "Index: 6085 entries, 6926_01 to 8144_01\n",
      "Data columns (total 14 columns):\n",
      " #   Column        Non-Null Count  Dtype  \n",
      "---  ------        --------------  -----  \n",
      " 0   HomePlanet    5936 non-null   object \n",
      " 1   CryoSleep     5937 non-null   object \n",
      " 2   Destination   5970 non-null   object \n",
      " 3   Age           5965 non-null   float64\n",
      " 4   VIP           5958 non-null   object \n",
      " 5   RoomService   5959 non-null   float64\n",
      " 6   FoodCourt     5954 non-null   float64\n",
      " 7   ShoppingMall  5944 non-null   float64\n",
      " 8   Spa           5961 non-null   float64\n",
      " 9   VRDeck        5945 non-null   float64\n",
      " 10  Travel_alone  6085 non-null   bool   \n",
      " 11  Deck          5946 non-null   object \n",
      " 12  Cabin_num     5946 non-null   float64\n",
      " 13  Side          5946 non-null   object \n",
      "dtypes: bool(1), float64(7), object(6)\n",
      "memory usage: 671.5+ KB\n"
     ]
    }
   ],
   "source": [
    "X_train.info()"
   ]
  },
  {
   "cell_type": "markdown",
   "id": "6bdaca99",
   "metadata": {},
   "source": [
    "### Features analysis"
   ]
  },
  {
   "cell_type": "markdown",
   "id": "molecular-joining",
   "metadata": {},
   "source": [
    "#### Numerical features"
   ]
  },
  {
   "cell_type": "code",
   "execution_count": 18,
   "id": "nearby-horror",
   "metadata": {},
   "outputs": [
    {
     "data": {
      "image/png": "[encoded data removed]",
      "text/plain": [
       "<Figure size 1152x720 with 7 Axes>"
      ]
     },
     "metadata": {
      "needs_background": "light"
     },
     "output_type": "display_data"
    }
   ],
   "source": [
    "plt.figure(figsize=(16,10))\n",
    "\n",
    "plt.subplot(331)\n",
    "plt.hist(X_train.Age)\n",
    "plt.title(\"Age\")\n",
    "plt.subplot(332)\n",
    "plt.hist(X_train.RoomService)\n",
    "plt.title(\"RoomService\")\n",
    "plt.subplot(333)\n",
    "plt.hist(X_train.FoodCourt)\n",
    "plt.title(\"FoodCourt\")\n",
    "plt.subplot(334)\n",
    "plt.hist(X_train.ShoppingMall)\n",
    "plt.title(\"ShoppingMall\")\n",
    "plt.subplot(335)\n",
    "plt.hist(X_train.Spa)\n",
    "plt.title(\"Spa\")\n",
    "plt.subplot(336)\n",
    "plt.hist(X_train.VRDeck)\n",
    "plt.title(\"VRDeck\")\n",
    "plt.subplot(337)\n",
    "plt.hist(X_train.Cabin_num)\n",
    "plt.title(\"Cabin_num\")\n",
    "\n",
    "plt.show()"
   ]
  },
  {
   "cell_type": "code",
   "execution_count": 19,
   "id": "integral-greenhouse",
   "metadata": {},
   "outputs": [
    {
     "data": {
      "text/html": [
       "<div>\n",
       "<style scoped>\n",
       "    .dataframe tbody tr th:only-of-type {\n",
       "        vertical-align: middle;\n",
       "    }\n",
       "\n",
       "    .dataframe tbody tr th {\n",
       "        vertical-align: top;\n",
       "    }\n",
       "\n",
       "    .dataframe thead th {\n",
       "        text-align: right;\n",
       "    }\n",
       "</style>\n",
       "<table border=\"1\" class=\"dataframe\">\n",
       "  <thead>\n",
       "    <tr style=\"text-align: right;\">\n",
       "      <th></th>\n",
       "      <th>Age</th>\n",
       "      <th>RoomService</th>\n",
       "      <th>FoodCourt</th>\n",
       "      <th>ShoppingMall</th>\n",
       "      <th>Spa</th>\n",
       "      <th>VRDeck</th>\n",
       "      <th>Cabin_num</th>\n",
       "    </tr>\n",
       "  </thead>\n",
       "  <tbody>\n",
       "    <tr>\n",
       "      <th>count</th>\n",
       "      <td>5965.00</td>\n",
       "      <td>5959.00</td>\n",
       "      <td>5954.00</td>\n",
       "      <td>5944.00</td>\n",
       "      <td>5961.00</td>\n",
       "      <td>5945.00</td>\n",
       "      <td>5946.00</td>\n",
       "    </tr>\n",
       "    <tr>\n",
       "      <th>mean</th>\n",
       "      <td>28.82</td>\n",
       "      <td>224.49</td>\n",
       "      <td>469.73</td>\n",
       "      <td>180.44</td>\n",
       "      <td>315.77</td>\n",
       "      <td>298.64</td>\n",
       "      <td>598.66</td>\n",
       "    </tr>\n",
       "    <tr>\n",
       "      <th>std</th>\n",
       "      <td>14.48</td>\n",
       "      <td>654.59</td>\n",
       "      <td>1668.66</td>\n",
       "      <td>646.75</td>\n",
       "      <td>1167.27</td>\n",
       "      <td>1125.65</td>\n",
       "      <td>511.58</td>\n",
       "    </tr>\n",
       "    <tr>\n",
       "      <th>min</th>\n",
       "      <td>0.00</td>\n",
       "      <td>0.00</td>\n",
       "      <td>0.00</td>\n",
       "      <td>0.00</td>\n",
       "      <td>0.00</td>\n",
       "      <td>0.00</td>\n",
       "      <td>0.00</td>\n",
       "    </tr>\n",
       "    <tr>\n",
       "      <th>25%</th>\n",
       "      <td>19.00</td>\n",
       "      <td>0.00</td>\n",
       "      <td>0.00</td>\n",
       "      <td>0.00</td>\n",
       "      <td>0.00</td>\n",
       "      <td>0.00</td>\n",
       "      <td>166.00</td>\n",
       "    </tr>\n",
       "    <tr>\n",
       "      <th>50%</th>\n",
       "      <td>27.00</td>\n",
       "      <td>0.00</td>\n",
       "      <td>0.00</td>\n",
       "      <td>0.00</td>\n",
       "      <td>0.00</td>\n",
       "      <td>0.00</td>\n",
       "      <td>420.00</td>\n",
       "    </tr>\n",
       "    <tr>\n",
       "      <th>75%</th>\n",
       "      <td>37.00</td>\n",
       "      <td>56.50</td>\n",
       "      <td>82.00</td>\n",
       "      <td>30.00</td>\n",
       "      <td>58.00</td>\n",
       "      <td>47.00</td>\n",
       "      <td>1004.00</td>\n",
       "    </tr>\n",
       "    <tr>\n",
       "      <th>max</th>\n",
       "      <td>79.00</td>\n",
       "      <td>14327.00</td>\n",
       "      <td>29813.00</td>\n",
       "      <td>23492.00</td>\n",
       "      <td>18572.00</td>\n",
       "      <td>24133.00</td>\n",
       "      <td>1894.00</td>\n",
       "    </tr>\n",
       "  </tbody>\n",
       "</table>\n",
       "</div>"
      ],
      "text/plain": [
       "           Age  RoomService  FoodCourt  ShoppingMall       Spa    VRDeck  \\\n",
       "count  5965.00      5959.00    5954.00       5944.00   5961.00   5945.00   \n",
       "mean     28.82       224.49     469.73        180.44    315.77    298.64   \n",
       "std      14.48       654.59    1668.66        646.75   1167.27   1125.65   \n",
       "min       0.00         0.00       0.00          0.00      0.00      0.00   \n",
       "25%      19.00         0.00       0.00          0.00      0.00      0.00   \n",
       "50%      27.00         0.00       0.00          0.00      0.00      0.00   \n",
       "75%      37.00        56.50      82.00         30.00     58.00     47.00   \n",
       "max      79.00     14327.00   29813.00      23492.00  18572.00  24133.00   \n",
       "\n",
       "       Cabin_num  \n",
       "count    5946.00  \n",
       "mean      598.66  \n",
       "std       511.58  \n",
       "min         0.00  \n",
       "25%       166.00  \n",
       "50%       420.00  \n",
       "75%      1004.00  \n",
       "max      1894.00  "
      ]
     },
     "execution_count": 19,
     "metadata": {},
     "output_type": "execute_result"
    }
   ],
   "source": [
    "X_train.describe().round(2)"
   ]
  },
  {
   "cell_type": "markdown",
   "id": "incorporate-scroll",
   "metadata": {},
   "source": [
    "##### Age\n",
    "\n",
    "- 125 records in 'Age' with value 0 - will be treated as children under 1 year of age and not treated as an mistake.\n",
    "- 120 records NA (vs. 6085 all values) - will be replace by median"
   ]
  },
  {
   "cell_type": "code",
   "execution_count": 20,
   "id": "sitting-maker",
   "metadata": {},
   "outputs": [
    {
     "data": {
      "text/plain": [
       "(0.0, 79.0)"
      ]
     },
     "execution_count": 20,
     "metadata": {},
     "output_type": "execute_result"
    }
   ],
   "source": [
    "X_train.Age.min(), X_train.Age.max()"
   ]
  },
  {
   "cell_type": "code",
   "execution_count": 21,
   "id": "searching-freeze",
   "metadata": {},
   "outputs": [
    {
     "data": {
      "text/plain": [
       "Age\n",
       "0.0    125\n",
       "dtype: int64"
      ]
     },
     "execution_count": 21,
     "metadata": {},
     "output_type": "execute_result"
    }
   ],
   "source": [
    "X_train.loc[X_train['Age']<1, ['Age']].value_counts()"
   ]
  },
  {
   "cell_type": "code",
   "execution_count": 22,
   "id": "center-lending",
   "metadata": {},
   "outputs": [
    {
     "data": {
      "text/plain": [
       "(120, 6085)"
      ]
     },
     "execution_count": 22,
     "metadata": {},
     "output_type": "execute_result"
    }
   ],
   "source": [
    "X_train.Age.isna().sum(), X_train.Age.shape[0]"
   ]
  },
  {
   "cell_type": "markdown",
   "id": "resident-arkansas",
   "metadata": {},
   "source": [
    "##### RoomService, FoodCourt, ShoppingMall, Spa, VRDeck\n",
    "\n",
    "Summary:\n",
    "- Based on histograms and data description (above) and comparison (below), all of those features have the same structure: more than 50% of values are 0, 9-14% of values are rare (only single occurance). Therefore, the indicated features will be converted into categorical variables with three categories: 'zero', 'medium', 'rare'\n",
    "- NA values will be added to 'zero' category (most frequent category)"
   ]
  },
  {
   "cell_type": "code",
   "execution_count": 23,
   "id": "funded-coverage",
   "metadata": {},
   "outputs": [
    {
     "name": "stdout",
     "output_type": "stream",
     "text": [
      "\n",
      "Comparison - percentage and quantity - 0 and rare values (single occurrence)\n"
     ]
    },
    {
     "data": {
      "text/html": [
       "<div>\n",
       "<style scoped>\n",
       "    .dataframe tbody tr th:only-of-type {\n",
       "        vertical-align: middle;\n",
       "    }\n",
       "\n",
       "    .dataframe tbody tr th {\n",
       "        vertical-align: top;\n",
       "    }\n",
       "\n",
       "    .dataframe thead th {\n",
       "        text-align: right;\n",
       "    }\n",
       "</style>\n",
       "<table border=\"1\" class=\"dataframe\">\n",
       "  <thead>\n",
       "    <tr style=\"text-align: right;\">\n",
       "      <th></th>\n",
       "      <th>RoomService</th>\n",
       "      <th>FoodCourt</th>\n",
       "      <th>ShoppingMall</th>\n",
       "      <th>Spa</th>\n",
       "      <th>VRDeck</th>\n",
       "    </tr>\n",
       "  </thead>\n",
       "  <tbody>\n",
       "    <tr>\n",
       "      <th>% of 0</th>\n",
       "      <td>0.65</td>\n",
       "      <td>0.64</td>\n",
       "      <td>0.65</td>\n",
       "      <td>0.63</td>\n",
       "      <td>0.64</td>\n",
       "    </tr>\n",
       "    <tr>\n",
       "      <th>amount of 0</th>\n",
       "      <td>3870.00</td>\n",
       "      <td>3788.00</td>\n",
       "      <td>3891.00</td>\n",
       "      <td>3737.00</td>\n",
       "      <td>3823.00</td>\n",
       "    </tr>\n",
       "    <tr>\n",
       "      <th>% of rare values</th>\n",
       "      <td>0.11</td>\n",
       "      <td>0.14</td>\n",
       "      <td>0.09</td>\n",
       "      <td>0.12</td>\n",
       "      <td>0.11</td>\n",
       "    </tr>\n",
       "    <tr>\n",
       "      <th>amount of rare values</th>\n",
       "      <td>669.00</td>\n",
       "      <td>854.00</td>\n",
       "      <td>561.00</td>\n",
       "      <td>702.00</td>\n",
       "      <td>671.00</td>\n",
       "    </tr>\n",
       "    <tr>\n",
       "      <th>NA</th>\n",
       "      <td>126.00</td>\n",
       "      <td>131.00</td>\n",
       "      <td>141.00</td>\n",
       "      <td>124.00</td>\n",
       "      <td>140.00</td>\n",
       "    </tr>\n",
       "  </tbody>\n",
       "</table>\n",
       "</div>"
      ],
      "text/plain": [
       "                       RoomService  FoodCourt  ShoppingMall      Spa   VRDeck\n",
       "% of 0                        0.65       0.64          0.65     0.63     0.64\n",
       "amount of 0                3870.00    3788.00       3891.00  3737.00  3823.00\n",
       "% of rare values              0.11       0.14          0.09     0.12     0.11\n",
       "amount of rare values       669.00     854.00        561.00   702.00   671.00\n",
       "NA                          126.00     131.00        141.00   124.00   140.00"
      ]
     },
     "execution_count": 23,
     "metadata": {},
     "output_type": "execute_result"
    }
   ],
   "source": [
    "print(\"\\nComparison - percentage and quantity - 0 and rare values (single occurrence)\")\n",
    "table = {}\n",
    "num_to_cat_features = ['RoomService', 'FoodCourt', 'ShoppingMall', 'Spa', 'VRDeck']  \n",
    "rows = ['% of 0', 'amount of 0', '% of rare values','amount of rare values', \"NA\"]\n",
    "for column in X_train[num_to_cat_features]:\n",
    "    table.update({column: [X_train[column].value_counts(normalize=True)[0].round(2),\n",
    "                          X_train[column].value_counts()[0],\n",
    "                          ((X_train[column].value_counts() <= 1).sum() / X_train[column].count()).round(2),\n",
    "                          (X_train[column].value_counts() <= 1).sum(),\n",
    "                          X_train[column].isna().sum()\n",
    "    ]})\n",
    "pd.DataFrame(table, index=rows)"
   ]
  },
  {
   "cell_type": "markdown",
   "id": "fossil-heather",
   "metadata": {},
   "source": [
    "##### Cabin_num\n",
    "\n",
    "- 139 NA records NA (vs. 6085 all values) - will be replace by median\n",
    "- Some Cabins have the number \"0\" - recognize that this is not a mistake"
   ]
  },
  {
   "cell_type": "code",
   "execution_count": 24,
   "id": "classified-differential",
   "metadata": {
    "scrolled": false
   },
   "outputs": [
    {
     "data": {
      "text/plain": [
       "NaN       139\n",
       "82.0       21\n",
       "86.0       18\n",
       "19.0       17\n",
       "59.0       16\n",
       "         ... \n",
       "1303.0      1\n",
       "1853.0      1\n",
       "824.0       1\n",
       "764.0       1\n",
       "1207.0      1\n",
       "Name: Cabin_num, Length: 1691, dtype: int64"
      ]
     },
     "execution_count": 24,
     "metadata": {},
     "output_type": "execute_result"
    }
   ],
   "source": [
    "X_train.Cabin_num.value_counts(dropna=False)"
   ]
  },
  {
   "cell_type": "code",
   "execution_count": 25,
   "id": "divine-pennsylvania",
   "metadata": {},
   "outputs": [
    {
     "data": {
      "text/plain": [
       "(139, 6085)"
      ]
     },
     "execution_count": 25,
     "metadata": {},
     "output_type": "execute_result"
    }
   ],
   "source": [
    "X_train.Cabin_num.isna().sum(), X_train.Cabin_num.shape[0]"
   ]
  },
  {
   "cell_type": "code",
   "execution_count": 26,
   "id": "closed-soviet",
   "metadata": {},
   "outputs": [
    {
     "data": {
      "text/plain": [
       "Side  Deck  Cabin_num\n",
       "S     E     0.0          3\n",
       "P     A     0.0          1\n",
       "      B     0.0          1\n",
       "      C     0.0          1\n",
       "      D     0.0          1\n",
       "      F     0.0          1\n",
       "      G     0.0          1\n",
       "S     F     0.0          1\n",
       "      G     0.0          1\n",
       "dtype: int64"
      ]
     },
     "execution_count": 26,
     "metadata": {},
     "output_type": "execute_result"
    }
   ],
   "source": [
    "X_train.loc[X_train['Cabin_num']==0, ['Side', 'Deck','Cabin_num']].value_counts()"
   ]
  },
  {
   "cell_type": "markdown",
   "id": "brave-draft",
   "metadata": {},
   "source": [
    "#### Categorical features"
   ]
  },
  {
   "cell_type": "code",
   "execution_count": 27,
   "id": "isolated-universal",
   "metadata": {},
   "outputs": [
    {
     "data": {
      "image/png": "[encoded data removed]",
      "text/plain": [
       "<Figure size 1152x576 with 6 Axes>"
      ]
     },
     "metadata": {},
     "output_type": "display_data"
    }
   ],
   "source": [
    "plt.figure(figsize=(16,8))\n",
    "plt.subplot(231)\n",
    "X_train['HomePlanet'].value_counts(dropna=False).plot(kind='pie', autopct='%1.1f%%', legend=False)\n",
    "plt.title(\"HomePlanet\")\n",
    "plt.subplot(232)\n",
    "X_train['CryoSleep'].value_counts(dropna=False).plot(kind='pie', autopct='%1.1f%%', legend=False)\n",
    "plt.title(\"CryoSleep\")\n",
    "plt.subplot(233)\n",
    "X_train['Destination'].value_counts(dropna=False).plot(kind='pie', autopct='%1.1f%%', legend=False)\n",
    "plt.title(\"Destination\")\n",
    "plt.subplot(234)\n",
    "X_train['VIP'].value_counts(dropna=False).plot(kind='pie', autopct='%1.1f%%', legend=False)\n",
    "plt.title(\"VIP\")\n",
    "plt.subplot(235)\n",
    "X_train['Travel_alone'].value_counts(dropna=False).plot(kind='pie', autopct='%1.1f%%', legend=False)\n",
    "plt.title(\"Travel_alone\")\n",
    "plt.subplot(236)\n",
    "X_train['Side'].value_counts(dropna=False).plot(kind='pie', autopct='%1.1f%%', legend=False)\n",
    "plt.title(\"Side\")\n",
    "\n",
    "plt.show()"
   ]
  },
  {
   "cell_type": "markdown",
   "id": "broke-wilderness",
   "metadata": {},
   "source": [
    "##### HomePlanet, CryoSleep, Destination, VIP, Travel_alone, Side\n",
    "\n",
    "\n",
    "- combine the NA values with the most common category\n",
    "- feature \"Travel_alone\" has no NA values "
   ]
  },
  {
   "cell_type": "markdown",
   "id": "taken-storage",
   "metadata": {},
   "source": [
    "HomePlanet "
   ]
  },
  {
   "cell_type": "code",
   "execution_count": 28,
   "id": "veterinary-novel",
   "metadata": {
    "scrolled": true
   },
   "outputs": [
    {
     "data": {
      "text/plain": [
       "Earth     3217\n",
       "Europa    1494\n",
       "Mars      1225\n",
       "NaN        149\n",
       "Name: HomePlanet, dtype: int64"
      ]
     },
     "execution_count": 28,
     "metadata": {},
     "output_type": "execute_result"
    }
   ],
   "source": [
    "X_train.HomePlanet.value_counts(dropna=False)"
   ]
  },
  {
   "cell_type": "markdown",
   "id": "matched-rapid",
   "metadata": {},
   "source": [
    "CryoSleep"
   ]
  },
  {
   "cell_type": "code",
   "execution_count": 29,
   "id": "concerned-miniature",
   "metadata": {
    "scrolled": true
   },
   "outputs": [
    {
     "data": {
      "text/plain": [
       "False    3839\n",
       "True     2098\n",
       "NaN       148\n",
       "Name: CryoSleep, dtype: int64"
      ]
     },
     "execution_count": 29,
     "metadata": {},
     "output_type": "execute_result"
    }
   ],
   "source": [
    "X_train.CryoSleep.value_counts(dropna=False)"
   ]
  },
  {
   "cell_type": "markdown",
   "id": "seven-surname",
   "metadata": {},
   "source": [
    "Destination\n",
    "\n",
    "- the percentage comparison against the target does not give an unambiguous assignment for the NA value. Therefore, NaN values will be assigned to the most common category"
   ]
  },
  {
   "cell_type": "code",
   "execution_count": 30,
   "id": "sublime-bracket",
   "metadata": {},
   "outputs": [
    {
     "data": {
      "text/plain": [
       "TRAPPIST-1e      4168\n",
       "55 Cancri e      1235\n",
       "PSO J318.5-22     567\n",
       "NaN               115\n",
       "Name: Destination, dtype: int64"
      ]
     },
     "execution_count": 30,
     "metadata": {},
     "output_type": "execute_result"
    }
   ],
   "source": [
    "X_train.Destination.value_counts(dropna=False)"
   ]
  },
  {
   "cell_type": "markdown",
   "id": "scenic-circuit",
   "metadata": {},
   "source": [
    "VIP\n"
   ]
  },
  {
   "cell_type": "code",
   "execution_count": 31,
   "id": "spanish-bunny",
   "metadata": {},
   "outputs": [
    {
     "data": {
      "text/plain": [
       "False    5815\n",
       "True      143\n",
       "NaN       127\n",
       "Name: VIP, dtype: int64"
      ]
     },
     "execution_count": 31,
     "metadata": {},
     "output_type": "execute_result"
    }
   ],
   "source": [
    "X_train.VIP.value_counts(dropna=False)"
   ]
  },
  {
   "cell_type": "markdown",
   "id": "serious-apparel",
   "metadata": {},
   "source": [
    "Travel alone\n",
    "- no NA values - feature derived from \"PassengerId\""
   ]
  },
  {
   "cell_type": "code",
   "execution_count": 32,
   "id": "rental-greek",
   "metadata": {
    "scrolled": true
   },
   "outputs": [
    {
     "data": {
      "text/plain": [
       "True     3373\n",
       "False    2712\n",
       "Name: Travel_alone, dtype: int64"
      ]
     },
     "execution_count": 32,
     "metadata": {},
     "output_type": "execute_result"
    }
   ],
   "source": [
    "X_train.Travel_alone.value_counts(dropna=False)"
   ]
  },
  {
   "cell_type": "markdown",
   "id": "corrected-values",
   "metadata": {},
   "source": [
    " Side"
   ]
  },
  {
   "cell_type": "code",
   "execution_count": 33,
   "id": "serious-unemployment",
   "metadata": {
    "scrolled": false
   },
   "outputs": [
    {
     "data": {
      "text/plain": [
       "S      2987\n",
       "P      2959\n",
       "NaN     139\n",
       "Name: Side, dtype: int64"
      ]
     },
     "execution_count": 33,
     "metadata": {},
     "output_type": "execute_result"
    }
   ],
   "source": [
    "X_train.Side.value_counts(dropna=False)"
   ]
  },
  {
   "cell_type": "code",
   "execution_count": 34,
   "id": "behind-protest",
   "metadata": {},
   "outputs": [
    {
     "data": {
      "text/plain": [
       "Side\n",
       "P      0.453870\n",
       "S      0.556076\n",
       "NaN    0.438849\n",
       "dtype: float64"
      ]
     },
     "execution_count": 34,
     "metadata": {},
     "output_type": "execute_result"
    }
   ],
   "source": [
    "y_train.groupby(X_train.Side, dropna=False).mean()"
   ]
  },
  {
   "cell_type": "markdown",
   "id": "brave-fellow",
   "metadata": {},
   "source": [
    "##### Deck\n",
    "\n",
    "- 139 NA values\n",
    "- Decks are not signed to side of the spaceship (\"Side\")\n",
    "\n",
    "- The T deck with only 2 passengers assigned (capitan's cabin?) will also be assigned to the \"infrequent\" category\n",
    "- 9 categories (with NA category). Some of the categories frequency are below 500  - aggregate smaller decks into one (OneHotEncoder, param: min_categoies = 500)\n",
    "- The NA values will also be asigned as \"infrequent\" "
   ]
  },
  {
   "cell_type": "code",
   "execution_count": 35,
   "id": "unknown-trunk",
   "metadata": {
    "scrolled": false
   },
   "outputs": [
    {
     "data": {
      "text/plain": [
       "Side  Deck\n",
       "P     A        77\n",
       "      B       253\n",
       "      C       227\n",
       "      D       192\n",
       "      E       302\n",
       "      F       977\n",
       "      G       929\n",
       "      T         2\n",
       "S     A        98\n",
       "      B       304\n",
       "      C       284\n",
       "      D       154\n",
       "      E       308\n",
       "      F       947\n",
       "      G       892\n",
       "dtype: int64"
      ]
     },
     "execution_count": 35,
     "metadata": {},
     "output_type": "execute_result"
    }
   ],
   "source": [
    "X_train.groupby(['Side', 'Deck']).size()"
   ]
  },
  {
   "cell_type": "code",
   "execution_count": 36,
   "id": "fifth-source",
   "metadata": {},
   "outputs": [
    {
     "data": {
      "text/plain": [
       "F      1924\n",
       "G      1821\n",
       "E       610\n",
       "B       557\n",
       "C       511\n",
       "D       346\n",
       "A       175\n",
       "NaN     139\n",
       "T         2\n",
       "Name: Deck, dtype: int64"
      ]
     },
     "execution_count": 36,
     "metadata": {},
     "output_type": "execute_result"
    }
   ],
   "source": [
    "X_train.Deck.value_counts(dropna=False)"
   ]
  },
  {
   "cell_type": "code",
   "execution_count": 37,
   "id": "meaning-marble",
   "metadata": {},
   "outputs": [
    {
     "data": {
      "text/plain": [
       "F      0.316187\n",
       "G      0.299260\n",
       "E      0.100247\n",
       "B      0.091537\n",
       "C      0.083977\n",
       "D      0.056861\n",
       "A      0.028759\n",
       "NaN    0.022843\n",
       "T      0.000329\n",
       "Name: Deck, dtype: float64"
      ]
     },
     "execution_count": 37,
     "metadata": {},
     "output_type": "execute_result"
    }
   ],
   "source": [
    "X_train.Deck.value_counts(dropna=False, normalize=True)"
   ]
  },
  {
   "cell_type": "code",
   "execution_count": 38,
   "id": "altered-flower",
   "metadata": {},
   "outputs": [
    {
     "data": {
      "text/plain": [
       "count     5946\n",
       "unique       8\n",
       "top          F\n",
       "freq      1924\n",
       "Name: Deck, dtype: object"
      ]
     },
     "execution_count": 38,
     "metadata": {},
     "output_type": "execute_result"
    }
   ],
   "source": [
    "X_train.Deck.describe()"
   ]
  },
  {
   "cell_type": "code",
   "execution_count": 39,
   "id": "native-boundary",
   "metadata": {
    "scrolled": true
   },
   "outputs": [
    {
     "data": {
      "text/plain": [
       "Deck\n",
       "A      0.502857\n",
       "B      0.755835\n",
       "C      0.669276\n",
       "D      0.421965\n",
       "E      0.370492\n",
       "F      0.441268\n",
       "G      0.511258\n",
       "T      0.500000\n",
       "NaN    0.438849\n",
       "dtype: float64"
      ]
     },
     "execution_count": 39,
     "metadata": {},
     "output_type": "execute_result"
    }
   ],
   "source": [
    "y_train.groupby(X_train.Deck, dropna=False).mean()"
   ]
  },
  {
   "cell_type": "code",
   "execution_count": null,
   "id": "distant-ireland",
   "metadata": {},
   "outputs": [],
   "source": []
  },
  {
   "cell_type": "markdown",
   "id": "furnished-philosophy",
   "metadata": {},
   "source": [
    "## Feature preprocesing\n",
    "\n",
    "- the remaining columns will be divided into groups depending on what functions will be performed on them\n",
    "- "
   ]
  },
  {
   "cell_type": "markdown",
   "id": "breathing-smell",
   "metadata": {},
   "source": [
    "opisujemy dlaczego nie używamy feature selection - chyba że będzie dużo cech \n",
    "- chcemy docelowo (feature importance + pca) mieć poniżej 10 cech"
   ]
  },
  {
   "cell_type": "code",
   "execution_count": 40,
   "id": "proper-clause",
   "metadata": {},
   "outputs": [],
   "source": [
    "num_features = ['Age', 'Cabin_num']\n",
    "narrow_cat_features = ['HomePlanet', 'CryoSleep', 'Destination', 'VIP', 'Side', 'Travel_alone']\n",
    "multi_cat_features = ['Deck'] \n",
    "num_to_cat_features = ['RoomService', 'FoodCourt', 'ShoppingMall', 'Spa', 'VRDeck']  \n",
    "\n",
    "\n",
    "multi_cat_frequency = 500\n"
   ]
  },
  {
   "cell_type": "markdown",
   "id": "announced-sandwich",
   "metadata": {},
   "source": [
    "OneHotEncoder(handle_unknown=\"ignore\") - for cat_features - bo nie spodziewamy się innych kategorii - przeanalizować i opisać\n"
   ]
  },
  {
   "cell_type": "code",
   "execution_count": 41,
   "id": "controlled-trinity",
   "metadata": {},
   "outputs": [],
   "source": [
    "class RareAndNotRareAggregator(BaseEstimator, TransformerMixin):\n",
    "    \n",
    "    def __init__(self, threshold=1, not_rare_raplace = 'medium', rare_replace ='rare'):\n",
    "        self._validate_threshold(threshold)\n",
    "        self.threshold = threshold\n",
    "        self.rare_replace = rare_replace\n",
    "        self.not_rare_raplace = not_rare_raplace\n",
    "    \n",
    "    def fit(self, X, y=None):\n",
    "        self.most_frequent_val_ = {}\n",
    "        self.most_frequent_val_with_zeros_ = {}\n",
    "        if isinstance(X, np.ndarray):\n",
    "            X = pd.DataFrame(X)\n",
    "        \n",
    "        for col in X.columns:\n",
    "            counts = X[col].value_counts()[1:]\n",
    "            counts_with_zero = X[col].value_counts()\n",
    "            self.most_frequent_val_[col] = set(counts.index[counts > self.threshold])\n",
    "            self.most_frequent_val_with_zeros_[col] = set(counts_with_zero.index[counts_with_zero > self.threshold])\n",
    "        return self\n",
    "    \n",
    "    def transform(self, X):\n",
    "        if isinstance(X, np.ndarray):\n",
    "            X = pd.DataFrame(X)\n",
    "        X_copy = X.copy()\n",
    "\n",
    "        for col in X_copy.columns:\n",
    "                where_rare = ~X_copy[col].isin(self.most_frequent_val_with_zeros_[col])\n",
    "                self._warn_if_only_rare(X, where_rare, col) \n",
    "                X_copy[col][where_rare] = self.rare_replace\n",
    "                where_not_rare = X_copy[col].isin(self.most_frequent_val_[col])\n",
    "                X_copy[col][where_not_rare] = self.not_rare_raplace\n",
    "\n",
    "        if isinstance(X, np.ndarray):\n",
    "            return X_copy.values\n",
    "        else:\n",
    "            return X_copy\n",
    "        \n",
    "    def _validate_threshold(self, threshold):\n",
    "        if not isinstance(threshold, int):\n",
    "            raise ValueError(\"Argument 'threshold' must be a intiger.\")\n",
    "        if threshold < 0:\n",
    "            raise ValueError(\"Argument 'threshold' must be positive.\")\n",
    "    \n",
    "    def _warn_if_only_rare(self, X, where_rare, col):\n",
    "        if X.shape[0] > 1 and np.all(where_rare):\n",
    "            warnings.warn(\n",
    "                f\"There were only rare values incolumns '{col}' - all values where replaced.\")"
   ]
  },
  {
   "cell_type": "code",
   "execution_count": 42,
   "id": "sharp-buffer",
   "metadata": {},
   "outputs": [],
   "source": [
    "class ZeroValuesAggregator(BaseEstimator, TransformerMixin):\n",
    "    \n",
    "    def __init__(self, threshold_for_zero=0.5, zero_replace='zero'):\n",
    "        self.threshold_for_zero = threshold_for_zero\n",
    "        self.zero_replace= zero_replace\n",
    "        self._validate_threshold(threshold_for_zero)\n",
    "        \n",
    "           \n",
    "    def fit(self, X, y=None):\n",
    "        self.zero_values_ = {}\n",
    "        if isinstance(X, np.ndarray):\n",
    "            X = pd.DataFrame(X)  \n",
    "        for col in X.columns:\n",
    "            if self.threshold_for_zero < X[col].value_counts(normalize=True)[0]:\n",
    "                self.zero_values_[col] = [0,]\n",
    "            else:\n",
    "                raise ValueError(f\"The occurrence of the value 0 in the column {col} is insufficient.\")\n",
    "        return self\n",
    "    \n",
    "    def transform(self, X):\n",
    "        if isinstance(X, np.ndarray):\n",
    "            X = pd.DataFrame(X)\n",
    "        X_copy = X.copy()\n",
    "        for col in X_copy.columns:\n",
    "            where_zero = X_copy[col].isin(self.zero_values_[col])\n",
    "            X_copy[col][where_zero] = self.zero_replace\n",
    "        if isinstance(X, np.ndarray):\n",
    "            return X_copy.values\n",
    "        else:\n",
    "            return X_copy\n",
    "        \n",
    "    def _validate_threshold(self, threshold_for_zero):\n",
    "        if not isinstance(threshold_for_zero, float):\n",
    "            raise ValueError(\"Argument 'threshold_for_zero' must be float\")\n",
    "        if threshold_for_zero < 0:\n",
    "            raise ValueError(\"Argument 'threshold' must be positive.\")\n",
    "           "
   ]
  },
  {
   "cell_type": "code",
   "execution_count": 43,
   "id": "alternative-bookmark",
   "metadata": {},
   "outputs": [],
   "source": [
    "numerical_pipe = Pipeline([\n",
    "    (\"numerical_simple_imputer\", SimpleImputer(strategy=\"median\")),\n",
    "    (\"scaler\", StandardScaler())\n",
    "])\n",
    "\n",
    "narrow_categorical_pipe = Pipeline([\n",
    "    (\"narrow_simple_imputer\", SimpleImputer(strategy=\"most_frequent\")),\n",
    "    (\"narrow_one_hot_encoder\", OneHotEncoder(handle_unknown=\"ignore\", drop='first'))\n",
    "])\n",
    "\n",
    "multi_categorical_pipe = Pipeline([\n",
    "    (\"multi_one_hot_encoder\", OneHotEncoder(handle_unknown=\"infrequent_if_exist\", \n",
    "                                      min_frequency=multi_cat_frequency, drop=\"first\"))\n",
    "])\n",
    "\n",
    "num_to_cat_pipe = Pipeline([\n",
    "    (\"simple_imputer\", SimpleImputer(strategy=\"constant\", fill_value=0)),\n",
    "    (\"rare_val_aggregator\", RareAndNotRareAggregator()),\n",
    "    (\"zero_value_aggregator\", ZeroValuesAggregator()),\n",
    "    (\"num_to_cat_one_hot_encoder\", OneHotEncoder(handle_unknown=\"infrequent_if_exist\", drop='first'))\n",
    "])"
   ]
  },
  {
   "cell_type": "code",
   "execution_count": 44,
   "id": "surgical-roots",
   "metadata": {},
   "outputs": [],
   "source": [
    "preprocessor = ColumnTransformer([\n",
    "        (\"numerical\", numerical_pipe, num_features),\n",
    "        (\"narrow_categorical\", narrow_categorical_pipe, narrow_cat_features),\n",
    "        (\"multi_categorical\", multi_categorical_pipe, multi_cat_features),\n",
    "        (\"num_to_categorical\", num_to_cat_pipe, num_to_cat_features)\n",
    "    ], remainder=\"drop\", n_jobs=-1\n",
    ")"
   ]
  },
  {
   "cell_type": "code",
   "execution_count": 45,
   "id": "covered-southeast",
   "metadata": {},
   "outputs": [
    {
     "data": {
      "text/html": [
       "<style>#sk-container-id-1 {color: black;background-color: white;}#sk-container-id-1 pre{padding: 0;}#sk-container-id-1 div.sk-toggleable {background-color: white;}#sk-container-id-1 label.sk-toggleable__label {cursor: pointer;display: block;width: 100%;margin-bottom: 0;padding: 0.3em;box-sizing: border-box;text-align: center;}#sk-container-id-1 label.sk-toggleable__label-arrow:before {content: \"▸\";float: left;margin-right: 0.25em;color: #696969;}#sk-container-id-1 label.sk-toggleable__label-arrow:hover:before {color: black;}#sk-container-id-1 div.sk-estimator:hover label.sk-toggleable__label-arrow:before {color: black;}#sk-container-id-1 div.sk-toggleable__content {max-height: 0;max-width: 0;overflow: hidden;text-align: left;background-color: #f0f8ff;}#sk-container-id-1 div.sk-toggleable__content pre {margin: 0.2em;color: black;border-radius: 0.25em;background-color: #f0f8ff;}#sk-container-id-1 input.sk-toggleable__control:checked~div.sk-toggleable__content {max-height: 200px;max-width: 100%;overflow: auto;}#sk-container-id-1 input.sk-toggleable__control:checked~label.sk-toggleable__label-arrow:before {content: \"▾\";}#sk-container-id-1 div.sk-estimator input.sk-toggleable__control:checked~label.sk-toggleable__label {background-color: #d4ebff;}#sk-container-id-1 div.sk-label input.sk-toggleable__control:checked~label.sk-toggleable__label {background-color: #d4ebff;}#sk-container-id-1 input.sk-hidden--visually {border: 0;clip: rect(1px 1px 1px 1px);clip: rect(1px, 1px, 1px, 1px);height: 1px;margin: -1px;overflow: hidden;padding: 0;position: absolute;width: 1px;}#sk-container-id-1 div.sk-estimator {font-family: monospace;background-color: #f0f8ff;border: 1px dotted black;border-radius: 0.25em;box-sizing: border-box;margin-bottom: 0.5em;}#sk-container-id-1 div.sk-estimator:hover {background-color: #d4ebff;}#sk-container-id-1 div.sk-parallel-item::after {content: \"\";width: 100%;border-bottom: 1px solid gray;flex-grow: 1;}#sk-container-id-1 div.sk-label:hover label.sk-toggleable__label {background-color: #d4ebff;}#sk-container-id-1 div.sk-serial::before {content: \"\";position: absolute;border-left: 1px solid gray;box-sizing: border-box;top: 0;bottom: 0;left: 50%;z-index: 0;}#sk-container-id-1 div.sk-serial {display: flex;flex-direction: column;align-items: center;background-color: white;padding-right: 0.2em;padding-left: 0.2em;position: relative;}#sk-container-id-1 div.sk-item {position: relative;z-index: 1;}#sk-container-id-1 div.sk-parallel {display: flex;align-items: stretch;justify-content: center;background-color: white;position: relative;}#sk-container-id-1 div.sk-item::before, #sk-container-id-1 div.sk-parallel-item::before {content: \"\";position: absolute;border-left: 1px solid gray;box-sizing: border-box;top: 0;bottom: 0;left: 50%;z-index: -1;}#sk-container-id-1 div.sk-parallel-item {display: flex;flex-direction: column;z-index: 1;position: relative;background-color: white;}#sk-container-id-1 div.sk-parallel-item:first-child::after {align-self: flex-end;width: 50%;}#sk-container-id-1 div.sk-parallel-item:last-child::after {align-self: flex-start;width: 50%;}#sk-container-id-1 div.sk-parallel-item:only-child::after {width: 0;}#sk-container-id-1 div.sk-dashed-wrapped {border: 1px dashed gray;margin: 0 0.4em 0.5em 0.4em;box-sizing: border-box;padding-bottom: 0.4em;background-color: white;}#sk-container-id-1 div.sk-label label {font-family: monospace;font-weight: bold;display: inline-block;line-height: 1.2em;}#sk-container-id-1 div.sk-label-container {text-align: center;}#sk-container-id-1 div.sk-container {/* jupyter's `normalize.less` sets `[hidden] { display: none; }` but bootstrap.min.css set `[hidden] { display: none !important; }` so we also need the `!important` here to be able to override the default hidden behavior on the sphinx rendered scikit-learn.org. See: https://github.com/scikit-learn/scikit-learn/issues/21755 */display: inline-block !important;position: relative;}#sk-container-id-1 div.sk-text-repr-fallback {display: none;}</style><div id=\"sk-container-id-1\" class=\"sk-top-container\"><div class=\"sk-text-repr-fallback\"><pre>ColumnTransformer(n_jobs=-1,\n",
       "                  transformers=[(&#x27;numerical&#x27;,\n",
       "                                 Pipeline(steps=[(&#x27;numerical_simple_imputer&#x27;,\n",
       "                                                  SimpleImputer(strategy=&#x27;median&#x27;)),\n",
       "                                                 (&#x27;scaler&#x27;, StandardScaler())]),\n",
       "                                 [&#x27;Age&#x27;, &#x27;Cabin_num&#x27;]),\n",
       "                                (&#x27;narrow_categorical&#x27;,\n",
       "                                 Pipeline(steps=[(&#x27;narrow_simple_imputer&#x27;,\n",
       "                                                  SimpleImputer(strategy=&#x27;most_frequent&#x27;)),\n",
       "                                                 (&#x27;narrow_one_hot_encoder&#x27;,\n",
       "                                                  OneHotEncoder(drop=&#x27;first&#x27;,\n",
       "                                                                handle_un...\n",
       "                                (&#x27;num_to_categorical&#x27;,\n",
       "                                 Pipeline(steps=[(&#x27;simple_imputer&#x27;,\n",
       "                                                  SimpleImputer(fill_value=0,\n",
       "                                                                strategy=&#x27;constant&#x27;)),\n",
       "                                                 (&#x27;rare_val_aggregator&#x27;,\n",
       "                                                  RareAndNotRareAggregator()),\n",
       "                                                 (&#x27;zero_value_aggregator&#x27;,\n",
       "                                                  ZeroValuesAggregator()),\n",
       "                                                 (&#x27;num_to_cat_one_hot_encoder&#x27;,\n",
       "                                                  OneHotEncoder(drop=&#x27;first&#x27;,\n",
       "                                                                handle_unknown=&#x27;infrequent_if_exist&#x27;))]),\n",
       "                                 [&#x27;RoomService&#x27;, &#x27;FoodCourt&#x27;, &#x27;ShoppingMall&#x27;,\n",
       "                                  &#x27;Spa&#x27;, &#x27;VRDeck&#x27;])])</pre><b>In a Jupyter environment, please rerun this cell to show the HTML representation or trust the notebook. <br />On GitHub, the HTML representation is unable to render, please try loading this page with nbviewer.org.</b></div><div class=\"sk-container\" hidden><div class=\"sk-item sk-dashed-wrapped\"><div class=\"sk-label-container\"><div class=\"sk-label sk-toggleable\"><input class=\"sk-toggleable__control sk-hidden--visually\" id=\"sk-estimator-id-1\" type=\"checkbox\" ><label for=\"sk-estimator-id-1\" class=\"sk-toggleable__label sk-toggleable__label-arrow\">ColumnTransformer</label><div class=\"sk-toggleable__content\"><pre>ColumnTransformer(n_jobs=-1,\n",
       "                  transformers=[(&#x27;numerical&#x27;,\n",
       "                                 Pipeline(steps=[(&#x27;numerical_simple_imputer&#x27;,\n",
       "                                                  SimpleImputer(strategy=&#x27;median&#x27;)),\n",
       "                                                 (&#x27;scaler&#x27;, StandardScaler())]),\n",
       "                                 [&#x27;Age&#x27;, &#x27;Cabin_num&#x27;]),\n",
       "                                (&#x27;narrow_categorical&#x27;,\n",
       "                                 Pipeline(steps=[(&#x27;narrow_simple_imputer&#x27;,\n",
       "                                                  SimpleImputer(strategy=&#x27;most_frequent&#x27;)),\n",
       "                                                 (&#x27;narrow_one_hot_encoder&#x27;,\n",
       "                                                  OneHotEncoder(drop=&#x27;first&#x27;,\n",
       "                                                                handle_un...\n",
       "                                (&#x27;num_to_categorical&#x27;,\n",
       "                                 Pipeline(steps=[(&#x27;simple_imputer&#x27;,\n",
       "                                                  SimpleImputer(fill_value=0,\n",
       "                                                                strategy=&#x27;constant&#x27;)),\n",
       "                                                 (&#x27;rare_val_aggregator&#x27;,\n",
       "                                                  RareAndNotRareAggregator()),\n",
       "                                                 (&#x27;zero_value_aggregator&#x27;,\n",
       "                                                  ZeroValuesAggregator()),\n",
       "                                                 (&#x27;num_to_cat_one_hot_encoder&#x27;,\n",
       "                                                  OneHotEncoder(drop=&#x27;first&#x27;,\n",
       "                                                                handle_unknown=&#x27;infrequent_if_exist&#x27;))]),\n",
       "                                 [&#x27;RoomService&#x27;, &#x27;FoodCourt&#x27;, &#x27;ShoppingMall&#x27;,\n",
       "                                  &#x27;Spa&#x27;, &#x27;VRDeck&#x27;])])</pre></div></div></div><div class=\"sk-parallel\"><div class=\"sk-parallel-item\"><div class=\"sk-item\"><div class=\"sk-label-container\"><div class=\"sk-label sk-toggleable\"><input class=\"sk-toggleable__control sk-hidden--visually\" id=\"sk-estimator-id-2\" type=\"checkbox\" ><label for=\"sk-estimator-id-2\" class=\"sk-toggleable__label sk-toggleable__label-arrow\">numerical</label><div class=\"sk-toggleable__content\"><pre>[&#x27;Age&#x27;, &#x27;Cabin_num&#x27;]</pre></div></div></div><div class=\"sk-serial\"><div class=\"sk-item\"><div class=\"sk-serial\"><div class=\"sk-item\"><div class=\"sk-estimator sk-toggleable\"><input class=\"sk-toggleable__control sk-hidden--visually\" id=\"sk-estimator-id-3\" type=\"checkbox\" ><label for=\"sk-estimator-id-3\" class=\"sk-toggleable__label sk-toggleable__label-arrow\">SimpleImputer</label><div class=\"sk-toggleable__content\"><pre>SimpleImputer(strategy=&#x27;median&#x27;)</pre></div></div></div><div class=\"sk-item\"><div class=\"sk-estimator sk-toggleable\"><input class=\"sk-toggleable__control sk-hidden--visually\" id=\"sk-estimator-id-4\" type=\"checkbox\" ><label for=\"sk-estimator-id-4\" class=\"sk-toggleable__label sk-toggleable__label-arrow\">StandardScaler</label><div class=\"sk-toggleable__content\"><pre>StandardScaler()</pre></div></div></div></div></div></div></div></div><div class=\"sk-parallel-item\"><div class=\"sk-item\"><div class=\"sk-label-container\"><div class=\"sk-label sk-toggleable\"><input class=\"sk-toggleable__control sk-hidden--visually\" id=\"sk-estimator-id-5\" type=\"checkbox\" ><label for=\"sk-estimator-id-5\" class=\"sk-toggleable__label sk-toggleable__label-arrow\">narrow_categorical</label><div class=\"sk-toggleable__content\"><pre>[&#x27;HomePlanet&#x27;, &#x27;CryoSleep&#x27;, &#x27;Destination&#x27;, &#x27;VIP&#x27;, &#x27;Side&#x27;, &#x27;Travel_alone&#x27;]</pre></div></div></div><div class=\"sk-serial\"><div class=\"sk-item\"><div class=\"sk-serial\"><div class=\"sk-item\"><div class=\"sk-estimator sk-toggleable\"><input class=\"sk-toggleable__control sk-hidden--visually\" id=\"sk-estimator-id-6\" type=\"checkbox\" ><label for=\"sk-estimator-id-6\" class=\"sk-toggleable__label sk-toggleable__label-arrow\">SimpleImputer</label><div class=\"sk-toggleable__content\"><pre>SimpleImputer(strategy=&#x27;most_frequent&#x27;)</pre></div></div></div><div class=\"sk-item\"><div class=\"sk-estimator sk-toggleable\"><input class=\"sk-toggleable__control sk-hidden--visually\" id=\"sk-estimator-id-7\" type=\"checkbox\" ><label for=\"sk-estimator-id-7\" class=\"sk-toggleable__label sk-toggleable__label-arrow\">OneHotEncoder</label><div class=\"sk-toggleable__content\"><pre>OneHotEncoder(drop=&#x27;first&#x27;, handle_unknown=&#x27;ignore&#x27;)</pre></div></div></div></div></div></div></div></div><div class=\"sk-parallel-item\"><div class=\"sk-item\"><div class=\"sk-label-container\"><div class=\"sk-label sk-toggleable\"><input class=\"sk-toggleable__control sk-hidden--visually\" id=\"sk-estimator-id-8\" type=\"checkbox\" ><label for=\"sk-estimator-id-8\" class=\"sk-toggleable__label sk-toggleable__label-arrow\">multi_categorical</label><div class=\"sk-toggleable__content\"><pre>[&#x27;Deck&#x27;]</pre></div></div></div><div class=\"sk-serial\"><div class=\"sk-item\"><div class=\"sk-serial\"><div class=\"sk-item\"><div class=\"sk-estimator sk-toggleable\"><input class=\"sk-toggleable__control sk-hidden--visually\" id=\"sk-estimator-id-9\" type=\"checkbox\" ><label for=\"sk-estimator-id-9\" class=\"sk-toggleable__label sk-toggleable__label-arrow\">OneHotEncoder</label><div class=\"sk-toggleable__content\"><pre>OneHotEncoder(drop=&#x27;first&#x27;, handle_unknown=&#x27;infrequent_if_exist&#x27;,\n",
       "              min_frequency=500)</pre></div></div></div></div></div></div></div></div><div class=\"sk-parallel-item\"><div class=\"sk-item\"><div class=\"sk-label-container\"><div class=\"sk-label sk-toggleable\"><input class=\"sk-toggleable__control sk-hidden--visually\" id=\"sk-estimator-id-10\" type=\"checkbox\" ><label for=\"sk-estimator-id-10\" class=\"sk-toggleable__label sk-toggleable__label-arrow\">num_to_categorical</label><div class=\"sk-toggleable__content\"><pre>[&#x27;RoomService&#x27;, &#x27;FoodCourt&#x27;, &#x27;ShoppingMall&#x27;, &#x27;Spa&#x27;, &#x27;VRDeck&#x27;]</pre></div></div></div><div class=\"sk-serial\"><div class=\"sk-item\"><div class=\"sk-serial\"><div class=\"sk-item\"><div class=\"sk-estimator sk-toggleable\"><input class=\"sk-toggleable__control sk-hidden--visually\" id=\"sk-estimator-id-11\" type=\"checkbox\" ><label for=\"sk-estimator-id-11\" class=\"sk-toggleable__label sk-toggleable__label-arrow\">SimpleImputer</label><div class=\"sk-toggleable__content\"><pre>SimpleImputer(fill_value=0, strategy=&#x27;constant&#x27;)</pre></div></div></div><div class=\"sk-item\"><div class=\"sk-estimator sk-toggleable\"><input class=\"sk-toggleable__control sk-hidden--visually\" id=\"sk-estimator-id-12\" type=\"checkbox\" ><label for=\"sk-estimator-id-12\" class=\"sk-toggleable__label sk-toggleable__label-arrow\">RareAndNotRareAggregator</label><div class=\"sk-toggleable__content\"><pre>RareAndNotRareAggregator()</pre></div></div></div><div class=\"sk-item\"><div class=\"sk-estimator sk-toggleable\"><input class=\"sk-toggleable__control sk-hidden--visually\" id=\"sk-estimator-id-13\" type=\"checkbox\" ><label for=\"sk-estimator-id-13\" class=\"sk-toggleable__label sk-toggleable__label-arrow\">ZeroValuesAggregator</label><div class=\"sk-toggleable__content\"><pre>ZeroValuesAggregator()</pre></div></div></div><div class=\"sk-item\"><div class=\"sk-estimator sk-toggleable\"><input class=\"sk-toggleable__control sk-hidden--visually\" id=\"sk-estimator-id-14\" type=\"checkbox\" ><label for=\"sk-estimator-id-14\" class=\"sk-toggleable__label sk-toggleable__label-arrow\">OneHotEncoder</label><div class=\"sk-toggleable__content\"><pre>OneHotEncoder(drop=&#x27;first&#x27;, handle_unknown=&#x27;infrequent_if_exist&#x27;)</pre></div></div></div></div></div></div></div></div></div></div></div></div>"
      ],
      "text/plain": [
       "ColumnTransformer(n_jobs=-1,\n",
       "                  transformers=[('numerical',\n",
       "                                 Pipeline(steps=[('numerical_simple_imputer',\n",
       "                                                  SimpleImputer(strategy='median')),\n",
       "                                                 ('scaler', StandardScaler())]),\n",
       "                                 ['Age', 'Cabin_num']),\n",
       "                                ('narrow_categorical',\n",
       "                                 Pipeline(steps=[('narrow_simple_imputer',\n",
       "                                                  SimpleImputer(strategy='most_frequent')),\n",
       "                                                 ('narrow_one_hot_encoder',\n",
       "                                                  OneHotEncoder(drop='first',\n",
       "                                                                handle_un...\n",
       "                                ('num_to_categorical',\n",
       "                                 Pipeline(steps=[('simple_imputer',\n",
       "                                                  SimpleImputer(fill_value=0,\n",
       "                                                                strategy='constant')),\n",
       "                                                 ('rare_val_aggregator',\n",
       "                                                  RareAndNotRareAggregator()),\n",
       "                                                 ('zero_value_aggregator',\n",
       "                                                  ZeroValuesAggregator()),\n",
       "                                                 ('num_to_cat_one_hot_encoder',\n",
       "                                                  OneHotEncoder(drop='first',\n",
       "                                                                handle_unknown='infrequent_if_exist'))]),\n",
       "                                 ['RoomService', 'FoodCourt', 'ShoppingMall',\n",
       "                                  'Spa', 'VRDeck'])])"
      ]
     },
     "execution_count": 45,
     "metadata": {},
     "output_type": "execute_result"
    }
   ],
   "source": [
    "preprocessor.fit(X_train)"
   ]
  },
  {
   "cell_type": "code",
   "execution_count": 46,
   "id": "mental-mainland",
   "metadata": {},
   "outputs": [
    {
     "data": {
      "text/plain": [
       "array([[ 0.99139939,  1.65971638,  0.        , ...,  1.        ,\n",
       "         0.        ,  1.        ],\n",
       "       [ 0.22421304,  1.76635856,  0.        , ...,  0.        ,\n",
       "         1.        ,  0.        ],\n",
       "       [-0.68246175, -0.82662637,  0.        , ...,  1.        ,\n",
       "         0.        ,  1.        ],\n",
       "       ...,\n",
       "       [-0.75220596, -0.95894167,  0.        , ...,  1.        ,\n",
       "         0.        ,  1.        ],\n",
       "       [ 0.43344568,  1.10675691,  0.        , ...,  0.        ,\n",
       "         0.        ,  1.        ],\n",
       "       [ 1.13088782, -0.64098998,  1.        , ...,  1.        ,\n",
       "         0.        ,  1.        ]])"
      ]
     },
     "execution_count": 46,
     "metadata": {},
     "output_type": "execute_result"
    }
   ],
   "source": [
    "preprocessor.transform(X_train)"
   ]
  },
  {
   "cell_type": "code",
   "execution_count": 47,
   "id": "portable-wedding",
   "metadata": {},
   "outputs": [
    {
     "data": {
      "text/plain": [
       "(6085, 25)"
      ]
     },
     "execution_count": 47,
     "metadata": {},
     "output_type": "execute_result"
    }
   ],
   "source": [
    "preprocessor.transform(X_train).shape"
   ]
  },
  {
   "cell_type": "code",
   "execution_count": 48,
   "id": "knowing-visitor",
   "metadata": {},
   "outputs": [
    {
     "data": {
      "text/plain": [
       "[('numerical',\n",
       "  Pipeline(steps=[('numerical_simple_imputer', SimpleImputer(strategy='median')),\n",
       "                  ('scaler', StandardScaler())]),\n",
       "  ['Age', 'Cabin_num']),\n",
       " ('narrow_categorical',\n",
       "  Pipeline(steps=[('narrow_simple_imputer',\n",
       "                   SimpleImputer(strategy='most_frequent')),\n",
       "                  ('narrow_one_hot_encoder',\n",
       "                   OneHotEncoder(drop='first', handle_unknown='ignore'))]),\n",
       "  ['HomePlanet', 'CryoSleep', 'Destination', 'VIP', 'Side', 'Travel_alone']),\n",
       " ('multi_categorical',\n",
       "  Pipeline(steps=[('multi_one_hot_encoder',\n",
       "                   OneHotEncoder(drop='first',\n",
       "                                 handle_unknown='infrequent_if_exist',\n",
       "                                 min_frequency=500))]),\n",
       "  ['Deck']),\n",
       " ('num_to_categorical',\n",
       "  Pipeline(steps=[('simple_imputer',\n",
       "                   SimpleImputer(fill_value=0, strategy='constant')),\n",
       "                  ('rare_val_aggregator', RareAndNotRareAggregator()),\n",
       "                  ('zero_value_aggregator', ZeroValuesAggregator()),\n",
       "                  ('num_to_cat_one_hot_encoder',\n",
       "                   OneHotEncoder(drop='first',\n",
       "                                 handle_unknown='infrequent_if_exist'))]),\n",
       "  ['RoomService', 'FoodCourt', 'ShoppingMall', 'Spa', 'VRDeck'])]"
      ]
     },
     "execution_count": 48,
     "metadata": {},
     "output_type": "execute_result"
    }
   ],
   "source": [
    "preprocessor.transformers"
   ]
  },
  {
   "cell_type": "code",
   "execution_count": null,
   "id": "atomic-meter",
   "metadata": {
    "scrolled": true
   },
   "outputs": [],
   "source": [
    "#preprocessor.get_feature_names_out()"
   ]
  },
  {
   "cell_type": "code",
   "execution_count": null,
   "id": "preliminary-carrier",
   "metadata": {},
   "outputs": [],
   "source": [
    "#num_to_cat_pipe.n_features_in_"
   ]
  },
  {
   "cell_type": "markdown",
   "id": "synthetic-separate",
   "metadata": {},
   "source": [
    "## Model "
   ]
  },
  {
   "cell_type": "markdown",
   "id": "through-intersection",
   "metadata": {},
   "source": [
    "### Logistic Regression"
   ]
  },
  {
   "cell_type": "markdown",
   "id": "brazilian-hudson",
   "metadata": {},
   "source": [
    "#### Base model"
   ]
  },
  {
   "cell_type": "code",
   "execution_count": 49,
   "id": "dependent-butterfly",
   "metadata": {},
   "outputs": [
    {
     "data": {
      "text/html": [
       "<style>#sk-container-id-2 {color: black;background-color: white;}#sk-container-id-2 pre{padding: 0;}#sk-container-id-2 div.sk-toggleable {background-color: white;}#sk-container-id-2 label.sk-toggleable__label {cursor: pointer;display: block;width: 100%;margin-bottom: 0;padding: 0.3em;box-sizing: border-box;text-align: center;}#sk-container-id-2 label.sk-toggleable__label-arrow:before {content: \"▸\";float: left;margin-right: 0.25em;color: #696969;}#sk-container-id-2 label.sk-toggleable__label-arrow:hover:before {color: black;}#sk-container-id-2 div.sk-estimator:hover label.sk-toggleable__label-arrow:before {color: black;}#sk-container-id-2 div.sk-toggleable__content {max-height: 0;max-width: 0;overflow: hidden;text-align: left;background-color: #f0f8ff;}#sk-container-id-2 div.sk-toggleable__content pre {margin: 0.2em;color: black;border-radius: 0.25em;background-color: #f0f8ff;}#sk-container-id-2 input.sk-toggleable__control:checked~div.sk-toggleable__content {max-height: 200px;max-width: 100%;overflow: auto;}#sk-container-id-2 input.sk-toggleable__control:checked~label.sk-toggleable__label-arrow:before {content: \"▾\";}#sk-container-id-2 div.sk-estimator input.sk-toggleable__control:checked~label.sk-toggleable__label {background-color: #d4ebff;}#sk-container-id-2 div.sk-label input.sk-toggleable__control:checked~label.sk-toggleable__label {background-color: #d4ebff;}#sk-container-id-2 input.sk-hidden--visually {border: 0;clip: rect(1px 1px 1px 1px);clip: rect(1px, 1px, 1px, 1px);height: 1px;margin: -1px;overflow: hidden;padding: 0;position: absolute;width: 1px;}#sk-container-id-2 div.sk-estimator {font-family: monospace;background-color: #f0f8ff;border: 1px dotted black;border-radius: 0.25em;box-sizing: border-box;margin-bottom: 0.5em;}#sk-container-id-2 div.sk-estimator:hover {background-color: #d4ebff;}#sk-container-id-2 div.sk-parallel-item::after {content: \"\";width: 100%;border-bottom: 1px solid gray;flex-grow: 1;}#sk-container-id-2 div.sk-label:hover label.sk-toggleable__label {background-color: #d4ebff;}#sk-container-id-2 div.sk-serial::before {content: \"\";position: absolute;border-left: 1px solid gray;box-sizing: border-box;top: 0;bottom: 0;left: 50%;z-index: 0;}#sk-container-id-2 div.sk-serial {display: flex;flex-direction: column;align-items: center;background-color: white;padding-right: 0.2em;padding-left: 0.2em;position: relative;}#sk-container-id-2 div.sk-item {position: relative;z-index: 1;}#sk-container-id-2 div.sk-parallel {display: flex;align-items: stretch;justify-content: center;background-color: white;position: relative;}#sk-container-id-2 div.sk-item::before, #sk-container-id-2 div.sk-parallel-item::before {content: \"\";position: absolute;border-left: 1px solid gray;box-sizing: border-box;top: 0;bottom: 0;left: 50%;z-index: -1;}#sk-container-id-2 div.sk-parallel-item {display: flex;flex-direction: column;z-index: 1;position: relative;background-color: white;}#sk-container-id-2 div.sk-parallel-item:first-child::after {align-self: flex-end;width: 50%;}#sk-container-id-2 div.sk-parallel-item:last-child::after {align-self: flex-start;width: 50%;}#sk-container-id-2 div.sk-parallel-item:only-child::after {width: 0;}#sk-container-id-2 div.sk-dashed-wrapped {border: 1px dashed gray;margin: 0 0.4em 0.5em 0.4em;box-sizing: border-box;padding-bottom: 0.4em;background-color: white;}#sk-container-id-2 div.sk-label label {font-family: monospace;font-weight: bold;display: inline-block;line-height: 1.2em;}#sk-container-id-2 div.sk-label-container {text-align: center;}#sk-container-id-2 div.sk-container {/* jupyter's `normalize.less` sets `[hidden] { display: none; }` but bootstrap.min.css set `[hidden] { display: none !important; }` so we also need the `!important` here to be able to override the default hidden behavior on the sphinx rendered scikit-learn.org. See: https://github.com/scikit-learn/scikit-learn/issues/21755 */display: inline-block !important;position: relative;}#sk-container-id-2 div.sk-text-repr-fallback {display: none;}</style><div id=\"sk-container-id-2\" class=\"sk-top-container\"><div class=\"sk-text-repr-fallback\"><pre>Pipeline(steps=[(&#x27;preprocessor&#x27;,\n",
       "                 ColumnTransformer(n_jobs=-1,\n",
       "                                   transformers=[(&#x27;numerical&#x27;,\n",
       "                                                  Pipeline(steps=[(&#x27;numerical_simple_imputer&#x27;,\n",
       "                                                                   SimpleImputer(strategy=&#x27;median&#x27;)),\n",
       "                                                                  (&#x27;scaler&#x27;,\n",
       "                                                                   StandardScaler())]),\n",
       "                                                  [&#x27;Age&#x27;, &#x27;Cabin_num&#x27;]),\n",
       "                                                 (&#x27;narrow_categorical&#x27;,\n",
       "                                                  Pipeline(steps=[(&#x27;narrow_simple_imputer&#x27;,\n",
       "                                                                   SimpleImputer(strategy=&#x27;most_frequent&#x27;)),\n",
       "                                                                  (&#x27;narrow_one_hot_encoder&#x27;,\n",
       "                                                                   OneH...\n",
       "                                                  Pipeline(steps=[(&#x27;simple_imputer&#x27;,\n",
       "                                                                   SimpleImputer(fill_value=0,\n",
       "                                                                                 strategy=&#x27;constant&#x27;)),\n",
       "                                                                  (&#x27;rare_val_aggregator&#x27;,\n",
       "                                                                   RareAndNotRareAggregator()),\n",
       "                                                                  (&#x27;zero_value_aggregator&#x27;,\n",
       "                                                                   ZeroValuesAggregator()),\n",
       "                                                                  (&#x27;num_to_cat_one_hot_encoder&#x27;,\n",
       "                                                                   OneHotEncoder(drop=&#x27;first&#x27;,\n",
       "                                                                                 handle_unknown=&#x27;infrequent_if_exist&#x27;))]),\n",
       "                                                  [&#x27;RoomService&#x27;, &#x27;FoodCourt&#x27;,\n",
       "                                                   &#x27;ShoppingMall&#x27;, &#x27;Spa&#x27;,\n",
       "                                                   &#x27;VRDeck&#x27;])])),\n",
       "                (&#x27;model_regr&#x27;, LogisticRegression())])</pre><b>In a Jupyter environment, please rerun this cell to show the HTML representation or trust the notebook. <br />On GitHub, the HTML representation is unable to render, please try loading this page with nbviewer.org.</b></div><div class=\"sk-container\" hidden><div class=\"sk-item sk-dashed-wrapped\"><div class=\"sk-label-container\"><div class=\"sk-label sk-toggleable\"><input class=\"sk-toggleable__control sk-hidden--visually\" id=\"sk-estimator-id-15\" type=\"checkbox\" ><label for=\"sk-estimator-id-15\" class=\"sk-toggleable__label sk-toggleable__label-arrow\">Pipeline</label><div class=\"sk-toggleable__content\"><pre>Pipeline(steps=[(&#x27;preprocessor&#x27;,\n",
       "                 ColumnTransformer(n_jobs=-1,\n",
       "                                   transformers=[(&#x27;numerical&#x27;,\n",
       "                                                  Pipeline(steps=[(&#x27;numerical_simple_imputer&#x27;,\n",
       "                                                                   SimpleImputer(strategy=&#x27;median&#x27;)),\n",
       "                                                                  (&#x27;scaler&#x27;,\n",
       "                                                                   StandardScaler())]),\n",
       "                                                  [&#x27;Age&#x27;, &#x27;Cabin_num&#x27;]),\n",
       "                                                 (&#x27;narrow_categorical&#x27;,\n",
       "                                                  Pipeline(steps=[(&#x27;narrow_simple_imputer&#x27;,\n",
       "                                                                   SimpleImputer(strategy=&#x27;most_frequent&#x27;)),\n",
       "                                                                  (&#x27;narrow_one_hot_encoder&#x27;,\n",
       "                                                                   OneH...\n",
       "                                                  Pipeline(steps=[(&#x27;simple_imputer&#x27;,\n",
       "                                                                   SimpleImputer(fill_value=0,\n",
       "                                                                                 strategy=&#x27;constant&#x27;)),\n",
       "                                                                  (&#x27;rare_val_aggregator&#x27;,\n",
       "                                                                   RareAndNotRareAggregator()),\n",
       "                                                                  (&#x27;zero_value_aggregator&#x27;,\n",
       "                                                                   ZeroValuesAggregator()),\n",
       "                                                                  (&#x27;num_to_cat_one_hot_encoder&#x27;,\n",
       "                                                                   OneHotEncoder(drop=&#x27;first&#x27;,\n",
       "                                                                                 handle_unknown=&#x27;infrequent_if_exist&#x27;))]),\n",
       "                                                  [&#x27;RoomService&#x27;, &#x27;FoodCourt&#x27;,\n",
       "                                                   &#x27;ShoppingMall&#x27;, &#x27;Spa&#x27;,\n",
       "                                                   &#x27;VRDeck&#x27;])])),\n",
       "                (&#x27;model_regr&#x27;, LogisticRegression())])</pre></div></div></div><div class=\"sk-serial\"><div class=\"sk-item sk-dashed-wrapped\"><div class=\"sk-label-container\"><div class=\"sk-label sk-toggleable\"><input class=\"sk-toggleable__control sk-hidden--visually\" id=\"sk-estimator-id-16\" type=\"checkbox\" ><label for=\"sk-estimator-id-16\" class=\"sk-toggleable__label sk-toggleable__label-arrow\">preprocessor: ColumnTransformer</label><div class=\"sk-toggleable__content\"><pre>ColumnTransformer(n_jobs=-1,\n",
       "                  transformers=[(&#x27;numerical&#x27;,\n",
       "                                 Pipeline(steps=[(&#x27;numerical_simple_imputer&#x27;,\n",
       "                                                  SimpleImputer(strategy=&#x27;median&#x27;)),\n",
       "                                                 (&#x27;scaler&#x27;, StandardScaler())]),\n",
       "                                 [&#x27;Age&#x27;, &#x27;Cabin_num&#x27;]),\n",
       "                                (&#x27;narrow_categorical&#x27;,\n",
       "                                 Pipeline(steps=[(&#x27;narrow_simple_imputer&#x27;,\n",
       "                                                  SimpleImputer(strategy=&#x27;most_frequent&#x27;)),\n",
       "                                                 (&#x27;narrow_one_hot_encoder&#x27;,\n",
       "                                                  OneHotEncoder(drop=&#x27;first&#x27;,\n",
       "                                                                handle_un...\n",
       "                                (&#x27;num_to_categorical&#x27;,\n",
       "                                 Pipeline(steps=[(&#x27;simple_imputer&#x27;,\n",
       "                                                  SimpleImputer(fill_value=0,\n",
       "                                                                strategy=&#x27;constant&#x27;)),\n",
       "                                                 (&#x27;rare_val_aggregator&#x27;,\n",
       "                                                  RareAndNotRareAggregator()),\n",
       "                                                 (&#x27;zero_value_aggregator&#x27;,\n",
       "                                                  ZeroValuesAggregator()),\n",
       "                                                 (&#x27;num_to_cat_one_hot_encoder&#x27;,\n",
       "                                                  OneHotEncoder(drop=&#x27;first&#x27;,\n",
       "                                                                handle_unknown=&#x27;infrequent_if_exist&#x27;))]),\n",
       "                                 [&#x27;RoomService&#x27;, &#x27;FoodCourt&#x27;, &#x27;ShoppingMall&#x27;,\n",
       "                                  &#x27;Spa&#x27;, &#x27;VRDeck&#x27;])])</pre></div></div></div><div class=\"sk-parallel\"><div class=\"sk-parallel-item\"><div class=\"sk-item\"><div class=\"sk-label-container\"><div class=\"sk-label sk-toggleable\"><input class=\"sk-toggleable__control sk-hidden--visually\" id=\"sk-estimator-id-17\" type=\"checkbox\" ><label for=\"sk-estimator-id-17\" class=\"sk-toggleable__label sk-toggleable__label-arrow\">numerical</label><div class=\"sk-toggleable__content\"><pre>[&#x27;Age&#x27;, &#x27;Cabin_num&#x27;]</pre></div></div></div><div class=\"sk-serial\"><div class=\"sk-item\"><div class=\"sk-serial\"><div class=\"sk-item\"><div class=\"sk-estimator sk-toggleable\"><input class=\"sk-toggleable__control sk-hidden--visually\" id=\"sk-estimator-id-18\" type=\"checkbox\" ><label for=\"sk-estimator-id-18\" class=\"sk-toggleable__label sk-toggleable__label-arrow\">SimpleImputer</label><div class=\"sk-toggleable__content\"><pre>SimpleImputer(strategy=&#x27;median&#x27;)</pre></div></div></div><div class=\"sk-item\"><div class=\"sk-estimator sk-toggleable\"><input class=\"sk-toggleable__control sk-hidden--visually\" id=\"sk-estimator-id-19\" type=\"checkbox\" ><label for=\"sk-estimator-id-19\" class=\"sk-toggleable__label sk-toggleable__label-arrow\">StandardScaler</label><div class=\"sk-toggleable__content\"><pre>StandardScaler()</pre></div></div></div></div></div></div></div></div><div class=\"sk-parallel-item\"><div class=\"sk-item\"><div class=\"sk-label-container\"><div class=\"sk-label sk-toggleable\"><input class=\"sk-toggleable__control sk-hidden--visually\" id=\"sk-estimator-id-20\" type=\"checkbox\" ><label for=\"sk-estimator-id-20\" class=\"sk-toggleable__label sk-toggleable__label-arrow\">narrow_categorical</label><div class=\"sk-toggleable__content\"><pre>[&#x27;HomePlanet&#x27;, &#x27;CryoSleep&#x27;, &#x27;Destination&#x27;, &#x27;VIP&#x27;, &#x27;Side&#x27;, &#x27;Travel_alone&#x27;]</pre></div></div></div><div class=\"sk-serial\"><div class=\"sk-item\"><div class=\"sk-serial\"><div class=\"sk-item\"><div class=\"sk-estimator sk-toggleable\"><input class=\"sk-toggleable__control sk-hidden--visually\" id=\"sk-estimator-id-21\" type=\"checkbox\" ><label for=\"sk-estimator-id-21\" class=\"sk-toggleable__label sk-toggleable__label-arrow\">SimpleImputer</label><div class=\"sk-toggleable__content\"><pre>SimpleImputer(strategy=&#x27;most_frequent&#x27;)</pre></div></div></div><div class=\"sk-item\"><div class=\"sk-estimator sk-toggleable\"><input class=\"sk-toggleable__control sk-hidden--visually\" id=\"sk-estimator-id-22\" type=\"checkbox\" ><label for=\"sk-estimator-id-22\" class=\"sk-toggleable__label sk-toggleable__label-arrow\">OneHotEncoder</label><div class=\"sk-toggleable__content\"><pre>OneHotEncoder(drop=&#x27;first&#x27;, handle_unknown=&#x27;ignore&#x27;)</pre></div></div></div></div></div></div></div></div><div class=\"sk-parallel-item\"><div class=\"sk-item\"><div class=\"sk-label-container\"><div class=\"sk-label sk-toggleable\"><input class=\"sk-toggleable__control sk-hidden--visually\" id=\"sk-estimator-id-23\" type=\"checkbox\" ><label for=\"sk-estimator-id-23\" class=\"sk-toggleable__label sk-toggleable__label-arrow\">multi_categorical</label><div class=\"sk-toggleable__content\"><pre>[&#x27;Deck&#x27;]</pre></div></div></div><div class=\"sk-serial\"><div class=\"sk-item\"><div class=\"sk-serial\"><div class=\"sk-item\"><div class=\"sk-estimator sk-toggleable\"><input class=\"sk-toggleable__control sk-hidden--visually\" id=\"sk-estimator-id-24\" type=\"checkbox\" ><label for=\"sk-estimator-id-24\" class=\"sk-toggleable__label sk-toggleable__label-arrow\">OneHotEncoder</label><div class=\"sk-toggleable__content\"><pre>OneHotEncoder(drop=&#x27;first&#x27;, handle_unknown=&#x27;infrequent_if_exist&#x27;,\n",
       "              min_frequency=500)</pre></div></div></div></div></div></div></div></div><div class=\"sk-parallel-item\"><div class=\"sk-item\"><div class=\"sk-label-container\"><div class=\"sk-label sk-toggleable\"><input class=\"sk-toggleable__control sk-hidden--visually\" id=\"sk-estimator-id-25\" type=\"checkbox\" ><label for=\"sk-estimator-id-25\" class=\"sk-toggleable__label sk-toggleable__label-arrow\">num_to_categorical</label><div class=\"sk-toggleable__content\"><pre>[&#x27;RoomService&#x27;, &#x27;FoodCourt&#x27;, &#x27;ShoppingMall&#x27;, &#x27;Spa&#x27;, &#x27;VRDeck&#x27;]</pre></div></div></div><div class=\"sk-serial\"><div class=\"sk-item\"><div class=\"sk-serial\"><div class=\"sk-item\"><div class=\"sk-estimator sk-toggleable\"><input class=\"sk-toggleable__control sk-hidden--visually\" id=\"sk-estimator-id-26\" type=\"checkbox\" ><label for=\"sk-estimator-id-26\" class=\"sk-toggleable__label sk-toggleable__label-arrow\">SimpleImputer</label><div class=\"sk-toggleable__content\"><pre>SimpleImputer(fill_value=0, strategy=&#x27;constant&#x27;)</pre></div></div></div><div class=\"sk-item\"><div class=\"sk-estimator sk-toggleable\"><input class=\"sk-toggleable__control sk-hidden--visually\" id=\"sk-estimator-id-27\" type=\"checkbox\" ><label for=\"sk-estimator-id-27\" class=\"sk-toggleable__label sk-toggleable__label-arrow\">RareAndNotRareAggregator</label><div class=\"sk-toggleable__content\"><pre>RareAndNotRareAggregator()</pre></div></div></div><div class=\"sk-item\"><div class=\"sk-estimator sk-toggleable\"><input class=\"sk-toggleable__control sk-hidden--visually\" id=\"sk-estimator-id-28\" type=\"checkbox\" ><label for=\"sk-estimator-id-28\" class=\"sk-toggleable__label sk-toggleable__label-arrow\">ZeroValuesAggregator</label><div class=\"sk-toggleable__content\"><pre>ZeroValuesAggregator()</pre></div></div></div><div class=\"sk-item\"><div class=\"sk-estimator sk-toggleable\"><input class=\"sk-toggleable__control sk-hidden--visually\" id=\"sk-estimator-id-29\" type=\"checkbox\" ><label for=\"sk-estimator-id-29\" class=\"sk-toggleable__label sk-toggleable__label-arrow\">OneHotEncoder</label><div class=\"sk-toggleable__content\"><pre>OneHotEncoder(drop=&#x27;first&#x27;, handle_unknown=&#x27;infrequent_if_exist&#x27;)</pre></div></div></div></div></div></div></div></div></div></div><div class=\"sk-item\"><div class=\"sk-estimator sk-toggleable\"><input class=\"sk-toggleable__control sk-hidden--visually\" id=\"sk-estimator-id-30\" type=\"checkbox\" ><label for=\"sk-estimator-id-30\" class=\"sk-toggleable__label sk-toggleable__label-arrow\">LogisticRegression</label><div class=\"sk-toggleable__content\"><pre>LogisticRegression()</pre></div></div></div></div></div></div></div>"
      ],
      "text/plain": [
       "Pipeline(steps=[('preprocessor',\n",
       "                 ColumnTransformer(n_jobs=-1,\n",
       "                                   transformers=[('numerical',\n",
       "                                                  Pipeline(steps=[('numerical_simple_imputer',\n",
       "                                                                   SimpleImputer(strategy='median')),\n",
       "                                                                  ('scaler',\n",
       "                                                                   StandardScaler())]),\n",
       "                                                  ['Age', 'Cabin_num']),\n",
       "                                                 ('narrow_categorical',\n",
       "                                                  Pipeline(steps=[('narrow_simple_imputer',\n",
       "                                                                   SimpleImputer(strategy='most_frequent')),\n",
       "                                                                  ('narrow_one_hot_encoder',\n",
       "                                                                   OneH...\n",
       "                                                  Pipeline(steps=[('simple_imputer',\n",
       "                                                                   SimpleImputer(fill_value=0,\n",
       "                                                                                 strategy='constant')),\n",
       "                                                                  ('rare_val_aggregator',\n",
       "                                                                   RareAndNotRareAggregator()),\n",
       "                                                                  ('zero_value_aggregator',\n",
       "                                                                   ZeroValuesAggregator()),\n",
       "                                                                  ('num_to_cat_one_hot_encoder',\n",
       "                                                                   OneHotEncoder(drop='first',\n",
       "                                                                                 handle_unknown='infrequent_if_exist'))]),\n",
       "                                                  ['RoomService', 'FoodCourt',\n",
       "                                                   'ShoppingMall', 'Spa',\n",
       "                                                   'VRDeck'])])),\n",
       "                ('model_regr', LogisticRegression())])"
      ]
     },
     "execution_count": 49,
     "metadata": {},
     "output_type": "execute_result"
    }
   ],
   "source": [
    "pipe_regr = Pipeline([\n",
    "    (\"preprocessor\", preprocessor),\n",
    "    (\"model_regr\", LogisticRegression())\n",
    "])\n",
    "pipe_regr.fit(X_train, y_train)"
   ]
  },
  {
   "cell_type": "code",
   "execution_count": 50,
   "id": "outer-indonesian",
   "metadata": {
    "scrolled": true
   },
   "outputs": [
    {
     "name": "stdout",
     "output_type": "stream",
     "text": [
      "LogisticRegression\n",
      "Accuracy on test data: 0.761\n",
      "Accuracy on train data: 0.769\n",
      "f1 score on test data: 0.760\n",
      "f1 score on train data: 0.769\n"
     ]
    }
   ],
   "source": [
    "y_pred_regr = pipe_regr.predict(X_test)\n",
    "accuracy_regr = accuracy_score(y_test, y_pred_regr)\n",
    "accuracy_regr_train = accuracy_score(y_train, pipe_regr.predict(X_train))\n",
    "f1_regr = f1_score(y_test, y_pred_regr)\n",
    "f1_regr_train = f1_score(y_train, pipe_regr.predict(X_train))\n",
    "print('LogisticRegression')\n",
    "print('Accuracy on test data: %0.3f' %accuracy_regr_train)\n",
    "print('Accuracy on train data: %0.3f' %accuracy_regr)\n",
    "print('f1 score on test data: %0.3f' %f1_regr_train)\n",
    "print('f1 score on train data: %0.3f' %f1_regr)"
   ]
  },
  {
   "cell_type": "markdown",
   "id": "abandoned-judges",
   "metadata": {},
   "source": [
    "#### Model with grid"
   ]
  },
  {
   "cell_type": "code",
   "execution_count": 51,
   "id": "foreign-belarus",
   "metadata": {},
   "outputs": [
    {
     "name": "stdout",
     "output_type": "stream",
     "text": [
      "Fitting 10 folds for each of 21 candidates, totalling 210 fits\n"
     ]
    },
    {
     "data": {
      "text/plain": [
       "array([0.74099851, 0.74099851, 0.74099851, 0.7536484 , 0.7536484 ,\n",
       "       0.7536484 , 0.76171058, 0.76171058, 0.76171058, 0.76220454,\n",
       "       0.76220454, 0.76220454, 0.76154719, 0.76154719, 0.76154719,\n",
       "       0.76154719, 0.76154719, 0.76154719, 0.76154719, 0.76154719,\n",
       "       0.76154719])"
      ]
     },
     "execution_count": 51,
     "metadata": {},
     "output_type": "execute_result"
    }
   ],
   "source": [
    "kfold = StratifiedKFold(10, shuffle=True, random_state=123)  \n",
    "\n",
    "\n",
    "params = {\"model_regr__C\": [0.001, 0.01, 0.1, 1, 10, 100, 1000],\n",
    "          \"model_regr__penalty\": [\"l2\"],\n",
    "          \"model_regr__tol\":[0.00001,0.0001,0.000001]}\n",
    "\n",
    "optimizer_regr = GridSearchCV(pipe_regr, params, \n",
    "                         scoring=\"accuracy\",\n",
    "                         cv=kfold, \n",
    "                         verbose=1,\n",
    "                         n_jobs=-1) \n",
    "\n",
    "\n",
    "optimizer_regr.fit(X_train, y_train)\n",
    "optimizer_regr.cv_results_[\"mean_test_score\"]"
   ]
  },
  {
   "cell_type": "code",
   "execution_count": 52,
   "id": "undefined-perfume",
   "metadata": {},
   "outputs": [
    {
     "name": "stdout",
     "output_type": "stream",
     "text": [
      "LogisticRegression\n",
      "Accuracy on test data: 0.761\n",
      "Accuracy on train data: 0.769\n"
     ]
    }
   ],
   "source": [
    "y_pred_regr_cv = optimizer_regr.predict(X_test)\n",
    "accuracy_regr_cv = accuracy_score(y_test, y_pred_regr_cv)\n",
    "accuracy_regr_train_cv = accuracy_score(y_train, optimizer_regr.predict(X_train))\n",
    "f1_regr_cv = f1_score(y_test, y_pred_regr_cv)\n",
    "f1_regr_train_cv = f1_score(y_train, optimizer_regr.predict(X_train))\n",
    "print('LogisticRegression')\n",
    "print('Accuracy on test data: %0.3f' %accuracy_regr_train)\n",
    "print('Accuracy on train data: %0.3f' %accuracy_regr)"
   ]
  },
  {
   "cell_type": "code",
   "execution_count": 53,
   "id": "chief-spyware",
   "metadata": {},
   "outputs": [
    {
     "data": {
      "text/plain": [
       "0.7622045415262293"
      ]
     },
     "execution_count": 53,
     "metadata": {},
     "output_type": "execute_result"
    }
   ],
   "source": [
    "optimizer_regr.best_score_"
   ]
  },
  {
   "cell_type": "code",
   "execution_count": 54,
   "id": "breathing-roots",
   "metadata": {},
   "outputs": [
    {
     "data": {
      "text/plain": [
       "{'model_regr__C': 1, 'model_regr__penalty': 'l2', 'model_regr__tol': 1e-05}"
      ]
     },
     "execution_count": 54,
     "metadata": {},
     "output_type": "execute_result"
    }
   ],
   "source": [
    "optimizer_regr.best_params_ "
   ]
  },
  {
   "cell_type": "code",
   "execution_count": 55,
   "id": "incorporate-tuning",
   "metadata": {
    "scrolled": false
   },
   "outputs": [
    {
     "name": "stdout",
     "output_type": "stream",
     "text": [
      "Fitting 10 folds for each of 100 candidates, totalling 1000 fits\n"
     ]
    },
    {
     "data": {
      "text/plain": [
       "array([0.76154719, 0.76220454, 0.76171166, 0.76204034, 0.76220454,\n",
       "       0.76154719, 0.76220481, 0.76154719, 0.76220481, 0.76187586,\n",
       "       0.76154719, 0.76154719, 0.76171166, 0.76204034, 0.76204034,\n",
       "       0.76187586, 0.76154719, 0.76187586, 0.76171139, 0.76204034,\n",
       "       0.76154719, 0.76154719, 0.76220454, 0.76220481, 0.76154719,\n",
       "       0.76220481, 0.76204034, 0.76171139, 0.76187586, 0.76154719,\n",
       "       0.76187586, 0.76204034, 0.76171139, 0.76154719, 0.76187586,\n",
       "       0.76204034, 0.76220481, 0.76154719, 0.76154719, 0.76187586,\n",
       "       0.76187586, 0.76154719, 0.76154719, 0.76187586, 0.76236875,\n",
       "       0.76220481, 0.76204034, 0.76187586, 0.76220454, 0.76204034,\n",
       "       0.76220454, 0.76187586, 0.76154719, 0.76154719, 0.76203926,\n",
       "       0.76204034, 0.76187586, 0.76171166, 0.762204  , 0.76154719,\n",
       "       0.76204034, 0.76187586, 0.76187586, 0.76220454, 0.76220454,\n",
       "       0.762204  , 0.76154719, 0.76204034, 0.76171166, 0.76220454,\n",
       "       0.76187586, 0.76204034, 0.76220481, 0.76204034, 0.76220454,\n",
       "       0.76171166, 0.76187586, 0.76187586, 0.76171166, 0.76204034,\n",
       "       0.76220454, 0.76154719, 0.76154719, 0.76154719, 0.76187586,\n",
       "       0.76204034, 0.76204034, 0.76187586, 0.76204034, 0.76154719,\n",
       "       0.76171058, 0.76204034, 0.76204034, 0.76171166, 0.76220454,\n",
       "       0.76154719, 0.76220454, 0.76253268, 0.76187586, 0.76171166])"
      ]
     },
     "execution_count": 55,
     "metadata": {},
     "output_type": "execute_result"
    }
   ],
   "source": [
    "kfold = StratifiedKFold(10, shuffle=True, random_state=123)  \n",
    "\n",
    "\n",
    "params ={\"model_regr__C\": uniform(loc=0.001, scale=10),\n",
    "         \"model_regr__penalty\": [\"l2\"],\n",
    "         'model_regr__tol': uniform(loc=0.000001, scale=0.001)}\n",
    "\n",
    "optimizer_regr = RandomizedSearchCV(pipe_regr, params, \n",
    "                         scoring='accuracy',\n",
    "                         n_iter=100,           \n",
    "                         cv=kfold, \n",
    "                         verbose=1,\n",
    "                         n_jobs=-1) \n",
    "\n",
    "optimizer_regr.fit(X_train, y_train)\n",
    "optimizer_regr.cv_results_[\"mean_test_score\"]"
   ]
  },
  {
   "cell_type": "code",
   "execution_count": 56,
   "id": "frozen-hotel",
   "metadata": {
    "scrolled": true
   },
   "outputs": [
    {
     "name": "stdout",
     "output_type": "stream",
     "text": [
      "LogisticRegression\n",
      "Accuracy on test data: 0.761\n",
      "Accuracy on train data: 0.768\n",
      "Best score: 0.763\n",
      "Best params: {'model_regr__C': 0.18560255596077557, 'model_regr__penalty': 'l2', 'model_regr__tol': 0.0008947160922251011}\n"
     ]
    }
   ],
   "source": [
    "y_pred_regr_cv = optimizer_regr.predict(X_test)\n",
    "accuracy_regr_cv = accuracy_score(y_test, y_pred_regr_cv)\n",
    "accuracy_regr_train_cv = accuracy_score(y_train, optimizer_regr.predict(X_train))\n",
    "\n",
    "print('LogisticRegression')\n",
    "print('Accuracy on test data: %0.3f' %accuracy_regr_train_cv)\n",
    "print('Accuracy on train data: %0.3f' %accuracy_regr_cv)\n",
    "print(f'Best score: %0.3f' %optimizer_regr.best_score_)\n",
    "print(f'Best params: {optimizer_regr.best_params_}')"
   ]
  },
  {
   "cell_type": "code",
   "execution_count": null,
   "id": "injured-psychiatry",
   "metadata": {},
   "outputs": [],
   "source": []
  },
  {
   "cell_type": "markdown",
   "id": "numerous-telescope",
   "metadata": {},
   "source": [
    "pipe_regr2 = Pipeline([\n",
    "    (\"preprocessor\", preprocessor),\n",
    "    (\"pca\", PCA(6)),\n",
    "    (\"model_regr2\", LogisticRegression())\n",
    "])\n",
    "pipe_regr2.fit(X_train, y_train)"
   ]
  },
  {
   "cell_type": "markdown",
   "id": "configured-planning",
   "metadata": {},
   "source": [
    "y_pred_regr2 = pipe_regr2.predict(X_test)\n",
    "accuracy_regr2 = accuracy_score(y_test, y_pred_regr2)\n",
    "accuracy_regr2_train = accuracy_score(y_train, pipe_regr2.predict(X_train))\n",
    "accuracy_regr2, accuracy_regr2_train"
   ]
  },
  {
   "cell_type": "markdown",
   "id": "adjusted-museum",
   "metadata": {},
   "source": [
    "f1_regr2 = f1_score(y_test, y_pred_regr2)\n",
    "f1_regr2_train = f1_score(y_train, pipe_regr2.predict(X_train))\n",
    "f1_regr2, f1_regr2_train"
   ]
  },
  {
   "cell_type": "code",
   "execution_count": null,
   "id": "respected-distance",
   "metadata": {},
   "outputs": [],
   "source": [
    "#p = preprocessor.fit_transform(X_train)"
   ]
  },
  {
   "cell_type": "code",
   "execution_count": null,
   "id": "sunrise-tuner",
   "metadata": {},
   "outputs": [],
   "source": [
    "#pca = PCA()\n",
    "#pca.fit(p)\n",
    "#plt.bar(range(pca.n_components_),pca.explained_variance_ratio_)\n",
    "#plt.show()"
   ]
  },
  {
   "cell_type": "code",
   "execution_count": null,
   "id": "further-genetics",
   "metadata": {},
   "outputs": [],
   "source": [
    "#pca = PCA()\n",
    "#pca.fit(x)\n",
    "#pca.explained_variance_ratio_ "
   ]
  },
  {
   "cell_type": "code",
   "execution_count": null,
   "id": "occupied-carry",
   "metadata": {},
   "outputs": [],
   "source": []
  },
  {
   "cell_type": "code",
   "execution_count": null,
   "id": "natural-spirituality",
   "metadata": {},
   "outputs": [],
   "source": []
  },
  {
   "cell_type": "markdown",
   "id": "meaning-brick",
   "metadata": {},
   "source": [
    "### SVC\n",
    "\n",
    "do nieliniowych"
   ]
  },
  {
   "cell_type": "code",
   "execution_count": 57,
   "id": "fewer-personality",
   "metadata": {},
   "outputs": [
    {
     "data": {
      "text/html": [
       "<style>#sk-container-id-3 {color: black;background-color: white;}#sk-container-id-3 pre{padding: 0;}#sk-container-id-3 div.sk-toggleable {background-color: white;}#sk-container-id-3 label.sk-toggleable__label {cursor: pointer;display: block;width: 100%;margin-bottom: 0;padding: 0.3em;box-sizing: border-box;text-align: center;}#sk-container-id-3 label.sk-toggleable__label-arrow:before {content: \"▸\";float: left;margin-right: 0.25em;color: #696969;}#sk-container-id-3 label.sk-toggleable__label-arrow:hover:before {color: black;}#sk-container-id-3 div.sk-estimator:hover label.sk-toggleable__label-arrow:before {color: black;}#sk-container-id-3 div.sk-toggleable__content {max-height: 0;max-width: 0;overflow: hidden;text-align: left;background-color: #f0f8ff;}#sk-container-id-3 div.sk-toggleable__content pre {margin: 0.2em;color: black;border-radius: 0.25em;background-color: #f0f8ff;}#sk-container-id-3 input.sk-toggleable__control:checked~div.sk-toggleable__content {max-height: 200px;max-width: 100%;overflow: auto;}#sk-container-id-3 input.sk-toggleable__control:checked~label.sk-toggleable__label-arrow:before {content: \"▾\";}#sk-container-id-3 div.sk-estimator input.sk-toggleable__control:checked~label.sk-toggleable__label {background-color: #d4ebff;}#sk-container-id-3 div.sk-label input.sk-toggleable__control:checked~label.sk-toggleable__label {background-color: #d4ebff;}#sk-container-id-3 input.sk-hidden--visually {border: 0;clip: rect(1px 1px 1px 1px);clip: rect(1px, 1px, 1px, 1px);height: 1px;margin: -1px;overflow: hidden;padding: 0;position: absolute;width: 1px;}#sk-container-id-3 div.sk-estimator {font-family: monospace;background-color: #f0f8ff;border: 1px dotted black;border-radius: 0.25em;box-sizing: border-box;margin-bottom: 0.5em;}#sk-container-id-3 div.sk-estimator:hover {background-color: #d4ebff;}#sk-container-id-3 div.sk-parallel-item::after {content: \"\";width: 100%;border-bottom: 1px solid gray;flex-grow: 1;}#sk-container-id-3 div.sk-label:hover label.sk-toggleable__label {background-color: #d4ebff;}#sk-container-id-3 div.sk-serial::before {content: \"\";position: absolute;border-left: 1px solid gray;box-sizing: border-box;top: 0;bottom: 0;left: 50%;z-index: 0;}#sk-container-id-3 div.sk-serial {display: flex;flex-direction: column;align-items: center;background-color: white;padding-right: 0.2em;padding-left: 0.2em;position: relative;}#sk-container-id-3 div.sk-item {position: relative;z-index: 1;}#sk-container-id-3 div.sk-parallel {display: flex;align-items: stretch;justify-content: center;background-color: white;position: relative;}#sk-container-id-3 div.sk-item::before, #sk-container-id-3 div.sk-parallel-item::before {content: \"\";position: absolute;border-left: 1px solid gray;box-sizing: border-box;top: 0;bottom: 0;left: 50%;z-index: -1;}#sk-container-id-3 div.sk-parallel-item {display: flex;flex-direction: column;z-index: 1;position: relative;background-color: white;}#sk-container-id-3 div.sk-parallel-item:first-child::after {align-self: flex-end;width: 50%;}#sk-container-id-3 div.sk-parallel-item:last-child::after {align-self: flex-start;width: 50%;}#sk-container-id-3 div.sk-parallel-item:only-child::after {width: 0;}#sk-container-id-3 div.sk-dashed-wrapped {border: 1px dashed gray;margin: 0 0.4em 0.5em 0.4em;box-sizing: border-box;padding-bottom: 0.4em;background-color: white;}#sk-container-id-3 div.sk-label label {font-family: monospace;font-weight: bold;display: inline-block;line-height: 1.2em;}#sk-container-id-3 div.sk-label-container {text-align: center;}#sk-container-id-3 div.sk-container {/* jupyter's `normalize.less` sets `[hidden] { display: none; }` but bootstrap.min.css set `[hidden] { display: none !important; }` so we also need the `!important` here to be able to override the default hidden behavior on the sphinx rendered scikit-learn.org. See: https://github.com/scikit-learn/scikit-learn/issues/21755 */display: inline-block !important;position: relative;}#sk-container-id-3 div.sk-text-repr-fallback {display: none;}</style><div id=\"sk-container-id-3\" class=\"sk-top-container\"><div class=\"sk-text-repr-fallback\"><pre>Pipeline(steps=[(&#x27;preprocessor&#x27;,\n",
       "                 ColumnTransformer(n_jobs=-1,\n",
       "                                   transformers=[(&#x27;numerical&#x27;,\n",
       "                                                  Pipeline(steps=[(&#x27;numerical_simple_imputer&#x27;,\n",
       "                                                                   SimpleImputer(strategy=&#x27;median&#x27;)),\n",
       "                                                                  (&#x27;scaler&#x27;,\n",
       "                                                                   StandardScaler())]),\n",
       "                                                  [&#x27;Age&#x27;, &#x27;Cabin_num&#x27;]),\n",
       "                                                 (&#x27;narrow_categorical&#x27;,\n",
       "                                                  Pipeline(steps=[(&#x27;narrow_simple_imputer&#x27;,\n",
       "                                                                   SimpleImputer(strategy=&#x27;most_frequent&#x27;)),\n",
       "                                                                  (&#x27;narrow_one_hot_encoder&#x27;,\n",
       "                                                                   OneH...\n",
       "                                                  Pipeline(steps=[(&#x27;simple_imputer&#x27;,\n",
       "                                                                   SimpleImputer(fill_value=0,\n",
       "                                                                                 strategy=&#x27;constant&#x27;)),\n",
       "                                                                  (&#x27;rare_val_aggregator&#x27;,\n",
       "                                                                   RareAndNotRareAggregator()),\n",
       "                                                                  (&#x27;zero_value_aggregator&#x27;,\n",
       "                                                                   ZeroValuesAggregator()),\n",
       "                                                                  (&#x27;num_to_cat_one_hot_encoder&#x27;,\n",
       "                                                                   OneHotEncoder(drop=&#x27;first&#x27;,\n",
       "                                                                                 handle_unknown=&#x27;infrequent_if_exist&#x27;))]),\n",
       "                                                  [&#x27;RoomService&#x27;, &#x27;FoodCourt&#x27;,\n",
       "                                                   &#x27;ShoppingMall&#x27;, &#x27;Spa&#x27;,\n",
       "                                                   &#x27;VRDeck&#x27;])])),\n",
       "                (&#x27;model_SVC&#x27;, SVC())])</pre><b>In a Jupyter environment, please rerun this cell to show the HTML representation or trust the notebook. <br />On GitHub, the HTML representation is unable to render, please try loading this page with nbviewer.org.</b></div><div class=\"sk-container\" hidden><div class=\"sk-item sk-dashed-wrapped\"><div class=\"sk-label-container\"><div class=\"sk-label sk-toggleable\"><input class=\"sk-toggleable__control sk-hidden--visually\" id=\"sk-estimator-id-31\" type=\"checkbox\" ><label for=\"sk-estimator-id-31\" class=\"sk-toggleable__label sk-toggleable__label-arrow\">Pipeline</label><div class=\"sk-toggleable__content\"><pre>Pipeline(steps=[(&#x27;preprocessor&#x27;,\n",
       "                 ColumnTransformer(n_jobs=-1,\n",
       "                                   transformers=[(&#x27;numerical&#x27;,\n",
       "                                                  Pipeline(steps=[(&#x27;numerical_simple_imputer&#x27;,\n",
       "                                                                   SimpleImputer(strategy=&#x27;median&#x27;)),\n",
       "                                                                  (&#x27;scaler&#x27;,\n",
       "                                                                   StandardScaler())]),\n",
       "                                                  [&#x27;Age&#x27;, &#x27;Cabin_num&#x27;]),\n",
       "                                                 (&#x27;narrow_categorical&#x27;,\n",
       "                                                  Pipeline(steps=[(&#x27;narrow_simple_imputer&#x27;,\n",
       "                                                                   SimpleImputer(strategy=&#x27;most_frequent&#x27;)),\n",
       "                                                                  (&#x27;narrow_one_hot_encoder&#x27;,\n",
       "                                                                   OneH...\n",
       "                                                  Pipeline(steps=[(&#x27;simple_imputer&#x27;,\n",
       "                                                                   SimpleImputer(fill_value=0,\n",
       "                                                                                 strategy=&#x27;constant&#x27;)),\n",
       "                                                                  (&#x27;rare_val_aggregator&#x27;,\n",
       "                                                                   RareAndNotRareAggregator()),\n",
       "                                                                  (&#x27;zero_value_aggregator&#x27;,\n",
       "                                                                   ZeroValuesAggregator()),\n",
       "                                                                  (&#x27;num_to_cat_one_hot_encoder&#x27;,\n",
       "                                                                   OneHotEncoder(drop=&#x27;first&#x27;,\n",
       "                                                                                 handle_unknown=&#x27;infrequent_if_exist&#x27;))]),\n",
       "                                                  [&#x27;RoomService&#x27;, &#x27;FoodCourt&#x27;,\n",
       "                                                   &#x27;ShoppingMall&#x27;, &#x27;Spa&#x27;,\n",
       "                                                   &#x27;VRDeck&#x27;])])),\n",
       "                (&#x27;model_SVC&#x27;, SVC())])</pre></div></div></div><div class=\"sk-serial\"><div class=\"sk-item sk-dashed-wrapped\"><div class=\"sk-label-container\"><div class=\"sk-label sk-toggleable\"><input class=\"sk-toggleable__control sk-hidden--visually\" id=\"sk-estimator-id-32\" type=\"checkbox\" ><label for=\"sk-estimator-id-32\" class=\"sk-toggleable__label sk-toggleable__label-arrow\">preprocessor: ColumnTransformer</label><div class=\"sk-toggleable__content\"><pre>ColumnTransformer(n_jobs=-1,\n",
       "                  transformers=[(&#x27;numerical&#x27;,\n",
       "                                 Pipeline(steps=[(&#x27;numerical_simple_imputer&#x27;,\n",
       "                                                  SimpleImputer(strategy=&#x27;median&#x27;)),\n",
       "                                                 (&#x27;scaler&#x27;, StandardScaler())]),\n",
       "                                 [&#x27;Age&#x27;, &#x27;Cabin_num&#x27;]),\n",
       "                                (&#x27;narrow_categorical&#x27;,\n",
       "                                 Pipeline(steps=[(&#x27;narrow_simple_imputer&#x27;,\n",
       "                                                  SimpleImputer(strategy=&#x27;most_frequent&#x27;)),\n",
       "                                                 (&#x27;narrow_one_hot_encoder&#x27;,\n",
       "                                                  OneHotEncoder(drop=&#x27;first&#x27;,\n",
       "                                                                handle_un...\n",
       "                                (&#x27;num_to_categorical&#x27;,\n",
       "                                 Pipeline(steps=[(&#x27;simple_imputer&#x27;,\n",
       "                                                  SimpleImputer(fill_value=0,\n",
       "                                                                strategy=&#x27;constant&#x27;)),\n",
       "                                                 (&#x27;rare_val_aggregator&#x27;,\n",
       "                                                  RareAndNotRareAggregator()),\n",
       "                                                 (&#x27;zero_value_aggregator&#x27;,\n",
       "                                                  ZeroValuesAggregator()),\n",
       "                                                 (&#x27;num_to_cat_one_hot_encoder&#x27;,\n",
       "                                                  OneHotEncoder(drop=&#x27;first&#x27;,\n",
       "                                                                handle_unknown=&#x27;infrequent_if_exist&#x27;))]),\n",
       "                                 [&#x27;RoomService&#x27;, &#x27;FoodCourt&#x27;, &#x27;ShoppingMall&#x27;,\n",
       "                                  &#x27;Spa&#x27;, &#x27;VRDeck&#x27;])])</pre></div></div></div><div class=\"sk-parallel\"><div class=\"sk-parallel-item\"><div class=\"sk-item\"><div class=\"sk-label-container\"><div class=\"sk-label sk-toggleable\"><input class=\"sk-toggleable__control sk-hidden--visually\" id=\"sk-estimator-id-33\" type=\"checkbox\" ><label for=\"sk-estimator-id-33\" class=\"sk-toggleable__label sk-toggleable__label-arrow\">numerical</label><div class=\"sk-toggleable__content\"><pre>[&#x27;Age&#x27;, &#x27;Cabin_num&#x27;]</pre></div></div></div><div class=\"sk-serial\"><div class=\"sk-item\"><div class=\"sk-serial\"><div class=\"sk-item\"><div class=\"sk-estimator sk-toggleable\"><input class=\"sk-toggleable__control sk-hidden--visually\" id=\"sk-estimator-id-34\" type=\"checkbox\" ><label for=\"sk-estimator-id-34\" class=\"sk-toggleable__label sk-toggleable__label-arrow\">SimpleImputer</label><div class=\"sk-toggleable__content\"><pre>SimpleImputer(strategy=&#x27;median&#x27;)</pre></div></div></div><div class=\"sk-item\"><div class=\"sk-estimator sk-toggleable\"><input class=\"sk-toggleable__control sk-hidden--visually\" id=\"sk-estimator-id-35\" type=\"checkbox\" ><label for=\"sk-estimator-id-35\" class=\"sk-toggleable__label sk-toggleable__label-arrow\">StandardScaler</label><div class=\"sk-toggleable__content\"><pre>StandardScaler()</pre></div></div></div></div></div></div></div></div><div class=\"sk-parallel-item\"><div class=\"sk-item\"><div class=\"sk-label-container\"><div class=\"sk-label sk-toggleable\"><input class=\"sk-toggleable__control sk-hidden--visually\" id=\"sk-estimator-id-36\" type=\"checkbox\" ><label for=\"sk-estimator-id-36\" class=\"sk-toggleable__label sk-toggleable__label-arrow\">narrow_categorical</label><div class=\"sk-toggleable__content\"><pre>[&#x27;HomePlanet&#x27;, &#x27;CryoSleep&#x27;, &#x27;Destination&#x27;, &#x27;VIP&#x27;, &#x27;Side&#x27;, &#x27;Travel_alone&#x27;]</pre></div></div></div><div class=\"sk-serial\"><div class=\"sk-item\"><div class=\"sk-serial\"><div class=\"sk-item\"><div class=\"sk-estimator sk-toggleable\"><input class=\"sk-toggleable__control sk-hidden--visually\" id=\"sk-estimator-id-37\" type=\"checkbox\" ><label for=\"sk-estimator-id-37\" class=\"sk-toggleable__label sk-toggleable__label-arrow\">SimpleImputer</label><div class=\"sk-toggleable__content\"><pre>SimpleImputer(strategy=&#x27;most_frequent&#x27;)</pre></div></div></div><div class=\"sk-item\"><div class=\"sk-estimator sk-toggleable\"><input class=\"sk-toggleable__control sk-hidden--visually\" id=\"sk-estimator-id-38\" type=\"checkbox\" ><label for=\"sk-estimator-id-38\" class=\"sk-toggleable__label sk-toggleable__label-arrow\">OneHotEncoder</label><div class=\"sk-toggleable__content\"><pre>OneHotEncoder(drop=&#x27;first&#x27;, handle_unknown=&#x27;ignore&#x27;)</pre></div></div></div></div></div></div></div></div><div class=\"sk-parallel-item\"><div class=\"sk-item\"><div class=\"sk-label-container\"><div class=\"sk-label sk-toggleable\"><input class=\"sk-toggleable__control sk-hidden--visually\" id=\"sk-estimator-id-39\" type=\"checkbox\" ><label for=\"sk-estimator-id-39\" class=\"sk-toggleable__label sk-toggleable__label-arrow\">multi_categorical</label><div class=\"sk-toggleable__content\"><pre>[&#x27;Deck&#x27;]</pre></div></div></div><div class=\"sk-serial\"><div class=\"sk-item\"><div class=\"sk-serial\"><div class=\"sk-item\"><div class=\"sk-estimator sk-toggleable\"><input class=\"sk-toggleable__control sk-hidden--visually\" id=\"sk-estimator-id-40\" type=\"checkbox\" ><label for=\"sk-estimator-id-40\" class=\"sk-toggleable__label sk-toggleable__label-arrow\">OneHotEncoder</label><div class=\"sk-toggleable__content\"><pre>OneHotEncoder(drop=&#x27;first&#x27;, handle_unknown=&#x27;infrequent_if_exist&#x27;,\n",
       "              min_frequency=500)</pre></div></div></div></div></div></div></div></div><div class=\"sk-parallel-item\"><div class=\"sk-item\"><div class=\"sk-label-container\"><div class=\"sk-label sk-toggleable\"><input class=\"sk-toggleable__control sk-hidden--visually\" id=\"sk-estimator-id-41\" type=\"checkbox\" ><label for=\"sk-estimator-id-41\" class=\"sk-toggleable__label sk-toggleable__label-arrow\">num_to_categorical</label><div class=\"sk-toggleable__content\"><pre>[&#x27;RoomService&#x27;, &#x27;FoodCourt&#x27;, &#x27;ShoppingMall&#x27;, &#x27;Spa&#x27;, &#x27;VRDeck&#x27;]</pre></div></div></div><div class=\"sk-serial\"><div class=\"sk-item\"><div class=\"sk-serial\"><div class=\"sk-item\"><div class=\"sk-estimator sk-toggleable\"><input class=\"sk-toggleable__control sk-hidden--visually\" id=\"sk-estimator-id-42\" type=\"checkbox\" ><label for=\"sk-estimator-id-42\" class=\"sk-toggleable__label sk-toggleable__label-arrow\">SimpleImputer</label><div class=\"sk-toggleable__content\"><pre>SimpleImputer(fill_value=0, strategy=&#x27;constant&#x27;)</pre></div></div></div><div class=\"sk-item\"><div class=\"sk-estimator sk-toggleable\"><input class=\"sk-toggleable__control sk-hidden--visually\" id=\"sk-estimator-id-43\" type=\"checkbox\" ><label for=\"sk-estimator-id-43\" class=\"sk-toggleable__label sk-toggleable__label-arrow\">RareAndNotRareAggregator</label><div class=\"sk-toggleable__content\"><pre>RareAndNotRareAggregator()</pre></div></div></div><div class=\"sk-item\"><div class=\"sk-estimator sk-toggleable\"><input class=\"sk-toggleable__control sk-hidden--visually\" id=\"sk-estimator-id-44\" type=\"checkbox\" ><label for=\"sk-estimator-id-44\" class=\"sk-toggleable__label sk-toggleable__label-arrow\">ZeroValuesAggregator</label><div class=\"sk-toggleable__content\"><pre>ZeroValuesAggregator()</pre></div></div></div><div class=\"sk-item\"><div class=\"sk-estimator sk-toggleable\"><input class=\"sk-toggleable__control sk-hidden--visually\" id=\"sk-estimator-id-45\" type=\"checkbox\" ><label for=\"sk-estimator-id-45\" class=\"sk-toggleable__label sk-toggleable__label-arrow\">OneHotEncoder</label><div class=\"sk-toggleable__content\"><pre>OneHotEncoder(drop=&#x27;first&#x27;, handle_unknown=&#x27;infrequent_if_exist&#x27;)</pre></div></div></div></div></div></div></div></div></div></div><div class=\"sk-item\"><div class=\"sk-estimator sk-toggleable\"><input class=\"sk-toggleable__control sk-hidden--visually\" id=\"sk-estimator-id-46\" type=\"checkbox\" ><label for=\"sk-estimator-id-46\" class=\"sk-toggleable__label sk-toggleable__label-arrow\">SVC</label><div class=\"sk-toggleable__content\"><pre>SVC()</pre></div></div></div></div></div></div></div>"
      ],
      "text/plain": [
       "Pipeline(steps=[('preprocessor',\n",
       "                 ColumnTransformer(n_jobs=-1,\n",
       "                                   transformers=[('numerical',\n",
       "                                                  Pipeline(steps=[('numerical_simple_imputer',\n",
       "                                                                   SimpleImputer(strategy='median')),\n",
       "                                                                  ('scaler',\n",
       "                                                                   StandardScaler())]),\n",
       "                                                  ['Age', 'Cabin_num']),\n",
       "                                                 ('narrow_categorical',\n",
       "                                                  Pipeline(steps=[('narrow_simple_imputer',\n",
       "                                                                   SimpleImputer(strategy='most_frequent')),\n",
       "                                                                  ('narrow_one_hot_encoder',\n",
       "                                                                   OneH...\n",
       "                                                  Pipeline(steps=[('simple_imputer',\n",
       "                                                                   SimpleImputer(fill_value=0,\n",
       "                                                                                 strategy='constant')),\n",
       "                                                                  ('rare_val_aggregator',\n",
       "                                                                   RareAndNotRareAggregator()),\n",
       "                                                                  ('zero_value_aggregator',\n",
       "                                                                   ZeroValuesAggregator()),\n",
       "                                                                  ('num_to_cat_one_hot_encoder',\n",
       "                                                                   OneHotEncoder(drop='first',\n",
       "                                                                                 handle_unknown='infrequent_if_exist'))]),\n",
       "                                                  ['RoomService', 'FoodCourt',\n",
       "                                                   'ShoppingMall', 'Spa',\n",
       "                                                   'VRDeck'])])),\n",
       "                ('model_SVC', SVC())])"
      ]
     },
     "execution_count": 57,
     "metadata": {},
     "output_type": "execute_result"
    }
   ],
   "source": [
    "pipe_svc = Pipeline([\n",
    "    (\"preprocessor\", preprocessor),\n",
    "    (\"model_SVC\", SVC())\n",
    "])\n",
    "pipe_svc.fit(X_train, y_train)"
   ]
  },
  {
   "cell_type": "code",
   "execution_count": 58,
   "id": "satellite-stack",
   "metadata": {},
   "outputs": [
    {
     "name": "stdout",
     "output_type": "stream",
     "text": [
      "SVC - Support Vector Classification\n",
      "Accuracy on test data: 0.784\n",
      "Accuracy on train data: 0.773\n",
      "f1 score on test data: 0.780\n",
      "f1 score on train data: 0.769\n"
     ]
    }
   ],
   "source": [
    "y_pred_svc = pipe_svc.predict(X_test)\n",
    "accuracy_svc = accuracy_score(y_test, y_pred_svc)\n",
    "accuracy_svc_train = accuracy_score(y_train, pipe_svc.predict(X_train))\n",
    "f1_svc = f1_score(y_test, y_pred_svc)\n",
    "f1_svc_train = f1_score(y_train, pipe_svc.predict(X_train))\n",
    "print('SVC - Support Vector Classification')\n",
    "print('Accuracy on test data: %0.3f' %accuracy_svc_train)\n",
    "print('Accuracy on train data: %0.3f' %accuracy_svc)\n",
    "print('f1 score on test data: %0.3f' %f1_svc_train)\n",
    "print('f1 score on train data: %0.3f' %f1_svc)"
   ]
  },
  {
   "cell_type": "code",
   "execution_count": 67,
   "id": "sapphire-telling",
   "metadata": {
    "scrolled": true
   },
   "outputs": [
    {
     "name": "stdout",
     "output_type": "stream",
     "text": [
      "Fitting 10 folds for each of 8 candidates, totalling 80 fits\n"
     ]
    },
    {
     "data": {
      "text/plain": [
       "array([0.7452705 , 0.73541181, 0.75431116, 0.746256  , 0.75398437,\n",
       "       0.76416715, 0.75283359, 0.75907927])"
      ]
     },
     "execution_count": 67,
     "metadata": {},
     "output_type": "execute_result"
    }
   ],
   "source": [
    "kfold = StratifiedKFold(10, shuffle=True, random_state=123)  \n",
    "\n",
    "params = {\n",
    "        \"model_SVC__kernel\": [\"linear\", \"rbf\"],\n",
    "        \"model_SVC__C\": [0.01, 0.1, 1, 10]}\n",
    "\n",
    "optimizer_svc = GridSearchCV(pipe_svc, params, \n",
    "                         scoring='accuracy',           \n",
    "                         cv=kfold, \n",
    "                         verbose=1,\n",
    "                         n_jobs=-1) \n",
    "\n",
    "optimizer_svc.fit(X_train, y_train)\n",
    "optimizer_svc.cv_results_[\"mean_test_score\"]"
   ]
  },
  {
   "cell_type": "code",
   "execution_count": 68,
   "id": "intelligent-yahoo",
   "metadata": {},
   "outputs": [
    {
     "name": "stdout",
     "output_type": "stream",
     "text": [
      "SVC - Support Vector Classification - with grid\n",
      "Accuracy on test data: 0.784\n",
      "Accuracy on train data: 0.773\n",
      "Best score: 0.764\n",
      "Best params: {'model_SVC__C': 1, 'model_SVC__kernel': 'rbf'}\n"
     ]
    }
   ],
   "source": [
    "y_pred_svc_cv = optimizer_svc.predict(X_test)\n",
    "accuracy_svc_cv = accuracy_score(y_test, y_pred_svc_cv)\n",
    "accuracy_svc_train_cv = accuracy_score(y_train, optimizer_svc.predict(X_train))\n",
    "print('SVC - Support Vector Classification - with grid')\n",
    "print('Accuracy on test data: %0.3f' %accuracy_svc_train_cv)\n",
    "print('Accuracy on train data: %0.3f' %accuracy_svc_cv)\n",
    "print(f'Best score: %0.3f' %optimizer_svc.best_score_)\n",
    "print(f'Best params: {optimizer_svc.best_params_}')"
   ]
  },
  {
   "cell_type": "code",
   "execution_count": 69,
   "id": "moderate-consultation",
   "metadata": {},
   "outputs": [
    {
     "name": "stdout",
     "output_type": "stream",
     "text": [
      "Fitting 10 folds for each of 100 candidates, totalling 1000 fits\n"
     ]
    },
    {
     "data": {
      "text/plain": [
       "array([0.74708215, 0.72752895, 0.742317  , 0.76416877, 0.72769397,\n",
       "       0.76268878, 0.76334749, 0.7635125 , 0.76318652, 0.76285812,\n",
       "       0.74461693, 0.76400727, 0.76334776, 0.72752895, 0.76499276,\n",
       "       0.72260068, 0.7623655 , 0.74297408, 0.72933573, 0.76450015,\n",
       "       0.76515697, 0.76515697, 0.76450069, 0.72835078, 0.76498952,\n",
       "       0.76318625, 0.76449988, 0.72752895, 0.76532117, 0.72835078,\n",
       "       0.7613738 , 0.76334749, 0.76285379, 0.76466462, 0.73886305,\n",
       "       0.73968758, 0.72851498, 0.76548537, 0.76450069, 0.76302286,\n",
       "       0.76269391, 0.76252971, 0.73163512, 0.76285812, 0.75611983,\n",
       "       0.76433541, 0.76285757, 0.76400754, 0.729336  , 0.7633464 ,\n",
       "       0.76466462, 0.7319638 , 0.76400835, 0.75907441, 0.72424434,\n",
       "       0.73952311, 0.76302205, 0.74708242, 0.76203143, 0.759079  ,\n",
       "       0.74478113, 0.76285298, 0.76499357, 0.73262088, 0.76450123,\n",
       "       0.76318706, 0.76351196, 0.7648291 , 0.76384145, 0.73952122,\n",
       "       0.74133124, 0.72523037, 0.72769397, 0.73229302, 0.75727168,\n",
       "       0.72621505, 0.76351223, 0.76351196, 0.73212746, 0.74461693,\n",
       "       0.76269364, 0.75201176, 0.75677745, 0.72276543, 0.76236118,\n",
       "       0.73245614, 0.76318706, 0.76351412, 0.74527374, 0.76285812,\n",
       "       0.72375146, 0.7280221 , 0.76252917, 0.72375146, 0.73262088,\n",
       "       0.76400754, 0.76285812, 0.76318328, 0.73229248, 0.7623655 ])"
      ]
     },
     "execution_count": 69,
     "metadata": {},
     "output_type": "execute_result"
    }
   ],
   "source": [
    "kfold = StratifiedKFold(10, shuffle=True, random_state=123)  \n",
    "\n",
    "params = {\n",
    "        \"model_SVC__kernel\": [\"rbf\"],\n",
    "        \"model_SVC__C\": uniform(loc=0.001, scale=100),\n",
    "        \"model_SVC__gamma\" : [\"scale\", \"auto\"]\n",
    "}\n",
    "\n",
    "optimizer_svc = RandomizedSearchCV(pipe_svc, params, \n",
    "                         scoring='accuracy',\n",
    "                         n_iter=100,           \n",
    "                         cv=kfold, \n",
    "                         verbose=1,\n",
    "                         n_jobs=-1) \n",
    "\n",
    "optimizer_svc.fit(X_train, y_train)\n",
    "optimizer_svc.cv_results_[\"mean_test_score\"]"
   ]
  },
  {
   "cell_type": "code",
   "execution_count": 70,
   "id": "seventh-offering",
   "metadata": {},
   "outputs": [
    {
     "name": "stdout",
     "output_type": "stream",
     "text": [
      "SVC - Support Vector Classification - with grid\n",
      "Accuracy on test data: 0.799\n",
      "Accuracy on train data: 0.772\n",
      "Best score: 0.765\n",
      "Best params: {'model_SVC__C': 47.21549019817497, 'model_SVC__gamma': 'auto', 'model_SVC__kernel': 'rbf'}\n"
     ]
    }
   ],
   "source": [
    "y_pred_svc_cv = optimizer_svc.predict(X_test)\n",
    "accuracy_svc_cv = accuracy_score(y_test, y_pred_svc_cv)\n",
    "accuracy_svc_train_cv = accuracy_score(y_train, optimizer_svc.predict(X_train))\n",
    "print('SVC - Support Vector Classification - with grid')\n",
    "print('Accuracy on test data: %0.3f' %accuracy_svc_train_cv)\n",
    "print('Accuracy on train data: %0.3f' %accuracy_svc_cv)\n",
    "print(f'Best score: %0.3f' %optimizer_svc.best_score_)\n",
    "print(f'Best params: {optimizer_svc.best_params_}')"
   ]
  },
  {
   "cell_type": "code",
   "execution_count": null,
   "id": "atomic-symphony",
   "metadata": {},
   "outputs": [],
   "source": []
  },
  {
   "cell_type": "markdown",
   "id": "norwegian-narrow",
   "metadata": {},
   "source": [
    "### XGBoost"
   ]
  },
  {
   "cell_type": "code",
   "execution_count": 71,
   "id": "primary-evans",
   "metadata": {},
   "outputs": [
    {
     "data": {
      "text/html": [
       "<style>#sk-container-id-4 {color: black;background-color: white;}#sk-container-id-4 pre{padding: 0;}#sk-container-id-4 div.sk-toggleable {background-color: white;}#sk-container-id-4 label.sk-toggleable__label {cursor: pointer;display: block;width: 100%;margin-bottom: 0;padding: 0.3em;box-sizing: border-box;text-align: center;}#sk-container-id-4 label.sk-toggleable__label-arrow:before {content: \"▸\";float: left;margin-right: 0.25em;color: #696969;}#sk-container-id-4 label.sk-toggleable__label-arrow:hover:before {color: black;}#sk-container-id-4 div.sk-estimator:hover label.sk-toggleable__label-arrow:before {color: black;}#sk-container-id-4 div.sk-toggleable__content {max-height: 0;max-width: 0;overflow: hidden;text-align: left;background-color: #f0f8ff;}#sk-container-id-4 div.sk-toggleable__content pre {margin: 0.2em;color: black;border-radius: 0.25em;background-color: #f0f8ff;}#sk-container-id-4 input.sk-toggleable__control:checked~div.sk-toggleable__content {max-height: 200px;max-width: 100%;overflow: auto;}#sk-container-id-4 input.sk-toggleable__control:checked~label.sk-toggleable__label-arrow:before {content: \"▾\";}#sk-container-id-4 div.sk-estimator input.sk-toggleable__control:checked~label.sk-toggleable__label {background-color: #d4ebff;}#sk-container-id-4 div.sk-label input.sk-toggleable__control:checked~label.sk-toggleable__label {background-color: #d4ebff;}#sk-container-id-4 input.sk-hidden--visually {border: 0;clip: rect(1px 1px 1px 1px);clip: rect(1px, 1px, 1px, 1px);height: 1px;margin: -1px;overflow: hidden;padding: 0;position: absolute;width: 1px;}#sk-container-id-4 div.sk-estimator {font-family: monospace;background-color: #f0f8ff;border: 1px dotted black;border-radius: 0.25em;box-sizing: border-box;margin-bottom: 0.5em;}#sk-container-id-4 div.sk-estimator:hover {background-color: #d4ebff;}#sk-container-id-4 div.sk-parallel-item::after {content: \"\";width: 100%;border-bottom: 1px solid gray;flex-grow: 1;}#sk-container-id-4 div.sk-label:hover label.sk-toggleable__label {background-color: #d4ebff;}#sk-container-id-4 div.sk-serial::before {content: \"\";position: absolute;border-left: 1px solid gray;box-sizing: border-box;top: 0;bottom: 0;left: 50%;z-index: 0;}#sk-container-id-4 div.sk-serial {display: flex;flex-direction: column;align-items: center;background-color: white;padding-right: 0.2em;padding-left: 0.2em;position: relative;}#sk-container-id-4 div.sk-item {position: relative;z-index: 1;}#sk-container-id-4 div.sk-parallel {display: flex;align-items: stretch;justify-content: center;background-color: white;position: relative;}#sk-container-id-4 div.sk-item::before, #sk-container-id-4 div.sk-parallel-item::before {content: \"\";position: absolute;border-left: 1px solid gray;box-sizing: border-box;top: 0;bottom: 0;left: 50%;z-index: -1;}#sk-container-id-4 div.sk-parallel-item {display: flex;flex-direction: column;z-index: 1;position: relative;background-color: white;}#sk-container-id-4 div.sk-parallel-item:first-child::after {align-self: flex-end;width: 50%;}#sk-container-id-4 div.sk-parallel-item:last-child::after {align-self: flex-start;width: 50%;}#sk-container-id-4 div.sk-parallel-item:only-child::after {width: 0;}#sk-container-id-4 div.sk-dashed-wrapped {border: 1px dashed gray;margin: 0 0.4em 0.5em 0.4em;box-sizing: border-box;padding-bottom: 0.4em;background-color: white;}#sk-container-id-4 div.sk-label label {font-family: monospace;font-weight: bold;display: inline-block;line-height: 1.2em;}#sk-container-id-4 div.sk-label-container {text-align: center;}#sk-container-id-4 div.sk-container {/* jupyter's `normalize.less` sets `[hidden] { display: none; }` but bootstrap.min.css set `[hidden] { display: none !important; }` so we also need the `!important` here to be able to override the default hidden behavior on the sphinx rendered scikit-learn.org. See: https://github.com/scikit-learn/scikit-learn/issues/21755 */display: inline-block !important;position: relative;}#sk-container-id-4 div.sk-text-repr-fallback {display: none;}</style><div id=\"sk-container-id-4\" class=\"sk-top-container\"><div class=\"sk-text-repr-fallback\"><pre>Pipeline(steps=[(&#x27;preprocessor&#x27;,\n",
       "                 ColumnTransformer(n_jobs=-1,\n",
       "                                   transformers=[(&#x27;numerical&#x27;,\n",
       "                                                  Pipeline(steps=[(&#x27;numerical_simple_imputer&#x27;,\n",
       "                                                                   SimpleImputer(strategy=&#x27;median&#x27;)),\n",
       "                                                                  (&#x27;scaler&#x27;,\n",
       "                                                                   StandardScaler())]),\n",
       "                                                  [&#x27;Age&#x27;, &#x27;Cabin_num&#x27;]),\n",
       "                                                 (&#x27;narrow_categorical&#x27;,\n",
       "                                                  Pipeline(steps=[(&#x27;narrow_simple_imputer&#x27;,\n",
       "                                                                   SimpleImputer(strategy=&#x27;most_frequent&#x27;)),\n",
       "                                                                  (&#x27;narrow_one_hot_encoder&#x27;,\n",
       "                                                                   OneH...\n",
       "                               feature_types=None, gamma=None, gpu_id=None,\n",
       "                               grow_policy=None, importance_type=None,\n",
       "                               interaction_constraints=None, learning_rate=None,\n",
       "                               max_bin=None, max_cat_threshold=None,\n",
       "                               max_cat_to_onehot=None, max_delta_step=None,\n",
       "                               max_depth=None, max_leaves=None,\n",
       "                               min_child_weight=None, missing=nan,\n",
       "                               monotone_constraints=None, n_estimators=100,\n",
       "                               n_jobs=None, num_parallel_tree=None,\n",
       "                               predictor=None, random_state=None, ...))])</pre><b>In a Jupyter environment, please rerun this cell to show the HTML representation or trust the notebook. <br />On GitHub, the HTML representation is unable to render, please try loading this page with nbviewer.org.</b></div><div class=\"sk-container\" hidden><div class=\"sk-item sk-dashed-wrapped\"><div class=\"sk-label-container\"><div class=\"sk-label sk-toggleable\"><input class=\"sk-toggleable__control sk-hidden--visually\" id=\"sk-estimator-id-47\" type=\"checkbox\" ><label for=\"sk-estimator-id-47\" class=\"sk-toggleable__label sk-toggleable__label-arrow\">Pipeline</label><div class=\"sk-toggleable__content\"><pre>Pipeline(steps=[(&#x27;preprocessor&#x27;,\n",
       "                 ColumnTransformer(n_jobs=-1,\n",
       "                                   transformers=[(&#x27;numerical&#x27;,\n",
       "                                                  Pipeline(steps=[(&#x27;numerical_simple_imputer&#x27;,\n",
       "                                                                   SimpleImputer(strategy=&#x27;median&#x27;)),\n",
       "                                                                  (&#x27;scaler&#x27;,\n",
       "                                                                   StandardScaler())]),\n",
       "                                                  [&#x27;Age&#x27;, &#x27;Cabin_num&#x27;]),\n",
       "                                                 (&#x27;narrow_categorical&#x27;,\n",
       "                                                  Pipeline(steps=[(&#x27;narrow_simple_imputer&#x27;,\n",
       "                                                                   SimpleImputer(strategy=&#x27;most_frequent&#x27;)),\n",
       "                                                                  (&#x27;narrow_one_hot_encoder&#x27;,\n",
       "                                                                   OneH...\n",
       "                               feature_types=None, gamma=None, gpu_id=None,\n",
       "                               grow_policy=None, importance_type=None,\n",
       "                               interaction_constraints=None, learning_rate=None,\n",
       "                               max_bin=None, max_cat_threshold=None,\n",
       "                               max_cat_to_onehot=None, max_delta_step=None,\n",
       "                               max_depth=None, max_leaves=None,\n",
       "                               min_child_weight=None, missing=nan,\n",
       "                               monotone_constraints=None, n_estimators=100,\n",
       "                               n_jobs=None, num_parallel_tree=None,\n",
       "                               predictor=None, random_state=None, ...))])</pre></div></div></div><div class=\"sk-serial\"><div class=\"sk-item sk-dashed-wrapped\"><div class=\"sk-label-container\"><div class=\"sk-label sk-toggleable\"><input class=\"sk-toggleable__control sk-hidden--visually\" id=\"sk-estimator-id-48\" type=\"checkbox\" ><label for=\"sk-estimator-id-48\" class=\"sk-toggleable__label sk-toggleable__label-arrow\">preprocessor: ColumnTransformer</label><div class=\"sk-toggleable__content\"><pre>ColumnTransformer(n_jobs=-1,\n",
       "                  transformers=[(&#x27;numerical&#x27;,\n",
       "                                 Pipeline(steps=[(&#x27;numerical_simple_imputer&#x27;,\n",
       "                                                  SimpleImputer(strategy=&#x27;median&#x27;)),\n",
       "                                                 (&#x27;scaler&#x27;, StandardScaler())]),\n",
       "                                 [&#x27;Age&#x27;, &#x27;Cabin_num&#x27;]),\n",
       "                                (&#x27;narrow_categorical&#x27;,\n",
       "                                 Pipeline(steps=[(&#x27;narrow_simple_imputer&#x27;,\n",
       "                                                  SimpleImputer(strategy=&#x27;most_frequent&#x27;)),\n",
       "                                                 (&#x27;narrow_one_hot_encoder&#x27;,\n",
       "                                                  OneHotEncoder(drop=&#x27;first&#x27;,\n",
       "                                                                handle_un...\n",
       "                                (&#x27;num_to_categorical&#x27;,\n",
       "                                 Pipeline(steps=[(&#x27;simple_imputer&#x27;,\n",
       "                                                  SimpleImputer(fill_value=0,\n",
       "                                                                strategy=&#x27;constant&#x27;)),\n",
       "                                                 (&#x27;rare_val_aggregator&#x27;,\n",
       "                                                  RareAndNotRareAggregator()),\n",
       "                                                 (&#x27;zero_value_aggregator&#x27;,\n",
       "                                                  ZeroValuesAggregator()),\n",
       "                                                 (&#x27;num_to_cat_one_hot_encoder&#x27;,\n",
       "                                                  OneHotEncoder(drop=&#x27;first&#x27;,\n",
       "                                                                handle_unknown=&#x27;infrequent_if_exist&#x27;))]),\n",
       "                                 [&#x27;RoomService&#x27;, &#x27;FoodCourt&#x27;, &#x27;ShoppingMall&#x27;,\n",
       "                                  &#x27;Spa&#x27;, &#x27;VRDeck&#x27;])])</pre></div></div></div><div class=\"sk-parallel\"><div class=\"sk-parallel-item\"><div class=\"sk-item\"><div class=\"sk-label-container\"><div class=\"sk-label sk-toggleable\"><input class=\"sk-toggleable__control sk-hidden--visually\" id=\"sk-estimator-id-49\" type=\"checkbox\" ><label for=\"sk-estimator-id-49\" class=\"sk-toggleable__label sk-toggleable__label-arrow\">numerical</label><div class=\"sk-toggleable__content\"><pre>[&#x27;Age&#x27;, &#x27;Cabin_num&#x27;]</pre></div></div></div><div class=\"sk-serial\"><div class=\"sk-item\"><div class=\"sk-serial\"><div class=\"sk-item\"><div class=\"sk-estimator sk-toggleable\"><input class=\"sk-toggleable__control sk-hidden--visually\" id=\"sk-estimator-id-50\" type=\"checkbox\" ><label for=\"sk-estimator-id-50\" class=\"sk-toggleable__label sk-toggleable__label-arrow\">SimpleImputer</label><div class=\"sk-toggleable__content\"><pre>SimpleImputer(strategy=&#x27;median&#x27;)</pre></div></div></div><div class=\"sk-item\"><div class=\"sk-estimator sk-toggleable\"><input class=\"sk-toggleable__control sk-hidden--visually\" id=\"sk-estimator-id-51\" type=\"checkbox\" ><label for=\"sk-estimator-id-51\" class=\"sk-toggleable__label sk-toggleable__label-arrow\">StandardScaler</label><div class=\"sk-toggleable__content\"><pre>StandardScaler()</pre></div></div></div></div></div></div></div></div><div class=\"sk-parallel-item\"><div class=\"sk-item\"><div class=\"sk-label-container\"><div class=\"sk-label sk-toggleable\"><input class=\"sk-toggleable__control sk-hidden--visually\" id=\"sk-estimator-id-52\" type=\"checkbox\" ><label for=\"sk-estimator-id-52\" class=\"sk-toggleable__label sk-toggleable__label-arrow\">narrow_categorical</label><div class=\"sk-toggleable__content\"><pre>[&#x27;HomePlanet&#x27;, &#x27;CryoSleep&#x27;, &#x27;Destination&#x27;, &#x27;VIP&#x27;, &#x27;Side&#x27;, &#x27;Travel_alone&#x27;]</pre></div></div></div><div class=\"sk-serial\"><div class=\"sk-item\"><div class=\"sk-serial\"><div class=\"sk-item\"><div class=\"sk-estimator sk-toggleable\"><input class=\"sk-toggleable__control sk-hidden--visually\" id=\"sk-estimator-id-53\" type=\"checkbox\" ><label for=\"sk-estimator-id-53\" class=\"sk-toggleable__label sk-toggleable__label-arrow\">SimpleImputer</label><div class=\"sk-toggleable__content\"><pre>SimpleImputer(strategy=&#x27;most_frequent&#x27;)</pre></div></div></div><div class=\"sk-item\"><div class=\"sk-estimator sk-toggleable\"><input class=\"sk-toggleable__control sk-hidden--visually\" id=\"sk-estimator-id-54\" type=\"checkbox\" ><label for=\"sk-estimator-id-54\" class=\"sk-toggleable__label sk-toggleable__label-arrow\">OneHotEncoder</label><div class=\"sk-toggleable__content\"><pre>OneHotEncoder(drop=&#x27;first&#x27;, handle_unknown=&#x27;ignore&#x27;)</pre></div></div></div></div></div></div></div></div><div class=\"sk-parallel-item\"><div class=\"sk-item\"><div class=\"sk-label-container\"><div class=\"sk-label sk-toggleable\"><input class=\"sk-toggleable__control sk-hidden--visually\" id=\"sk-estimator-id-55\" type=\"checkbox\" ><label for=\"sk-estimator-id-55\" class=\"sk-toggleable__label sk-toggleable__label-arrow\">multi_categorical</label><div class=\"sk-toggleable__content\"><pre>[&#x27;Deck&#x27;]</pre></div></div></div><div class=\"sk-serial\"><div class=\"sk-item\"><div class=\"sk-serial\"><div class=\"sk-item\"><div class=\"sk-estimator sk-toggleable\"><input class=\"sk-toggleable__control sk-hidden--visually\" id=\"sk-estimator-id-56\" type=\"checkbox\" ><label for=\"sk-estimator-id-56\" class=\"sk-toggleable__label sk-toggleable__label-arrow\">OneHotEncoder</label><div class=\"sk-toggleable__content\"><pre>OneHotEncoder(drop=&#x27;first&#x27;, handle_unknown=&#x27;infrequent_if_exist&#x27;,\n",
       "              min_frequency=500)</pre></div></div></div></div></div></div></div></div><div class=\"sk-parallel-item\"><div class=\"sk-item\"><div class=\"sk-label-container\"><div class=\"sk-label sk-toggleable\"><input class=\"sk-toggleable__control sk-hidden--visually\" id=\"sk-estimator-id-57\" type=\"checkbox\" ><label for=\"sk-estimator-id-57\" class=\"sk-toggleable__label sk-toggleable__label-arrow\">num_to_categorical</label><div class=\"sk-toggleable__content\"><pre>[&#x27;RoomService&#x27;, &#x27;FoodCourt&#x27;, &#x27;ShoppingMall&#x27;, &#x27;Spa&#x27;, &#x27;VRDeck&#x27;]</pre></div></div></div><div class=\"sk-serial\"><div class=\"sk-item\"><div class=\"sk-serial\"><div class=\"sk-item\"><div class=\"sk-estimator sk-toggleable\"><input class=\"sk-toggleable__control sk-hidden--visually\" id=\"sk-estimator-id-58\" type=\"checkbox\" ><label for=\"sk-estimator-id-58\" class=\"sk-toggleable__label sk-toggleable__label-arrow\">SimpleImputer</label><div class=\"sk-toggleable__content\"><pre>SimpleImputer(fill_value=0, strategy=&#x27;constant&#x27;)</pre></div></div></div><div class=\"sk-item\"><div class=\"sk-estimator sk-toggleable\"><input class=\"sk-toggleable__control sk-hidden--visually\" id=\"sk-estimator-id-59\" type=\"checkbox\" ><label for=\"sk-estimator-id-59\" class=\"sk-toggleable__label sk-toggleable__label-arrow\">RareAndNotRareAggregator</label><div class=\"sk-toggleable__content\"><pre>RareAndNotRareAggregator()</pre></div></div></div><div class=\"sk-item\"><div class=\"sk-estimator sk-toggleable\"><input class=\"sk-toggleable__control sk-hidden--visually\" id=\"sk-estimator-id-60\" type=\"checkbox\" ><label for=\"sk-estimator-id-60\" class=\"sk-toggleable__label sk-toggleable__label-arrow\">ZeroValuesAggregator</label><div class=\"sk-toggleable__content\"><pre>ZeroValuesAggregator()</pre></div></div></div><div class=\"sk-item\"><div class=\"sk-estimator sk-toggleable\"><input class=\"sk-toggleable__control sk-hidden--visually\" id=\"sk-estimator-id-61\" type=\"checkbox\" ><label for=\"sk-estimator-id-61\" class=\"sk-toggleable__label sk-toggleable__label-arrow\">OneHotEncoder</label><div class=\"sk-toggleable__content\"><pre>OneHotEncoder(drop=&#x27;first&#x27;, handle_unknown=&#x27;infrequent_if_exist&#x27;)</pre></div></div></div></div></div></div></div></div></div></div><div class=\"sk-item\"><div class=\"sk-estimator sk-toggleable\"><input class=\"sk-toggleable__control sk-hidden--visually\" id=\"sk-estimator-id-62\" type=\"checkbox\" ><label for=\"sk-estimator-id-62\" class=\"sk-toggleable__label sk-toggleable__label-arrow\">XGBClassifier</label><div class=\"sk-toggleable__content\"><pre>XGBClassifier(base_score=None, booster=None, callbacks=None,\n",
       "              colsample_bylevel=None, colsample_bynode=None,\n",
       "              colsample_bytree=None, early_stopping_rounds=None,\n",
       "              enable_categorical=False, eval_metric=None, feature_types=None,\n",
       "              gamma=None, gpu_id=None, grow_policy=None, importance_type=None,\n",
       "              interaction_constraints=None, learning_rate=None, max_bin=None,\n",
       "              max_cat_threshold=None, max_cat_to_onehot=None,\n",
       "              max_delta_step=None, max_depth=None, max_leaves=None,\n",
       "              min_child_weight=None, missing=nan, monotone_constraints=None,\n",
       "              n_estimators=100, n_jobs=None, num_parallel_tree=None,\n",
       "              predictor=None, random_state=None, ...)</pre></div></div></div></div></div></div></div>"
      ],
      "text/plain": [
       "Pipeline(steps=[('preprocessor',\n",
       "                 ColumnTransformer(n_jobs=-1,\n",
       "                                   transformers=[('numerical',\n",
       "                                                  Pipeline(steps=[('numerical_simple_imputer',\n",
       "                                                                   SimpleImputer(strategy='median')),\n",
       "                                                                  ('scaler',\n",
       "                                                                   StandardScaler())]),\n",
       "                                                  ['Age', 'Cabin_num']),\n",
       "                                                 ('narrow_categorical',\n",
       "                                                  Pipeline(steps=[('narrow_simple_imputer',\n",
       "                                                                   SimpleImputer(strategy='most_frequent')),\n",
       "                                                                  ('narrow_one_hot_encoder',\n",
       "                                                                   OneH...\n",
       "                               feature_types=None, gamma=None, gpu_id=None,\n",
       "                               grow_policy=None, importance_type=None,\n",
       "                               interaction_constraints=None, learning_rate=None,\n",
       "                               max_bin=None, max_cat_threshold=None,\n",
       "                               max_cat_to_onehot=None, max_delta_step=None,\n",
       "                               max_depth=None, max_leaves=None,\n",
       "                               min_child_weight=None, missing=nan,\n",
       "                               monotone_constraints=None, n_estimators=100,\n",
       "                               n_jobs=None, num_parallel_tree=None,\n",
       "                               predictor=None, random_state=None, ...))])"
      ]
     },
     "execution_count": 71,
     "metadata": {},
     "output_type": "execute_result"
    }
   ],
   "source": [
    "pipe_xgb = Pipeline([\n",
    "    (\"preprocessor\", preprocessor),\n",
    "    (\"model_xgb\", XGBClassifier())\n",
    "])\n",
    "pipe_xgb.fit(X_train, y_train)"
   ]
  },
  {
   "cell_type": "code",
   "execution_count": 72,
   "id": "suspected-making",
   "metadata": {},
   "outputs": [
    {
     "name": "stdout",
     "output_type": "stream",
     "text": [
      "XGBClasifier \n",
      "Accuracy on test data: 0.926\n",
      "Accuracy on train data: 0.765\n",
      "f1 score on test data: 0.925\n",
      "f1 score on train data: 0.759\n"
     ]
    }
   ],
   "source": [
    "y_pred_xgb = pipe_xgb.predict(X_test)\n",
    "accuracy_xgb = accuracy_score(y_test, y_pred_xgb)\n",
    "accuracy_xgb_train = accuracy_score(y_train, pipe_xgb.predict(X_train))\n",
    "f1_xgb = f1_score(y_test, y_pred_xgb)\n",
    "f1_xgb_train = f1_score(y_train, pipe_xgb.predict(X_train))\n",
    "print('XGBClasifier ')\n",
    "print('Accuracy on test data: %0.3f' %accuracy_xgb_train)\n",
    "print('Accuracy on train data: %0.3f' %accuracy_xgb)\n",
    "print('f1 score on test data: %0.3f' %f1_xgb_train)\n",
    "print('f1 score on train data: %0.3f' %f1_xgb)"
   ]
  },
  {
   "cell_type": "code",
   "execution_count": 73,
   "id": "raising-mainland",
   "metadata": {},
   "outputs": [
    {
     "name": "stdout",
     "output_type": "stream",
     "text": [
      "Fitting 10 folds for each of 100 candidates, totalling 1000 fits\n"
     ]
    },
    {
     "data": {
      "text/plain": [
       "array([0.75529638, 0.76055602, 0.76926368, 0.76466381, 0.76269337,\n",
       "       0.76433946, 0.76433487, 0.76417336, 0.76154827, 0.76335019,\n",
       "       0.76203872, 0.7654824 , 0.76253052, 0.76335235, 0.76417039,\n",
       "       0.76236739, 0.75973636, 0.76154152, 0.74921517, 0.76762056,\n",
       "       0.76071942, 0.76597879, 0.76893419, 0.76515832, 0.76482802,\n",
       "       0.75086315, 0.76466517, 0.74526996, 0.76762434, 0.75299293,\n",
       "       0.76811236, 0.76252944, 0.75809216, 0.75891669, 0.76466787,\n",
       "       0.76154179, 0.76153962, 0.75990137, 0.76417228, 0.76515994,\n",
       "       0.76565444, 0.76072077, 0.76137704, 0.76433676, 0.76104971,\n",
       "       0.76713011, 0.76400781, 0.76367508, 0.76450204, 0.76006557,\n",
       "       0.75973474, 0.7484001 , 0.76203953, 0.76762218, 0.76154341,\n",
       "       0.76055575, 0.75907549, 0.75694165, 0.76039209, 0.76482532,\n",
       "       0.76367643, 0.76121392, 0.76499222, 0.76203413, 0.76482748,\n",
       "       0.76581378, 0.75858612, 0.76219941, 0.76499492, 0.76384415,\n",
       "       0.75808946, 0.76466598, 0.75874924, 0.76630747, 0.76269553,\n",
       "       0.74971075, 0.76088659, 0.76302097, 0.76466571, 0.76367832,\n",
       "       0.76368237, 0.76548807, 0.76696294, 0.76483261, 0.76285839,\n",
       "       0.76187235, 0.76351385, 0.7513563 , 0.75497364, 0.7589148 ,\n",
       "       0.76663885, 0.76187154, 0.76729269, 0.76663831, 0.76236793,\n",
       "       0.76351628, 0.76236604, 0.76597987, 0.76729701, 0.76104998])"
      ]
     },
     "execution_count": 73,
     "metadata": {},
     "output_type": "execute_result"
    }
   ],
   "source": [
    "kfold = StratifiedKFold(10, shuffle=True, random_state=123)  \n",
    "\n",
    "params = {\n",
    "        'model_xgb__n_estimators': [100, 150, 200, 250],\n",
    "        'model_xgb__learning_rate': uniform(loc=0.1, scale=0.5),\n",
    "        \"model_xgb__gamma\": uniform(loc=0.05, scale=3),\n",
    "        \"model_xgb__min_child_weight\": [10, 50, 70, 100]\n",
    "}\n",
    "\n",
    "optimizer_xgb = RandomizedSearchCV(pipe_xgb, params, \n",
    "                         scoring='accuracy',\n",
    "                         n_iter=100,           \n",
    "                         cv=kfold, \n",
    "                         verbose=1,\n",
    "                         n_jobs=-1) \n",
    "\n",
    "optimizer_xgb.fit(X_train, y_train)\n",
    "optimizer_xgb.cv_results_[\"mean_test_score\"]"
   ]
  },
  {
   "cell_type": "code",
   "execution_count": null,
   "id": "increasing-match",
   "metadata": {},
   "outputs": [],
   "source": [
    "#        'n_estimators': [50, 100, 150],\n",
    "#        'learning_rate': uniform(loc=0.1, scale=0.5),\n",
    "#        'max_ depth': [5, 6, 7],  # z tym parametrem się wywala\n",
    "#        'gamma': uniform(loc=0.05, scale=2),\n",
    "#        'reg_lamba': uniform(loc=0.05, scale=2),  # nie używa tego parametru\n",
    "#        'min_child_weight': [10, 50],\n",
    "#        'subsample': [0.25, 0.5, 0.75, 1],\n",
    "#        'colsample_bynode': [0.1, 0.25, 0.5, 1]\n",
    "#    }"
   ]
  },
  {
   "cell_type": "code",
   "execution_count": 74,
   "id": "determined-creation",
   "metadata": {},
   "outputs": [
    {
     "name": "stdout",
     "output_type": "stream",
     "text": [
      "XGBClasifier - with grid\n",
      "Accuracy on test data: 0.785\n",
      "Accuracy on train data: 0.784\n",
      "Best score: 0.769\n",
      "Best params: {'model_xgb__gamma': 1.192605236698222, 'model_xgb__learning_rate': 0.27795559008193316, 'model_xgb__min_child_weight': 100, 'model_xgb__n_estimators': 150}\n"
     ]
    }
   ],
   "source": [
    "y_pred_xgb_cv = optimizer_xgb.predict(X_test)\n",
    "accuracy_xgb_cv = accuracy_score(y_test, y_pred_xgb_cv)\n",
    "accuracy_xgb_train_cv = accuracy_score(y_train, optimizer_xgb.predict(X_train))\n",
    "print('XGBClasifier - with grid')\n",
    "print('Accuracy on test data: %0.3f' %accuracy_xgb_train_cv)\n",
    "print('Accuracy on train data: %0.3f' %accuracy_xgb_cv)\n",
    "print(f'Best score: %0.3f' %optimizer_xgb.best_score_)\n",
    "print(f'Best params: {optimizer_xgb.best_params_}')"
   ]
  },
  {
   "cell_type": "code",
   "execution_count": null,
   "id": "smart-arnold",
   "metadata": {},
   "outputs": [],
   "source": []
  },
  {
   "cell_type": "code",
   "execution_count": null,
   "id": "worth-throw",
   "metadata": {},
   "outputs": [],
   "source": []
  },
  {
   "cell_type": "code",
   "execution_count": null,
   "id": "soviet-intake",
   "metadata": {},
   "outputs": [],
   "source": []
  },
  {
   "cell_type": "code",
   "execution_count": null,
   "id": "desirable-thermal",
   "metadata": {},
   "outputs": [],
   "source": [
    "Podsumowanie po obliczeniu różnych algorytmów\n",
    "Porównanie w tabelce accuracy i F1 dla różnych wyników"
   ]
  },
  {
   "cell_type": "code",
   "execution_count": null,
   "id": "ethical-marketing",
   "metadata": {},
   "outputs": [],
   "source": [
    "Na końcu wizualizacja taka jak w klasteryzacji (svm do zrobienia 2 zmiennych (na wykres))"
   ]
  }
 ],
 "metadata": {
  "kernelspec": {
   "display_name": "Python 3",
   "language": "python",
   "name": "python3"
  },
  "language_info": {
   "codemirror_mode": {
    "name": "ipython",
    "version": 3
   },
   "file_extension": ".py",
   "mimetype": "text/x-python",
   "name": "python",
   "nbconvert_exporter": "python",
   "pygments_lexer": "ipython3",
   "version": "3.9.1"
  },
  "toc": {
   "base_numbering": 1,
   "nav_menu": {},
   "number_sections": true,
   "sideBar": true,
   "skip_h1_title": true,
   "title_cell": "Table of Contents",
   "title_sidebar": "Contents",
   "toc_cell": false,
   "toc_position": {
    "height": "calc(100% - 180px)",
    "left": "10px",
    "top": "150px",
    "width": "218.587px"
   },
   "toc_section_display": true,
   "toc_window_display": true
  }
 },
 "nbformat": 4,
 "nbformat_minor": 5
}
