{
 "cells": [
  {
   "cell_type": "markdown",
   "id": "9be9fbd3",
   "metadata": {},
   "source": [
    "# Spaceship Titanic - classification problem "
   ]
  },
  {
   "cell_type": "markdown",
   "id": "dc7b6cb0",
   "metadata": {},
   "source": [
    "### Table of contents:"
   ]
  },
  {
   "cell_type": "markdown",
   "id": "ec3a06c6",
   "metadata": {},
   "source": [
    "## Abstract"
   ]
  },
  {
   "cell_type": "markdown",
   "id": "25258113",
   "metadata": {},
   "source": [
    "## Dataset description"
   ]
  },
  {
   "cell_type": "markdown",
   "id": "national-seminar",
   "metadata": {},
   "source": [
    "- PassengerId - A unique Id for each passenger. Each Id takes the form gggg_pp where gggg indicates a group the passenger is travelling with and pp is their number within the group. People in a group are often family members, but not always.\n",
    "- HomePlanet - The planet the passenger departed from, typically their planet of permanent residence.\n",
    "- CryoSleep - Indicates whether the passenger elected to be put into suspended animation for the duration of the voyage. Passengers in cryosleep are confined to their cabins.\n",
    "- Cabin - The cabin number where the passenger is staying. Takes the form deck/num/side, where side can be either P for Port or S for Starboard.\n",
    "- Destination - The planet the passenger will be debarking to.\n",
    "- Age - The age of the passenger.\n",
    "- VIP - Whether the passenger has paid for special VIP service during the voyage.\n",
    "- RoomService, FoodCourt, ShoppingMall, Spa, VRDeck - Amount the passenger has billed at each of the Spaceship Titanic's many luxury amenities.\n",
    "- Name - The first and last names of the passenger.\n",
    "- Transported - Whether the passenger was transported to another dimension. This is the target, the column you are trying to predict."
   ]
  },
  {
   "cell_type": "markdown",
   "id": "4e3d13ec",
   "metadata": {},
   "source": [
    "## Prerequisites"
   ]
  },
  {
   "cell_type": "code",
   "execution_count": 2,
   "id": "49fc8982",
   "metadata": {},
   "outputs": [],
   "source": [
    "import pandas as pd\n",
    "import numpy as np\n",
    "import matplotlib.pyplot as plt\n",
    "from sklearn.model_selection import train_test_split"
   ]
  },
  {
   "cell_type": "code",
   "execution_count": 3,
   "id": "naughty-picture",
   "metadata": {},
   "outputs": [],
   "source": [
    "from sklearn.preprocessing import FunctionTransformer\n",
    "from sklearn.pipeline import Pipeline\n",
    "from sklearn.impute import SimpleImputer\n",
    "from sklearn.preprocessing import StandardScaler\n",
    "from sklearn.preprocessing import OneHotEncoder  \n",
    "from sklearn.compose import ColumnTransformer\n",
    "\n",
    "from sklearn.preprocessing import FunctionTransformer  # do wkładania funkcji do pipa\n",
    "from sklearn.base import BaseEstimator, TransformerMixin  # do tworzenai własnych klas pipowych"
   ]
  },
  {
   "cell_type": "code",
   "execution_count": 4,
   "id": "devoted-island",
   "metadata": {},
   "outputs": [],
   "source": [
    "from sklearn.metrics import accuracy_score\n",
    "from sklearn.linear_model import LogisticRegression"
   ]
  },
  {
   "cell_type": "code",
   "execution_count": 2,
   "id": "584a96cc",
   "metadata": {},
   "outputs": [
    {
     "ename": "ModuleNotFoundError",
     "evalue": "No module named 'sklearn'",
     "output_type": "error",
     "traceback": [
      "\u001b[1;31m---------------------------------------------------------------------------\u001b[0m",
      "\u001b[1;31mModuleNotFoundError\u001b[0m                       Traceback (most recent call last)",
      "Cell \u001b[1;32mIn[2], line 1\u001b[0m\n\u001b[1;32m----> 1\u001b[0m \u001b[38;5;28;01mfrom\u001b[39;00m \u001b[38;5;21;01msklearn\u001b[39;00m\u001b[38;5;21;01m.\u001b[39;00m\u001b[38;5;21;01mpipeline\u001b[39;00m \u001b[38;5;28;01mimport\u001b[39;00m Pipeline\n\u001b[0;32m      2\u001b[0m \u001b[38;5;28;01mfrom\u001b[39;00m \u001b[38;5;21;01msklearn\u001b[39;00m\u001b[38;5;21;01m.\u001b[39;00m\u001b[38;5;21;01mpreprocessing\u001b[39;00m \u001b[38;5;28;01mimport\u001b[39;00m StandardScaler\n\u001b[0;32m      3\u001b[0m \u001b[38;5;28;01mfrom\u001b[39;00m \u001b[38;5;21;01msklearn\u001b[39;00m\u001b[38;5;21;01m.\u001b[39;00m\u001b[38;5;21;01mmetrics\u001b[39;00m \u001b[38;5;28;01mimport\u001b[39;00m accuracy_score\n",
      "\u001b[1;31mModuleNotFoundError\u001b[0m: No module named 'sklearn'"
     ]
    }
   ],
   "source": [
    "\n",
    "from sklearn.metrics import accuracy_score\n",
    "from sklearn.model_selection import GridSearchCV "
   ]
  },
  {
   "cell_type": "markdown",
   "id": "third-garlic",
   "metadata": {},
   "source": [
    "## Data preparation"
   ]
  },
  {
   "cell_type": "markdown",
   "id": "difficult-respondent",
   "metadata": {},
   "source": [
    "### Data Loading"
   ]
  },
  {
   "cell_type": "code",
   "execution_count": 5,
   "id": "84cf843e",
   "metadata": {},
   "outputs": [
    {
     "data": {
      "text/html": [
       "<div>\n",
       "<style scoped>\n",
       "    .dataframe tbody tr th:only-of-type {\n",
       "        vertical-align: middle;\n",
       "    }\n",
       "\n",
       "    .dataframe tbody tr th {\n",
       "        vertical-align: top;\n",
       "    }\n",
       "\n",
       "    .dataframe thead th {\n",
       "        text-align: right;\n",
       "    }\n",
       "</style>\n",
       "<table border=\"1\" class=\"dataframe\">\n",
       "  <thead>\n",
       "    <tr style=\"text-align: right;\">\n",
       "      <th></th>\n",
       "      <th>PassengerId</th>\n",
       "      <th>HomePlanet</th>\n",
       "      <th>CryoSleep</th>\n",
       "      <th>Cabin</th>\n",
       "      <th>Destination</th>\n",
       "      <th>Age</th>\n",
       "      <th>VIP</th>\n",
       "      <th>RoomService</th>\n",
       "      <th>FoodCourt</th>\n",
       "      <th>ShoppingMall</th>\n",
       "      <th>Spa</th>\n",
       "      <th>VRDeck</th>\n",
       "      <th>Name</th>\n",
       "      <th>Transported</th>\n",
       "    </tr>\n",
       "  </thead>\n",
       "  <tbody>\n",
       "    <tr>\n",
       "      <th>0</th>\n",
       "      <td>0001_01</td>\n",
       "      <td>Europa</td>\n",
       "      <td>False</td>\n",
       "      <td>B/0/P</td>\n",
       "      <td>TRAPPIST-1e</td>\n",
       "      <td>39.0</td>\n",
       "      <td>False</td>\n",
       "      <td>0.0</td>\n",
       "      <td>0.0</td>\n",
       "      <td>0.0</td>\n",
       "      <td>0.0</td>\n",
       "      <td>0.0</td>\n",
       "      <td>Maham Ofracculy</td>\n",
       "      <td>False</td>\n",
       "    </tr>\n",
       "    <tr>\n",
       "      <th>1</th>\n",
       "      <td>0002_01</td>\n",
       "      <td>Earth</td>\n",
       "      <td>False</td>\n",
       "      <td>F/0/S</td>\n",
       "      <td>TRAPPIST-1e</td>\n",
       "      <td>24.0</td>\n",
       "      <td>False</td>\n",
       "      <td>109.0</td>\n",
       "      <td>9.0</td>\n",
       "      <td>25.0</td>\n",
       "      <td>549.0</td>\n",
       "      <td>44.0</td>\n",
       "      <td>Juanna Vines</td>\n",
       "      <td>True</td>\n",
       "    </tr>\n",
       "    <tr>\n",
       "      <th>2</th>\n",
       "      <td>0003_01</td>\n",
       "      <td>Europa</td>\n",
       "      <td>False</td>\n",
       "      <td>A/0/S</td>\n",
       "      <td>TRAPPIST-1e</td>\n",
       "      <td>58.0</td>\n",
       "      <td>True</td>\n",
       "      <td>43.0</td>\n",
       "      <td>3576.0</td>\n",
       "      <td>0.0</td>\n",
       "      <td>6715.0</td>\n",
       "      <td>49.0</td>\n",
       "      <td>Altark Susent</td>\n",
       "      <td>False</td>\n",
       "    </tr>\n",
       "    <tr>\n",
       "      <th>3</th>\n",
       "      <td>0003_02</td>\n",
       "      <td>Europa</td>\n",
       "      <td>False</td>\n",
       "      <td>A/0/S</td>\n",
       "      <td>TRAPPIST-1e</td>\n",
       "      <td>33.0</td>\n",
       "      <td>False</td>\n",
       "      <td>0.0</td>\n",
       "      <td>1283.0</td>\n",
       "      <td>371.0</td>\n",
       "      <td>3329.0</td>\n",
       "      <td>193.0</td>\n",
       "      <td>Solam Susent</td>\n",
       "      <td>False</td>\n",
       "    </tr>\n",
       "    <tr>\n",
       "      <th>4</th>\n",
       "      <td>0004_01</td>\n",
       "      <td>Earth</td>\n",
       "      <td>False</td>\n",
       "      <td>F/1/S</td>\n",
       "      <td>TRAPPIST-1e</td>\n",
       "      <td>16.0</td>\n",
       "      <td>False</td>\n",
       "      <td>303.0</td>\n",
       "      <td>70.0</td>\n",
       "      <td>151.0</td>\n",
       "      <td>565.0</td>\n",
       "      <td>2.0</td>\n",
       "      <td>Willy Santantines</td>\n",
       "      <td>True</td>\n",
       "    </tr>\n",
       "  </tbody>\n",
       "</table>\n",
       "</div>"
      ],
      "text/plain": [
       "  PassengerId HomePlanet CryoSleep  Cabin  Destination   Age    VIP  \\\n",
       "0     0001_01     Europa     False  B/0/P  TRAPPIST-1e  39.0  False   \n",
       "1     0002_01      Earth     False  F/0/S  TRAPPIST-1e  24.0  False   \n",
       "2     0003_01     Europa     False  A/0/S  TRAPPIST-1e  58.0   True   \n",
       "3     0003_02     Europa     False  A/0/S  TRAPPIST-1e  33.0  False   \n",
       "4     0004_01      Earth     False  F/1/S  TRAPPIST-1e  16.0  False   \n",
       "\n",
       "   RoomService  FoodCourt  ShoppingMall     Spa  VRDeck               Name  \\\n",
       "0          0.0        0.0           0.0     0.0     0.0    Maham Ofracculy   \n",
       "1        109.0        9.0          25.0   549.0    44.0       Juanna Vines   \n",
       "2         43.0     3576.0           0.0  6715.0    49.0      Altark Susent   \n",
       "3          0.0     1283.0         371.0  3329.0   193.0       Solam Susent   \n",
       "4        303.0       70.0         151.0   565.0     2.0  Willy Santantines   \n",
       "\n",
       "   Transported  \n",
       "0        False  \n",
       "1         True  \n",
       "2        False  \n",
       "3        False  \n",
       "4         True  "
      ]
     },
     "execution_count": 5,
     "metadata": {},
     "output_type": "execute_result"
    }
   ],
   "source": [
    "data = pd.read_csv(\"./spaceship.csv\")\n",
    "data.head()"
   ]
  },
  {
   "cell_type": "markdown",
   "id": "wicked-second",
   "metadata": {},
   "source": [
    "### Columns split\n",
    "\n",
    "Some columns contain more than one feature - extracting these data into separate columns before dividing the set into training and test set. There is no need to add that split into pipeline."
   ]
  },
  {
   "cell_type": "markdown",
   "id": "capable-discharge",
   "metadata": {},
   "source": [
    "0. PassengerId\n",
    "\n",
    "Contains information if passenger was alone or travel in group."
   ]
  },
  {
   "cell_type": "code",
   "execution_count": 6,
   "id": "adequate-brazilian",
   "metadata": {},
   "outputs": [],
   "source": [
    "data['Travel_alone'] = pd.NA\n",
    "_pas_group = set()\n",
    "\n",
    "for id in data['PassengerId']:\n",
    "    if int(id[-2:]) > 1:\n",
    "        _pas_group.add(id[:4])\n",
    "        \n",
    "for idx, row in data.iterrows():\n",
    "    if (row.PassengerId[:4]) not in _pas_group:\n",
    "        data.at[idx, 'Travel_alone'] = 1      \n",
    "    else:\n",
    "        data.at[idx, 'Travel_alone'] = 0"
   ]
  },
  {
   "cell_type": "markdown",
   "id": "impressive-recruitment",
   "metadata": {},
   "source": [
    "3. Cabin\n",
    "\n",
    "Contains information about Floor, Cabin number and Side of the ship."
   ]
  },
  {
   "cell_type": "code",
   "execution_count": 7,
   "id": "english-guatemala",
   "metadata": {},
   "outputs": [],
   "source": [
    "data['Deck'] = data['Cabin'].str[0]\n",
    "data['Cabin_num'] = data['Cabin'].str[2:-2].map(float)\n",
    "data['Side'] = data['Cabin'].str[-1]"
   ]
  },
  {
   "cell_type": "code",
   "execution_count": 218,
   "id": "critical-desert",
   "metadata": {},
   "outputs": [
    {
     "data": {
      "text/html": [
       "<div>\n",
       "<style scoped>\n",
       "    .dataframe tbody tr th:only-of-type {\n",
       "        vertical-align: middle;\n",
       "    }\n",
       "\n",
       "    .dataframe tbody tr th {\n",
       "        vertical-align: top;\n",
       "    }\n",
       "\n",
       "    .dataframe thead th {\n",
       "        text-align: right;\n",
       "    }\n",
       "</style>\n",
       "<table border=\"1\" class=\"dataframe\">\n",
       "  <thead>\n",
       "    <tr style=\"text-align: right;\">\n",
       "      <th></th>\n",
       "      <th>PassengerId</th>\n",
       "      <th>HomePlanet</th>\n",
       "      <th>CryoSleep</th>\n",
       "      <th>Cabin</th>\n",
       "      <th>Destination</th>\n",
       "      <th>Age</th>\n",
       "      <th>VIP</th>\n",
       "      <th>RoomService</th>\n",
       "      <th>FoodCourt</th>\n",
       "      <th>ShoppingMall</th>\n",
       "      <th>Spa</th>\n",
       "      <th>VRDeck</th>\n",
       "      <th>Name</th>\n",
       "      <th>Transported</th>\n",
       "      <th>Travel_alone</th>\n",
       "      <th>Deck</th>\n",
       "      <th>Cabin_num</th>\n",
       "      <th>Side</th>\n",
       "    </tr>\n",
       "  </thead>\n",
       "  <tbody>\n",
       "    <tr>\n",
       "      <th>0</th>\n",
       "      <td>0001_01</td>\n",
       "      <td>Europa</td>\n",
       "      <td>False</td>\n",
       "      <td>B/0/P</td>\n",
       "      <td>TRAPPIST-1e</td>\n",
       "      <td>39.0</td>\n",
       "      <td>False</td>\n",
       "      <td>0.0</td>\n",
       "      <td>0.0</td>\n",
       "      <td>0.0</td>\n",
       "      <td>0.0</td>\n",
       "      <td>0.0</td>\n",
       "      <td>Maham Ofracculy</td>\n",
       "      <td>False</td>\n",
       "      <td>1</td>\n",
       "      <td>B</td>\n",
       "      <td>0.0</td>\n",
       "      <td>P</td>\n",
       "    </tr>\n",
       "    <tr>\n",
       "      <th>1</th>\n",
       "      <td>0002_01</td>\n",
       "      <td>Earth</td>\n",
       "      <td>False</td>\n",
       "      <td>F/0/S</td>\n",
       "      <td>TRAPPIST-1e</td>\n",
       "      <td>24.0</td>\n",
       "      <td>False</td>\n",
       "      <td>109.0</td>\n",
       "      <td>9.0</td>\n",
       "      <td>25.0</td>\n",
       "      <td>549.0</td>\n",
       "      <td>44.0</td>\n",
       "      <td>Juanna Vines</td>\n",
       "      <td>True</td>\n",
       "      <td>1</td>\n",
       "      <td>F</td>\n",
       "      <td>0.0</td>\n",
       "      <td>S</td>\n",
       "    </tr>\n",
       "  </tbody>\n",
       "</table>\n",
       "</div>"
      ],
      "text/plain": [
       "  PassengerId HomePlanet CryoSleep  Cabin  Destination   Age    VIP  \\\n",
       "0     0001_01     Europa     False  B/0/P  TRAPPIST-1e  39.0  False   \n",
       "1     0002_01      Earth     False  F/0/S  TRAPPIST-1e  24.0  False   \n",
       "\n",
       "   RoomService  FoodCourt  ShoppingMall    Spa  VRDeck             Name  \\\n",
       "0          0.0        0.0           0.0    0.0     0.0  Maham Ofracculy   \n",
       "1        109.0        9.0          25.0  549.0    44.0     Juanna Vines   \n",
       "\n",
       "   Transported Travel_alone Deck  Cabin_num Side  \n",
       "0        False            1    B        0.0    P  \n",
       "1         True            1    F        0.0    S  "
      ]
     },
     "execution_count": 218,
     "metadata": {},
     "output_type": "execute_result"
    }
   ],
   "source": [
    "data.head(2)"
   ]
  },
  {
   "cell_type": "code",
   "execution_count": 219,
   "id": "fatal-satellite",
   "metadata": {},
   "outputs": [
    {
     "name": "stdout",
     "output_type": "stream",
     "text": [
      "<class 'pandas.core.frame.DataFrame'>\n",
      "RangeIndex: 8693 entries, 0 to 8692\n",
      "Data columns (total 18 columns):\n",
      " #   Column        Non-Null Count  Dtype  \n",
      "---  ------        --------------  -----  \n",
      " 0   PassengerId   8693 non-null   object \n",
      " 1   HomePlanet    8492 non-null   object \n",
      " 2   CryoSleep     8476 non-null   object \n",
      " 3   Cabin         8494 non-null   object \n",
      " 4   Destination   8511 non-null   object \n",
      " 5   Age           8514 non-null   float64\n",
      " 6   VIP           8490 non-null   object \n",
      " 7   RoomService   8512 non-null   float64\n",
      " 8   FoodCourt     8510 non-null   float64\n",
      " 9   ShoppingMall  8485 non-null   float64\n",
      " 10  Spa           8510 non-null   float64\n",
      " 11  VRDeck        8505 non-null   float64\n",
      " 12  Name          8493 non-null   object \n",
      " 13  Transported   8693 non-null   bool   \n",
      " 14  Travel_alone  8693 non-null   object \n",
      " 15  Deck          8494 non-null   object \n",
      " 16  Cabin_num     8494 non-null   float64\n",
      " 17  Side          8494 non-null   object \n",
      "dtypes: bool(1), float64(7), object(10)\n",
      "memory usage: 1.1+ MB\n"
     ]
    }
   ],
   "source": [
    "data.info()"
   ]
  },
  {
   "cell_type": "markdown",
   "id": "acute-devon",
   "metadata": {},
   "source": [
    "### Test-train split"
   ]
  },
  {
   "cell_type": "code",
   "execution_count": 14,
   "id": "7b114776",
   "metadata": {},
   "outputs": [],
   "source": [
    "X = data.drop('Transported', axis='columns')\n",
    "y = data.Transported\n",
    "X_train, X_test, y_train, y_test = train_test_split(X, y, stratify=y, test_size=0.3, random_state=123)"
   ]
  },
  {
   "cell_type": "code",
   "execution_count": 15,
   "id": "elect-camel",
   "metadata": {},
   "outputs": [
    {
     "data": {
      "text/plain": [
       "True     3065\n",
       "False    3020\n",
       "Name: Transported, dtype: int64"
      ]
     },
     "execution_count": 15,
     "metadata": {},
     "output_type": "execute_result"
    }
   ],
   "source": [
    "y_train.value_counts()"
   ]
  },
  {
   "cell_type": "markdown",
   "id": "compliant-pearl",
   "metadata": {},
   "source": [
    "Classes are balanced - no need to use over-sampling or undersampling. "
   ]
  },
  {
   "cell_type": "markdown",
   "id": "6bdaca99",
   "metadata": {},
   "source": [
    "### Features analysis"
   ]
  },
  {
   "cell_type": "markdown",
   "id": "molecular-joining",
   "metadata": {},
   "source": [
    "#### Numerical features"
   ]
  },
  {
   "cell_type": "code",
   "execution_count": 69,
   "id": "nearby-horror",
   "metadata": {},
   "outputs": [
    {
     "data": {
      "image/png": "[encoded data removed]",
      "text/plain": [
       "<Figure size 1152x720 with 7 Axes>"
      ]
     },
     "metadata": {
      "needs_background": "light"
     },
     "output_type": "display_data"
    }
   ],
   "source": [
    "plt.figure(figsize=(16,10))\n",
    "\n",
    "plt.subplot(331)\n",
    "plt.hist(X_train.Age)\n",
    "plt.title(\"Age\")\n",
    "plt.subplot(332)\n",
    "plt.hist(X_train.RoomService)\n",
    "plt.title(\"RoomService\")\n",
    "plt.subplot(333)\n",
    "plt.hist(X_train.FoodCourt)\n",
    "plt.title(\"FoodCourt\")\n",
    "plt.subplot(334)\n",
    "plt.hist(X_train.ShoppingMall)\n",
    "plt.title(\"ShoppingMall\")\n",
    "plt.subplot(335)\n",
    "plt.hist(X_train.Spa)\n",
    "plt.title(\"Spa\")\n",
    "plt.subplot(336)\n",
    "plt.hist(X_train.VRDeck)\n",
    "plt.title(\"VRDeck\")\n",
    "plt.subplot(337)\n",
    "plt.hist(X_train.Cabin_num)\n",
    "plt.title(\"Cabin_num\")\n",
    "\n",
    "plt.show()"
   ]
  },
  {
   "cell_type": "markdown",
   "id": "incorporate-scroll",
   "metadata": {},
   "source": [
    "##### Age\n",
    "\n",
    "- 125 records in 'Age' with value 0 - will be treated as children under 1 year of age and not treated as an mistake.\n",
    "- 120 records NA (vs. 6085 all values) - will be replace by median"
   ]
  },
  {
   "cell_type": "code",
   "execution_count": 9,
   "id": "sitting-maker",
   "metadata": {},
   "outputs": [
    {
     "data": {
      "text/plain": [
       "(0.0, 79.0)"
      ]
     },
     "execution_count": 9,
     "metadata": {},
     "output_type": "execute_result"
    }
   ],
   "source": [
    "data.Age.min(), data.Age.max()"
   ]
  },
  {
   "cell_type": "code",
   "execution_count": 72,
   "id": "searching-freeze",
   "metadata": {},
   "outputs": [
    {
     "data": {
      "text/plain": [
       "Age\n",
       "0.0    125\n",
       "dtype: int64"
      ]
     },
     "execution_count": 72,
     "metadata": {},
     "output_type": "execute_result"
    }
   ],
   "source": [
    "X_train.loc[X_train['Age']<1, ['Age']].value_counts()"
   ]
  },
  {
   "cell_type": "code",
   "execution_count": 10,
   "id": "cordless-average",
   "metadata": {},
   "outputs": [
    {
     "data": {
      "text/plain": [
       "Age\n",
       "0.0    178\n",
       "dtype: int64"
      ]
     },
     "execution_count": 10,
     "metadata": {},
     "output_type": "execute_result"
    }
   ],
   "source": [
    "data.loc[data['Age']<1, ['Age']].value_counts()"
   ]
  },
  {
   "cell_type": "code",
   "execution_count": 53,
   "id": "center-lending",
   "metadata": {},
   "outputs": [
    {
     "data": {
      "text/plain": [
       "(120, 6085)"
      ]
     },
     "execution_count": 53,
     "metadata": {},
     "output_type": "execute_result"
    }
   ],
   "source": [
    "X_train.Age.isna().sum(), X_train.Age.shape[0]"
   ]
  },
  {
   "cell_type": "markdown",
   "id": "resident-arkansas",
   "metadata": {},
   "source": [
    "##### RoomService, FoodCourt, ShoppingMall, Spa, VRDeck\n",
    "\n",
    "Summary:\n",
    "- Based on histograms (above) and data value counts (below), all of those features have the same structure: most records are 0, very large values are rare. Therefore, the indicated features will be converted into categorical variables with three categories: 'zero', 'medium', 'outlier'\n",
    "- NA values will be added to 'zero' category (most frequent category)"
   ]
  },
  {
   "cell_type": "code",
   "execution_count": 90,
   "id": "military-grocery",
   "metadata": {},
   "outputs": [
    {
     "name": "stdout",
     "output_type": "stream",
     "text": [
      "7.RoomService\n",
      "0.0 14327.0\n",
      "1.0 8586.0\n",
      "\n",
      "8.FoodCourt\n",
      "0.0 29813.0\n",
      "\n",
      "9.ShoppingMall\n",
      "0.0 23492.0\n",
      "\n",
      "10.Spa\n",
      "0.0 18572.0\n",
      "\n",
      "11.VRDeck\n",
      "0.0 24133.0\n"
     ]
    }
   ],
   "source": [
    "print('7.RoomService')\n",
    "print(X_train.RoomService.min(), X_train.RoomService.max())\n",
    "print(X_train.RoomService[X_train.RoomService !=0].min(), X_train.RoomService[X_train.RoomService < 14000].max())\n",
    "print()\n",
    "print('8.FoodCourt')\n",
    "print(X_train.FoodCourt.min(), X_train.FoodCourt.max())\n",
    "print()\n",
    "print('9.ShoppingMall')\n",
    "print(X_train.ShoppingMall.min(), X_train.ShoppingMall.max())\n",
    "print()\n",
    "print('10.Spa')\n",
    "print(X_train.Spa.min(), X_train.Spa.max())\n",
    "print()\n",
    "print('11.VRDeck')\n",
    "print(X_train.VRDeck.min(), X_train.VRDeck.max())"
   ]
  },
  {
   "cell_type": "code",
   "execution_count": 59,
   "id": "graphic-brand",
   "metadata": {},
   "outputs": [
    {
     "data": {
      "text/plain": [
       "0.0       3870\n",
       "NaN        126\n",
       "1.0         81\n",
       "2.0         60\n",
       "3.0         46\n",
       "          ... \n",
       "1373.0       1\n",
       "107.0        1\n",
       "2973.0       1\n",
       "2210.0       1\n",
       "2224.0       1\n",
       "Name: RoomService, Length: 1046, dtype: int64"
      ]
     },
     "execution_count": 59,
     "metadata": {},
     "output_type": "execute_result"
    }
   ],
   "source": [
    "X_train.RoomService.value_counts(dropna=False)"
   ]
  },
  {
   "cell_type": "code",
   "execution_count": 77,
   "id": "aggressive-connecticut",
   "metadata": {},
   "outputs": [
    {
     "data": {
      "text/plain": [
       "0.0        3788\n",
       "NaN         131\n",
       "1.0          80\n",
       "2.0          51\n",
       "3.0          37\n",
       "           ... \n",
       "407.0         1\n",
       "16455.0       1\n",
       "748.0         1\n",
       "1204.0        1\n",
       "3441.0        1\n",
       "Name: FoodCourt, Length: 1198, dtype: int64"
      ]
     },
     "execution_count": 77,
     "metadata": {},
     "output_type": "execute_result"
    }
   ],
   "source": [
    "X_train.FoodCourt.value_counts(dropna=False)"
   ]
  },
  {
   "cell_type": "code",
   "execution_count": 80,
   "id": "scheduled-accounting",
   "metadata": {},
   "outputs": [
    {
     "data": {
      "text/plain": [
       "0.0       3891\n",
       "NaN        141\n",
       "1.0        112\n",
       "2.0         58\n",
       "3.0         44\n",
       "          ... \n",
       "4509.0       1\n",
       "528.0        1\n",
       "386.0        1\n",
       "1907.0       1\n",
       "105.0        1\n",
       "Name: ShoppingMall, Length: 916, dtype: int64"
      ]
     },
     "execution_count": 80,
     "metadata": {},
     "output_type": "execute_result"
    }
   ],
   "source": [
    "X_train.ShoppingMall.value_counts(dropna=False)"
   ]
  },
  {
   "cell_type": "code",
   "execution_count": 83,
   "id": "organic-wallpaper",
   "metadata": {},
   "outputs": [
    {
     "data": {
      "text/plain": [
       "0.0       3737\n",
       "NaN        124\n",
       "1.0         96\n",
       "2.0         74\n",
       "5.0         38\n",
       "          ... \n",
       "143.0        1\n",
       "4560.0       1\n",
       "223.0        1\n",
       "355.0        1\n",
       "2775.0       1\n",
       "Name: Spa, Length: 1056, dtype: int64"
      ]
     },
     "execution_count": 83,
     "metadata": {},
     "output_type": "execute_result"
    }
   ],
   "source": [
    "X_train.Spa.value_counts(dropna=False)"
   ]
  },
  {
   "cell_type": "code",
   "execution_count": 86,
   "id": "convertible-weather",
   "metadata": {},
   "outputs": [
    {
     "data": {
      "text/plain": [
       "0.0       3823\n",
       "NaN        140\n",
       "1.0         97\n",
       "2.0         54\n",
       "3.0         41\n",
       "          ... \n",
       "844.0        1\n",
       "1061.0       1\n",
       "830.0        1\n",
       "741.0        1\n",
       "419.0        1\n",
       "Name: VRDeck, Length: 1036, dtype: int64"
      ]
     },
     "execution_count": 86,
     "metadata": {},
     "output_type": "execute_result"
    }
   ],
   "source": [
    "X_train.VRDeck.value_counts(dropna=False)"
   ]
  },
  {
   "cell_type": "markdown",
   "id": "fossil-heather",
   "metadata": {},
   "source": [
    "##### Cabin_num\n",
    "\n",
    "- 139 NA values\n"
   ]
  },
  {
   "cell_type": "code",
   "execution_count": 176,
   "id": "classified-differential",
   "metadata": {
    "scrolled": false
   },
   "outputs": [
    {
     "data": {
      "text/plain": [
       "NaN       139\n",
       "82.0       21\n",
       "86.0       18\n",
       "19.0       17\n",
       "59.0       16\n",
       "         ... \n",
       "1303.0      1\n",
       "1853.0      1\n",
       "824.0       1\n",
       "764.0       1\n",
       "1207.0      1\n",
       "Name: Cabin_num, Length: 1691, dtype: int64"
      ]
     },
     "execution_count": 176,
     "metadata": {},
     "output_type": "execute_result"
    }
   ],
   "source": [
    "X_train.Cabin_num.value_counts(dropna=False)"
   ]
  },
  {
   "cell_type": "code",
   "execution_count": 179,
   "id": "computational-tomorrow",
   "metadata": {
    "scrolled": false
   },
   "outputs": [
    {
     "data": {
      "image/png": "[encoded data removed]",
      "text/plain": [
       "<Figure size 432x288 with 1 Axes>"
      ]
     },
     "metadata": {
      "needs_background": "light"
     },
     "output_type": "display_data"
    }
   ],
   "source": [
    "plt.hist(X_train.Cabin_num)\n",
    "plt.show()"
   ]
  },
  {
   "cell_type": "code",
   "execution_count": 177,
   "id": "endangered-intro",
   "metadata": {},
   "outputs": [
    {
     "data": {
      "text/plain": [
       "(0.0, 1894.0)"
      ]
     },
     "execution_count": 177,
     "metadata": {},
     "output_type": "execute_result"
    }
   ],
   "source": [
    "X_train.Cabin_num.min(), X_train.Cabin_num.max()"
   ]
  },
  {
   "cell_type": "code",
   "execution_count": 178,
   "id": "closed-soviet",
   "metadata": {},
   "outputs": [
    {
     "data": {
      "text/plain": [
       "PassengerId  Side  Deck  Cabin_num\n",
       "0001_01      P     B     0.0          1\n",
       "0002_01      S     F     0.0          1\n",
       "0005_01      P     F     0.0          1\n",
       "0006_02      S     G     0.0          1\n",
       "0017_01      P     G     0.0          1\n",
       "0020_04      S     E     0.0          1\n",
       "0020_05      S     E     0.0          1\n",
       "0020_06      S     E     0.0          1\n",
       "0022_01      P     D     0.0          1\n",
       "0026_01      P     C     0.0          1\n",
       "0119_01      P     A     0.0          1\n",
       "dtype: int64"
      ]
     },
     "execution_count": 178,
     "metadata": {},
     "output_type": "execute_result"
    }
   ],
   "source": [
    "X_train.loc[X_train['Cabin_num']==0, ['PassengerId','Side', 'Deck','Cabin_num']].value_counts()"
   ]
  },
  {
   "cell_type": "markdown",
   "id": "chicken-cyprus",
   "metadata": {},
   "source": [
    "Categorization tests"
   ]
  },
  {
   "cell_type": "code",
   "execution_count": 180,
   "id": "white-exclusive",
   "metadata": {},
   "outputs": [],
   "source": [
    "X_train_copy = X_train.copy()\n",
    "X_train_copy['Cabin_num'] = pd.cut(X_train.Cabin_num.fillna(-1),\n",
    "      bins=[-2, -0.1, 500, 1000, 1500, 2000],\n",
    "      labels=['NaN', '0-500', '500-1000', '1000-1500', '1500-2000'])"
   ]
  },
  {
   "cell_type": "code",
   "execution_count": 181,
   "id": "african-privilege",
   "metadata": {
    "scrolled": true
   },
   "outputs": [
    {
     "data": {
      "text/plain": [
       "0-500        3240\n",
       "500-1000     1210\n",
       "1000-1500    1132\n",
       "1500-2000     364\n",
       "NaN           139\n",
       "Name: Cabin_num, dtype: int64"
      ]
     },
     "execution_count": 181,
     "metadata": {},
     "output_type": "execute_result"
    }
   ],
   "source": [
    "X_train_copy['Cabin_num'].value_counts()"
   ]
  },
  {
   "cell_type": "code",
   "execution_count": 182,
   "id": "oriental-sterling",
   "metadata": {},
   "outputs": [
    {
     "data": {
      "text/plain": [
       "Side  Cabin_num\n",
       "P     NaN             0\n",
       "      0-500        1563\n",
       "      500-1000      604\n",
       "      1000-1500     584\n",
       "      1500-2000     208\n",
       "S     NaN             0\n",
       "      0-500        1677\n",
       "      500-1000      606\n",
       "      1000-1500     548\n",
       "      1500-2000     156\n",
       "dtype: int64"
      ]
     },
     "execution_count": 182,
     "metadata": {},
     "output_type": "execute_result"
    }
   ],
   "source": [
    "X_train_copy.groupby(['Side', 'Cabin_num']).size()"
   ]
  },
  {
   "cell_type": "markdown",
   "id": "brave-draft",
   "metadata": {},
   "source": [
    "#### Categorical features"
   ]
  },
  {
   "cell_type": "code",
   "execution_count": 148,
   "id": "isolated-universal",
   "metadata": {},
   "outputs": [
    {
     "data": {
      "image/png": "[encoded data removed]",
      "text/plain": [
       "<Figure size 1152x576 with 6 Axes>"
      ]
     },
     "metadata": {},
     "output_type": "display_data"
    }
   ],
   "source": [
    "plt.figure(figsize=(16,8))\n",
    "plt.subplot(231)\n",
    "X_train['HomePlanet'].value_counts(dropna=False).plot(kind='pie', legend=False)\n",
    "plt.title(\"HomePlanet\")\n",
    "plt.subplot(232)\n",
    "X_train['CryoSleep'].value_counts(dropna=False).plot(kind='pie', legend=False)\n",
    "plt.title(\"CryoSleep\")\n",
    "plt.subplot(233)\n",
    "X_train['Destination'].value_counts(dropna=False).plot(kind='pie', legend=False)\n",
    "plt.title(\"Destination\")\n",
    "plt.subplot(234)\n",
    "X_train['VIP'].value_counts(dropna=False).plot(kind='pie', legend=False)\n",
    "plt.title(\"VIP\")\n",
    "plt.subplot(235)\n",
    "X_train['Travel_alone'].value_counts(dropna=False).plot(kind='pie', legend=False)\n",
    "plt.title(\"Travel_alone\")\n",
    "plt.subplot(236)\n",
    "X_train['Side'].value_counts(dropna=False).plot(kind='pie', legend=False)\n",
    "plt.title(\"Side\")\n",
    "\n",
    "plt.show()"
   ]
  },
  {
   "cell_type": "markdown",
   "id": "broke-wilderness",
   "metadata": {},
   "source": [
    "##### HomePlanet, CryoSleep, Destination, VIP, Travel_alone, Side\n",
    "\n",
    "\n",
    "- combine the NA values with the most common category\n",
    "- feature \"Travel_alone\" has no NA values "
   ]
  },
  {
   "cell_type": "markdown",
   "id": "taken-storage",
   "metadata": {},
   "source": [
    "1. HomePlanet "
   ]
  },
  {
   "cell_type": "code",
   "execution_count": 45,
   "id": "legislative-stereo",
   "metadata": {},
   "outputs": [
    {
     "data": {
      "text/plain": [
       "Earth     3217\n",
       "Europa    1494\n",
       "Mars      1225\n",
       "NaN        149\n",
       "Name: HomePlanet, dtype: int64"
      ]
     },
     "execution_count": 45,
     "metadata": {},
     "output_type": "execute_result"
    }
   ],
   "source": [
    "X_train.HomePlanet.value_counts(dropna=False)"
   ]
  },
  {
   "cell_type": "markdown",
   "id": "matched-rapid",
   "metadata": {},
   "source": [
    "2. CryoSleep"
   ]
  },
  {
   "cell_type": "code",
   "execution_count": 46,
   "id": "concerned-miniature",
   "metadata": {
    "scrolled": true
   },
   "outputs": [
    {
     "data": {
      "text/plain": [
       "False    3839\n",
       "True     2098\n",
       "NaN       148\n",
       "Name: CryoSleep, dtype: int64"
      ]
     },
     "execution_count": 46,
     "metadata": {},
     "output_type": "execute_result"
    }
   ],
   "source": [
    "X_train.CryoSleep.value_counts(dropna=False)"
   ]
  },
  {
   "cell_type": "code",
   "execution_count": 193,
   "id": "certified-freeze",
   "metadata": {},
   "outputs": [
    {
     "data": {
      "text/plain": [
       "CryoSleep\n",
       "False    0.331336\n",
       "True     0.819828\n",
       "NaN      0.493243\n",
       "Name: Transported, dtype: float64"
      ]
     },
     "execution_count": 193,
     "metadata": {},
     "output_type": "execute_result"
    }
   ],
   "source": [
    "y_train.groupby(X_train.CryoSleep, dropna=False).mean()"
   ]
  },
  {
   "cell_type": "markdown",
   "id": "seven-surname",
   "metadata": {},
   "source": [
    "4. Destination\n",
    "\n",
    "- the percentage comparison against the target does not give an unambiguous assignment for the NA value. Therefore, NaN values will be assigned to the most common category"
   ]
  },
  {
   "cell_type": "code",
   "execution_count": 48,
   "id": "sublime-bracket",
   "metadata": {},
   "outputs": [
    {
     "data": {
      "text/plain": [
       "TRAPPIST-1e      4168\n",
       "55 Cancri e      1235\n",
       "PSO J318.5-22     567\n",
       "NaN               115\n",
       "Name: Destination, dtype: int64"
      ]
     },
     "execution_count": 48,
     "metadata": {},
     "output_type": "execute_result"
    }
   ],
   "source": [
    "X_train.Destination.value_counts(dropna=False)"
   ]
  },
  {
   "cell_type": "code",
   "execution_count": 198,
   "id": "tight-drawing",
   "metadata": {},
   "outputs": [
    {
     "data": {
      "text/plain": [
       "Destination\n",
       "55 Cancri e      0.617814\n",
       "PSO J318.5-22    0.495591\n",
       "TRAPPIST-1e      0.470250\n",
       "NaN              0.530435\n",
       "Name: Transported, dtype: float64"
      ]
     },
     "execution_count": 198,
     "metadata": {},
     "output_type": "execute_result"
    }
   ],
   "source": [
    "y_train.groupby(X_train.Destination, dropna=False).mean()"
   ]
  },
  {
   "cell_type": "markdown",
   "id": "scenic-circuit",
   "metadata": {},
   "source": [
    "6. VIP\n"
   ]
  },
  {
   "cell_type": "code",
   "execution_count": 56,
   "id": "spanish-bunny",
   "metadata": {},
   "outputs": [
    {
     "data": {
      "text/plain": [
       "False    5815\n",
       "True      143\n",
       "NaN       127\n",
       "Name: VIP, dtype: int64"
      ]
     },
     "execution_count": 56,
     "metadata": {},
     "output_type": "execute_result"
    }
   ],
   "source": [
    "X_train.VIP.value_counts(dropna=False)"
   ]
  },
  {
   "cell_type": "code",
   "execution_count": 199,
   "id": "activated-needle",
   "metadata": {
    "scrolled": true
   },
   "outputs": [
    {
     "data": {
      "text/plain": [
       "VIP\n",
       "False    0.505933\n",
       "True     0.377622\n",
       "NaN      0.543307\n",
       "Name: Transported, dtype: float64"
      ]
     },
     "execution_count": 199,
     "metadata": {},
     "output_type": "execute_result"
    }
   ],
   "source": [
    "y_train.groupby(X_train.VIP, dropna=False).mean()"
   ]
  },
  {
   "cell_type": "markdown",
   "id": "corrected-values",
   "metadata": {},
   "source": [
    " Side"
   ]
  },
  {
   "cell_type": "code",
   "execution_count": 252,
   "id": "serious-unemployment",
   "metadata": {
    "scrolled": false
   },
   "outputs": [
    {
     "data": {
      "text/plain": [
       "S      2987\n",
       "P      2959\n",
       "NaN     139\n",
       "Name: Side, dtype: int64"
      ]
     },
     "execution_count": 252,
     "metadata": {},
     "output_type": "execute_result"
    }
   ],
   "source": [
    "X_train.Side.value_counts(dropna=False)"
   ]
  },
  {
   "cell_type": "code",
   "execution_count": 253,
   "id": "behind-protest",
   "metadata": {},
   "outputs": [
    {
     "data": {
      "text/plain": [
       "Side\n",
       "P      0.453870\n",
       "S      0.556076\n",
       "NaN    0.438849\n",
       "Name: Transported, dtype: float64"
      ]
     },
     "execution_count": 253,
     "metadata": {},
     "output_type": "execute_result"
    }
   ],
   "source": [
    "y_train.groupby(X_train.Side, dropna=False).mean()"
   ]
  },
  {
   "cell_type": "markdown",
   "id": "serious-apparel",
   "metadata": {},
   "source": [
    "Travel alone\n",
    "- no NA values - feature derived from \"PassengerId\""
   ]
  },
  {
   "cell_type": "code",
   "execution_count": 220,
   "id": "rental-greek",
   "metadata": {
    "scrolled": true
   },
   "outputs": [
    {
     "data": {
      "text/plain": [
       "True     3373\n",
       "False    2712\n",
       "Name: Travel_alone, dtype: int64"
      ]
     },
     "execution_count": 220,
     "metadata": {},
     "output_type": "execute_result"
    }
   ],
   "source": [
    "X_train.Travel_alone.value_counts(dropna=False)"
   ]
  },
  {
   "cell_type": "markdown",
   "id": "brave-fellow",
   "metadata": {},
   "source": [
    "##### Deck\n",
    "\n",
    "- 139 NA values\n",
    "- Decks are not signed to side of the spaceship (\"Side\")\n",
    "- 9 categories (with NA category). Based on the grouping: deck vs cabin number (grouped) - notation below - the conclusion is that decks A, B, C, D are small decks (cabin numbers in the range of 0-500). These decks will be grouped together as \"Other\".\n",
    "- The T deck with only 2 passengers assigned (capitan's cabin?) will also be assigned to the \"Other\" category\n",
    "- The NA values will also be asiigned as \"Other\" - the most frequent value is not unambiguous - F and G decks have a very similar number of passengers."
   ]
  },
  {
   "cell_type": "code",
   "execution_count": 185,
   "id": "unknown-trunk",
   "metadata": {
    "scrolled": false
   },
   "outputs": [
    {
     "data": {
      "text/plain": [
       "Side  Deck\n",
       "P     A        77\n",
       "      B       253\n",
       "      C       227\n",
       "      D       192\n",
       "      E       302\n",
       "      F       977\n",
       "      G       929\n",
       "      T         2\n",
       "S     A        98\n",
       "      B       304\n",
       "      C       284\n",
       "      D       154\n",
       "      E       308\n",
       "      F       947\n",
       "      G       892\n",
       "dtype: int64"
      ]
     },
     "execution_count": 185,
     "metadata": {},
     "output_type": "execute_result"
    }
   ],
   "source": [
    "X_train.groupby(['Side', 'Deck']).size()"
   ]
  },
  {
   "cell_type": "code",
   "execution_count": 186,
   "id": "fifth-source",
   "metadata": {},
   "outputs": [
    {
     "data": {
      "text/plain": [
       "F      1924\n",
       "G      1821\n",
       "E       610\n",
       "B       557\n",
       "C       511\n",
       "D       346\n",
       "A       175\n",
       "NaN     139\n",
       "T         2\n",
       "Name: Deck, dtype: int64"
      ]
     },
     "execution_count": 186,
     "metadata": {},
     "output_type": "execute_result"
    }
   ],
   "source": [
    "X_train.Deck.value_counts(dropna=False)"
   ]
  },
  {
   "cell_type": "code",
   "execution_count": 187,
   "id": "native-boundary",
   "metadata": {
    "scrolled": true
   },
   "outputs": [
    {
     "data": {
      "text/plain": [
       "Deck\n",
       "A      0.502857\n",
       "B      0.755835\n",
       "C      0.669276\n",
       "D      0.421965\n",
       "E      0.370492\n",
       "F      0.441268\n",
       "G      0.511258\n",
       "T      0.500000\n",
       "NaN    0.438849\n",
       "Name: Transported, dtype: float64"
      ]
     },
     "execution_count": 187,
     "metadata": {},
     "output_type": "execute_result"
    }
   ],
   "source": [
    "y_train.groupby(X_train.Deck, dropna=False).mean()"
   ]
  },
  {
   "cell_type": "code",
   "execution_count": 188,
   "id": "broken-eugene",
   "metadata": {
    "scrolled": true
   },
   "outputs": [
    {
     "data": {
      "text/plain": [
       "Deck  Cabin_num\n",
       "NaN   NaN          139\n",
       "      0-500          0\n",
       "      500-1000       0\n",
       "      1000-1500      0\n",
       "      1500-2000      0\n",
       "A     NaN            0\n",
       "      0-500        175\n",
       "      500-1000       0\n",
       "      1000-1500      0\n",
       "      1500-2000      0\n",
       "B     NaN            0\n",
       "      0-500        557\n",
       "      500-1000       0\n",
       "      1000-1500      0\n",
       "      1500-2000      0\n",
       "C     NaN            0\n",
       "      0-500        511\n",
       "      500-1000       0\n",
       "      1000-1500      0\n",
       "      1500-2000      0\n",
       "D     NaN            0\n",
       "      0-500        346\n",
       "      500-1000       0\n",
       "      1000-1500      0\n",
       "      1500-2000      0\n",
       "E     NaN            0\n",
       "      0-500        519\n",
       "      500-1000      91\n",
       "      1000-1500      0\n",
       "      1500-2000      0\n",
       "F     NaN            0\n",
       "      0-500        529\n",
       "      500-1000     510\n",
       "      1000-1500    525\n",
       "      1500-2000    360\n",
       "G     NaN            0\n",
       "      0-500        601\n",
       "      500-1000     609\n",
       "      1000-1500    607\n",
       "      1500-2000      4\n",
       "T     NaN            0\n",
       "      0-500          2\n",
       "      500-1000       0\n",
       "      1000-1500      0\n",
       "      1500-2000      0\n",
       "dtype: int64"
      ]
     },
     "execution_count": 188,
     "metadata": {},
     "output_type": "execute_result"
    }
   ],
   "source": [
    "X_train_copy.groupby(['Deck', 'Cabin_num'], dropna=False).size()"
   ]
  },
  {
   "cell_type": "markdown",
   "id": "incoming-bouquet",
   "metadata": {},
   "source": [
    "##### Name, Cabin\n",
    "\n",
    "Variables without affecting observations - will be not used."
   ]
  },
  {
   "cell_type": "code",
   "execution_count": 96,
   "id": "mechanical-throat",
   "metadata": {},
   "outputs": [
    {
     "data": {
      "text/plain": [
       "NaN                   142\n",
       "Keitha Josey            2\n",
       "Alraium Disivering      2\n",
       "Juane Popelazquez       2\n",
       "Loree Wolfernan         2\n",
       "                     ... \n",
       "Ricke Coolerson         1\n",
       "Vana Jimes              1\n",
       "Camina Harmontry        1\n",
       "Betenif Nalanet         1\n",
       "Graston Donotaked       1\n",
       "Name: Name, Length: 5929, dtype: int64"
      ]
     },
     "execution_count": 96,
     "metadata": {},
     "output_type": "execute_result"
    }
   ],
   "source": [
    "X_train.Name.value_counts(dropna=False)"
   ]
  },
  {
   "cell_type": "code",
   "execution_count": 16,
   "id": "different-conservative",
   "metadata": {
    "scrolled": true
   },
   "outputs": [
    {
     "data": {
      "text/plain": [
       "NaN         139\n",
       "G/1368/P      7\n",
       "C/137/S       6\n",
       "A/67/P        6\n",
       "C/225/P       6\n",
       "           ... \n",
       "B/216/S       1\n",
       "E/368/S       1\n",
       "G/573/S       1\n",
       "B/221/P       1\n",
       "G/1155/S      1\n",
       "Name: Cabin, Length: 4875, dtype: int64"
      ]
     },
     "execution_count": 16,
     "metadata": {},
     "output_type": "execute_result"
    }
   ],
   "source": [
    "X_train.Cabin.value_counts(dropna=False)"
   ]
  },
  {
   "cell_type": "code",
   "execution_count": null,
   "id": "distant-ireland",
   "metadata": {},
   "outputs": [],
   "source": []
  },
  {
   "cell_type": "code",
   "execution_count": null,
   "id": "static-blake",
   "metadata": {},
   "outputs": [],
   "source": []
  },
  {
   "cell_type": "code",
   "execution_count": 40,
   "id": "varying-therapy",
   "metadata": {},
   "outputs": [
    {
     "data": {
      "text/html": [
       "<div>\n",
       "<style scoped>\n",
       "    .dataframe tbody tr th:only-of-type {\n",
       "        vertical-align: middle;\n",
       "    }\n",
       "\n",
       "    .dataframe tbody tr th {\n",
       "        vertical-align: top;\n",
       "    }\n",
       "\n",
       "    .dataframe thead th {\n",
       "        text-align: right;\n",
       "    }\n",
       "</style>\n",
       "<table border=\"1\" class=\"dataframe\">\n",
       "  <thead>\n",
       "    <tr style=\"text-align: right;\">\n",
       "      <th></th>\n",
       "      <th>PassengerId</th>\n",
       "      <th>HomePlanet</th>\n",
       "      <th>CryoSleep</th>\n",
       "      <th>Cabin</th>\n",
       "      <th>Destination</th>\n",
       "      <th>Age</th>\n",
       "      <th>VIP</th>\n",
       "      <th>RoomService</th>\n",
       "      <th>FoodCourt</th>\n",
       "      <th>ShoppingMall</th>\n",
       "      <th>Spa</th>\n",
       "      <th>VRDeck</th>\n",
       "      <th>Name</th>\n",
       "      <th>Travel_alone</th>\n",
       "      <th>Deck</th>\n",
       "      <th>Cabin_num</th>\n",
       "      <th>Side</th>\n",
       "    </tr>\n",
       "  </thead>\n",
       "  <tbody>\n",
       "    <tr>\n",
       "      <th>6565</th>\n",
       "      <td>6926_01</td>\n",
       "      <td>NaN</td>\n",
       "      <td>False</td>\n",
       "      <td>F/1435/P</td>\n",
       "      <td>TRAPPIST-1e</td>\n",
       "      <td>43.0</td>\n",
       "      <td>False</td>\n",
       "      <td>1944.0</td>\n",
       "      <td>17.0</td>\n",
       "      <td>657.0</td>\n",
       "      <td>0.0</td>\n",
       "      <td>0.0</td>\n",
       "      <td>Smals Birt</td>\n",
       "      <td>1</td>\n",
       "      <td>F</td>\n",
       "      <td>1435.0</td>\n",
       "      <td>P</td>\n",
       "    </tr>\n",
       "    <tr>\n",
       "      <th>7285</th>\n",
       "      <td>7789_01</td>\n",
       "      <td>Earth</td>\n",
       "      <td>False</td>\n",
       "      <td>F/1489/S</td>\n",
       "      <td>TRAPPIST-1e</td>\n",
       "      <td>32.0</td>\n",
       "      <td>False</td>\n",
       "      <td>NaN</td>\n",
       "      <td>368.0</td>\n",
       "      <td>0.0</td>\n",
       "      <td>304.0</td>\n",
       "      <td>741.0</td>\n",
       "      <td>Pattie Whitledges</td>\n",
       "      <td>1</td>\n",
       "      <td>F</td>\n",
       "      <td>1489.0</td>\n",
       "      <td>S</td>\n",
       "    </tr>\n",
       "    <tr>\n",
       "      <th>1065</th>\n",
       "      <td>1141_01</td>\n",
       "      <td>Earth</td>\n",
       "      <td>True</td>\n",
       "      <td>G/176/S</td>\n",
       "      <td>TRAPPIST-1e</td>\n",
       "      <td>19.0</td>\n",
       "      <td>False</td>\n",
       "      <td>0.0</td>\n",
       "      <td>0.0</td>\n",
       "      <td>0.0</td>\n",
       "      <td>0.0</td>\n",
       "      <td>0.0</td>\n",
       "      <td>Kerrie Simstravery</td>\n",
       "      <td>1</td>\n",
       "      <td>G</td>\n",
       "      <td>176.0</td>\n",
       "      <td>S</td>\n",
       "    </tr>\n",
       "    <tr>\n",
       "      <th>2161</th>\n",
       "      <td>2310_01</td>\n",
       "      <td>Europa</td>\n",
       "      <td>True</td>\n",
       "      <td>D/68/P</td>\n",
       "      <td>55 Cancri e</td>\n",
       "      <td>60.0</td>\n",
       "      <td>False</td>\n",
       "      <td>0.0</td>\n",
       "      <td>0.0</td>\n",
       "      <td>0.0</td>\n",
       "      <td>0.0</td>\n",
       "      <td>0.0</td>\n",
       "      <td>Alaron Holiabler</td>\n",
       "      <td>0</td>\n",
       "      <td>D</td>\n",
       "      <td>68.0</td>\n",
       "      <td>P</td>\n",
       "    </tr>\n",
       "    <tr>\n",
       "      <th>5146</th>\n",
       "      <td>5496_01</td>\n",
       "      <td>Earth</td>\n",
       "      <td>True</td>\n",
       "      <td>G/882/P</td>\n",
       "      <td>55 Cancri e</td>\n",
       "      <td>22.0</td>\n",
       "      <td>False</td>\n",
       "      <td>0.0</td>\n",
       "      <td>0.0</td>\n",
       "      <td>0.0</td>\n",
       "      <td>0.0</td>\n",
       "      <td>0.0</td>\n",
       "      <td>Wayney Charryerry</td>\n",
       "      <td>1</td>\n",
       "      <td>G</td>\n",
       "      <td>882.0</td>\n",
       "      <td>P</td>\n",
       "    </tr>\n",
       "    <tr>\n",
       "      <th>...</th>\n",
       "      <td>...</td>\n",
       "      <td>...</td>\n",
       "      <td>...</td>\n",
       "      <td>...</td>\n",
       "      <td>...</td>\n",
       "      <td>...</td>\n",
       "      <td>...</td>\n",
       "      <td>...</td>\n",
       "      <td>...</td>\n",
       "      <td>...</td>\n",
       "      <td>...</td>\n",
       "      <td>...</td>\n",
       "      <td>...</td>\n",
       "      <td>...</td>\n",
       "      <td>...</td>\n",
       "      <td>...</td>\n",
       "      <td>...</td>\n",
       "    </tr>\n",
       "    <tr>\n",
       "      <th>4122</th>\n",
       "      <td>4400_02</td>\n",
       "      <td>Mars</td>\n",
       "      <td>False</td>\n",
       "      <td>F/830/S</td>\n",
       "      <td>55 Cancri e</td>\n",
       "      <td>0.0</td>\n",
       "      <td>False</td>\n",
       "      <td>0.0</td>\n",
       "      <td>0.0</td>\n",
       "      <td>0.0</td>\n",
       "      <td>0.0</td>\n",
       "      <td>0.0</td>\n",
       "      <td>Conk Sepie</td>\n",
       "      <td>0</td>\n",
       "      <td>F</td>\n",
       "      <td>830.0</td>\n",
       "      <td>S</td>\n",
       "    </tr>\n",
       "    <tr>\n",
       "      <th>1747</th>\n",
       "      <td>1860_02</td>\n",
       "      <td>Europa</td>\n",
       "      <td>False</td>\n",
       "      <td>A/13/P</td>\n",
       "      <td>55 Cancri e</td>\n",
       "      <td>35.0</td>\n",
       "      <td>False</td>\n",
       "      <td>95.0</td>\n",
       "      <td>3441.0</td>\n",
       "      <td>0.0</td>\n",
       "      <td>391.0</td>\n",
       "      <td>318.0</td>\n",
       "      <td>Krazet Headfair</td>\n",
       "      <td>0</td>\n",
       "      <td>A</td>\n",
       "      <td>13.0</td>\n",
       "      <td>P</td>\n",
       "    </tr>\n",
       "    <tr>\n",
       "      <th>3125</th>\n",
       "      <td>3370_01</td>\n",
       "      <td>Mars</td>\n",
       "      <td>False</td>\n",
       "      <td>D/109/S</td>\n",
       "      <td>TRAPPIST-1e</td>\n",
       "      <td>18.0</td>\n",
       "      <td>False</td>\n",
       "      <td>2532.0</td>\n",
       "      <td>0.0</td>\n",
       "      <td>46.0</td>\n",
       "      <td>0.0</td>\n",
       "      <td>0.0</td>\n",
       "      <td>Par Port</td>\n",
       "      <td>1</td>\n",
       "      <td>D</td>\n",
       "      <td>109.0</td>\n",
       "      <td>S</td>\n",
       "    </tr>\n",
       "    <tr>\n",
       "      <th>6693</th>\n",
       "      <td>7060_01</td>\n",
       "      <td>Earth</td>\n",
       "      <td>False</td>\n",
       "      <td>G/1155/S</td>\n",
       "      <td>TRAPPIST-1e</td>\n",
       "      <td>35.0</td>\n",
       "      <td>False</td>\n",
       "      <td>2224.0</td>\n",
       "      <td>NaN</td>\n",
       "      <td>105.0</td>\n",
       "      <td>1.0</td>\n",
       "      <td>0.0</td>\n",
       "      <td>Dorie Rigginson</td>\n",
       "      <td>1</td>\n",
       "      <td>G</td>\n",
       "      <td>1155.0</td>\n",
       "      <td>S</td>\n",
       "    </tr>\n",
       "    <tr>\n",
       "      <th>7624</th>\n",
       "      <td>8144_01</td>\n",
       "      <td>Europa</td>\n",
       "      <td>True</td>\n",
       "      <td>B/270/P</td>\n",
       "      <td>55 Cancri e</td>\n",
       "      <td>45.0</td>\n",
       "      <td>False</td>\n",
       "      <td>0.0</td>\n",
       "      <td>0.0</td>\n",
       "      <td>0.0</td>\n",
       "      <td>0.0</td>\n",
       "      <td>0.0</td>\n",
       "      <td>Graston Donotaked</td>\n",
       "      <td>0</td>\n",
       "      <td>B</td>\n",
       "      <td>270.0</td>\n",
       "      <td>P</td>\n",
       "    </tr>\n",
       "  </tbody>\n",
       "</table>\n",
       "<p>6085 rows × 17 columns</p>\n",
       "</div>"
      ],
      "text/plain": [
       "     PassengerId HomePlanet CryoSleep     Cabin  Destination   Age    VIP  \\\n",
       "6565     6926_01        NaN     False  F/1435/P  TRAPPIST-1e  43.0  False   \n",
       "7285     7789_01      Earth     False  F/1489/S  TRAPPIST-1e  32.0  False   \n",
       "1065     1141_01      Earth      True   G/176/S  TRAPPIST-1e  19.0  False   \n",
       "2161     2310_01     Europa      True    D/68/P  55 Cancri e  60.0  False   \n",
       "5146     5496_01      Earth      True   G/882/P  55 Cancri e  22.0  False   \n",
       "...          ...        ...       ...       ...          ...   ...    ...   \n",
       "4122     4400_02       Mars     False   F/830/S  55 Cancri e   0.0  False   \n",
       "1747     1860_02     Europa     False    A/13/P  55 Cancri e  35.0  False   \n",
       "3125     3370_01       Mars     False   D/109/S  TRAPPIST-1e  18.0  False   \n",
       "6693     7060_01      Earth     False  G/1155/S  TRAPPIST-1e  35.0  False   \n",
       "7624     8144_01     Europa      True   B/270/P  55 Cancri e  45.0  False   \n",
       "\n",
       "      RoomService  FoodCourt  ShoppingMall    Spa  VRDeck                Name  \\\n",
       "6565       1944.0       17.0         657.0    0.0     0.0          Smals Birt   \n",
       "7285          NaN      368.0           0.0  304.0   741.0   Pattie Whitledges   \n",
       "1065          0.0        0.0           0.0    0.0     0.0  Kerrie Simstravery   \n",
       "2161          0.0        0.0           0.0    0.0     0.0    Alaron Holiabler   \n",
       "5146          0.0        0.0           0.0    0.0     0.0   Wayney Charryerry   \n",
       "...           ...        ...           ...    ...     ...                 ...   \n",
       "4122          0.0        0.0           0.0    0.0     0.0          Conk Sepie   \n",
       "1747         95.0     3441.0           0.0  391.0   318.0     Krazet Headfair   \n",
       "3125       2532.0        0.0          46.0    0.0     0.0            Par Port   \n",
       "6693       2224.0        NaN         105.0    1.0     0.0     Dorie Rigginson   \n",
       "7624          0.0        0.0           0.0    0.0     0.0   Graston Donotaked   \n",
       "\n",
       "     Travel_alone Deck  Cabin_num Side  \n",
       "6565            1    F     1435.0    P  \n",
       "7285            1    F     1489.0    S  \n",
       "1065            1    G      176.0    S  \n",
       "2161            0    D       68.0    P  \n",
       "5146            1    G      882.0    P  \n",
       "...           ...  ...        ...  ...  \n",
       "4122            0    F      830.0    S  \n",
       "1747            0    A       13.0    P  \n",
       "3125            1    D      109.0    S  \n",
       "6693            1    G     1155.0    S  \n",
       "7624            0    B      270.0    P  \n",
       "\n",
       "[6085 rows x 17 columns]"
      ]
     },
     "execution_count": 40,
     "metadata": {},
     "output_type": "execute_result"
    }
   ],
   "source": [
    "X_train"
   ]
  },
  {
   "cell_type": "code",
   "execution_count": 221,
   "id": "smaller-hanging",
   "metadata": {},
   "outputs": [
    {
     "name": "stdout",
     "output_type": "stream",
     "text": [
      "<class 'pandas.core.frame.DataFrame'>\n",
      "Int64Index: 6085 entries, 6565 to 7624\n",
      "Data columns (total 17 columns):\n",
      " #   Column        Non-Null Count  Dtype  \n",
      "---  ------        --------------  -----  \n",
      " 0   PassengerId   6085 non-null   object \n",
      " 1   HomePlanet    5936 non-null   object \n",
      " 2   CryoSleep     5937 non-null   object \n",
      " 3   Cabin         5946 non-null   object \n",
      " 4   Destination   5970 non-null   object \n",
      " 5   Age           5965 non-null   float64\n",
      " 6   VIP           5958 non-null   object \n",
      " 7   RoomService   5959 non-null   float64\n",
      " 8   FoodCourt     5954 non-null   float64\n",
      " 9   ShoppingMall  5944 non-null   float64\n",
      " 10  Spa           5961 non-null   float64\n",
      " 11  VRDeck        5945 non-null   float64\n",
      " 12  Name          5943 non-null   object \n",
      " 13  Travel_alone  6085 non-null   object \n",
      " 14  Deck          5946 non-null   object \n",
      " 15  Cabin_num     5946 non-null   float64\n",
      " 16  Side          5946 non-null   object \n",
      "dtypes: float64(7), object(10)\n",
      "memory usage: 855.7+ KB\n"
     ]
    }
   ],
   "source": [
    "X_train.info()"
   ]
  },
  {
   "cell_type": "markdown",
   "id": "furnished-philosophy",
   "metadata": {},
   "source": [
    "## Feature preprocesing\n",
    "\n",
    "- columns 'PassengerId', 'Cabin' and 'Name'  will be not used \n",
    "- the remaining columns will be divided into groups depending on what functions will be performed on them"
   ]
  },
  {
   "cell_type": "code",
   "execution_count": 50,
   "id": "proper-clause",
   "metadata": {},
   "outputs": [],
   "source": [
    "num_features = ['Age', 'Cabin_num'] # -done \n",
    "cat_features = ['HomePlanet', 'CryoSleep', 'Destination', 'VIP', 'Side', 'Travel_alone'] # done\n",
    "num_to_cat_features = ['RoomService', 'FoodCourt', 'ShoppingMall', 'Spa', 'VRDeck']  \n",
    "# przypisanie NA do 0, zmiana na cat (funkcja), one hot encoder\n",
    "deck = ['Deck'] # grupowanie NaN, A B C D i T do kategorii \"Others\"\n",
    "# cabin_num = ['Cabin_num']\n",
    "# side = ['Side']"
   ]
  },
  {
   "cell_type": "markdown",
   "id": "announced-sandwich",
   "metadata": {},
   "source": [
    "OneHotEncoder(handle_unknown=\"ignore\") - for cat_features - bo nie spodziewamy się innych kategorii - przeanalizować i opisać\n"
   ]
  },
  {
   "cell_type": "code",
   "execution_count": 59,
   "id": "alternative-bookmark",
   "metadata": {},
   "outputs": [],
   "source": [
    "numerical_pipe = Pipeline([\n",
    "    (\"simple_imputer\", SimpleImputer(strategy=\"median\")),\n",
    "    (\"scaler\", StandardScaler())\n",
    "])\n",
    "\n",
    "categorical_pipe = Pipeline([\n",
    "    (\"simple_imputer\", SimpleImputer(strategy=\"most_frequent\")),\n",
    "    (\"one_hot_encoder\", OneHotEncoder(handle_unknown=\"ignore\"))  # zawsze trzeba przemyśleć \n",
    "])\n",
    "\n",
    "\n",
    "#num_to_cat_pipe = Pipeline([\n",
    "#    (\"simple_imputer\", SimpleImputer(strategy=\"most_frequent\")),\n",
    "#    (\"aggregator\", RareValuesAggregator(2)),\n",
    "#    (\"one_hot_encoder\", OneHotEncoder(handle_unknown=\"ignore\"))\n",
    "#])\n",
    "\n",
    "  "
   ]
  },
  {
   "cell_type": "code",
   "execution_count": 60,
   "id": "surgical-roots",
   "metadata": {},
   "outputs": [
    {
     "data": {
      "text/html": [
       "<style>#sk-container-id-9 {color: black;background-color: white;}#sk-container-id-9 pre{padding: 0;}#sk-container-id-9 div.sk-toggleable {background-color: white;}#sk-container-id-9 label.sk-toggleable__label {cursor: pointer;display: block;width: 100%;margin-bottom: 0;padding: 0.3em;box-sizing: border-box;text-align: center;}#sk-container-id-9 label.sk-toggleable__label-arrow:before {content: \"▸\";float: left;margin-right: 0.25em;color: #696969;}#sk-container-id-9 label.sk-toggleable__label-arrow:hover:before {color: black;}#sk-container-id-9 div.sk-estimator:hover label.sk-toggleable__label-arrow:before {color: black;}#sk-container-id-9 div.sk-toggleable__content {max-height: 0;max-width: 0;overflow: hidden;text-align: left;background-color: #f0f8ff;}#sk-container-id-9 div.sk-toggleable__content pre {margin: 0.2em;color: black;border-radius: 0.25em;background-color: #f0f8ff;}#sk-container-id-9 input.sk-toggleable__control:checked~div.sk-toggleable__content {max-height: 200px;max-width: 100%;overflow: auto;}#sk-container-id-9 input.sk-toggleable__control:checked~label.sk-toggleable__label-arrow:before {content: \"▾\";}#sk-container-id-9 div.sk-estimator input.sk-toggleable__control:checked~label.sk-toggleable__label {background-color: #d4ebff;}#sk-container-id-9 div.sk-label input.sk-toggleable__control:checked~label.sk-toggleable__label {background-color: #d4ebff;}#sk-container-id-9 input.sk-hidden--visually {border: 0;clip: rect(1px 1px 1px 1px);clip: rect(1px, 1px, 1px, 1px);height: 1px;margin: -1px;overflow: hidden;padding: 0;position: absolute;width: 1px;}#sk-container-id-9 div.sk-estimator {font-family: monospace;background-color: #f0f8ff;border: 1px dotted black;border-radius: 0.25em;box-sizing: border-box;margin-bottom: 0.5em;}#sk-container-id-9 div.sk-estimator:hover {background-color: #d4ebff;}#sk-container-id-9 div.sk-parallel-item::after {content: \"\";width: 100%;border-bottom: 1px solid gray;flex-grow: 1;}#sk-container-id-9 div.sk-label:hover label.sk-toggleable__label {background-color: #d4ebff;}#sk-container-id-9 div.sk-serial::before {content: \"\";position: absolute;border-left: 1px solid gray;box-sizing: border-box;top: 0;bottom: 0;left: 50%;z-index: 0;}#sk-container-id-9 div.sk-serial {display: flex;flex-direction: column;align-items: center;background-color: white;padding-right: 0.2em;padding-left: 0.2em;position: relative;}#sk-container-id-9 div.sk-item {position: relative;z-index: 1;}#sk-container-id-9 div.sk-parallel {display: flex;align-items: stretch;justify-content: center;background-color: white;position: relative;}#sk-container-id-9 div.sk-item::before, #sk-container-id-9 div.sk-parallel-item::before {content: \"\";position: absolute;border-left: 1px solid gray;box-sizing: border-box;top: 0;bottom: 0;left: 50%;z-index: -1;}#sk-container-id-9 div.sk-parallel-item {display: flex;flex-direction: column;z-index: 1;position: relative;background-color: white;}#sk-container-id-9 div.sk-parallel-item:first-child::after {align-self: flex-end;width: 50%;}#sk-container-id-9 div.sk-parallel-item:last-child::after {align-self: flex-start;width: 50%;}#sk-container-id-9 div.sk-parallel-item:only-child::after {width: 0;}#sk-container-id-9 div.sk-dashed-wrapped {border: 1px dashed gray;margin: 0 0.4em 0.5em 0.4em;box-sizing: border-box;padding-bottom: 0.4em;background-color: white;}#sk-container-id-9 div.sk-label label {font-family: monospace;font-weight: bold;display: inline-block;line-height: 1.2em;}#sk-container-id-9 div.sk-label-container {text-align: center;}#sk-container-id-9 div.sk-container {/* jupyter's `normalize.less` sets `[hidden] { display: none; }` but bootstrap.min.css set `[hidden] { display: none !important; }` so we also need the `!important` here to be able to override the default hidden behavior on the sphinx rendered scikit-learn.org. See: https://github.com/scikit-learn/scikit-learn/issues/21755 */display: inline-block !important;position: relative;}#sk-container-id-9 div.sk-text-repr-fallback {display: none;}</style><div id=\"sk-container-id-9\" class=\"sk-top-container\"><div class=\"sk-text-repr-fallback\"><pre>ColumnTransformer(n_jobs=-1,\n",
       "                  transformers=[(&#x27;numerical&#x27;,\n",
       "                                 Pipeline(steps=[(&#x27;simple_imputer&#x27;,\n",
       "                                                  SimpleImputer(strategy=&#x27;median&#x27;)),\n",
       "                                                 (&#x27;scaler&#x27;, StandardScaler())]),\n",
       "                                 [&#x27;Age&#x27;, &#x27;Cabin_num&#x27;]),\n",
       "                                (&#x27;categorical&#x27;,\n",
       "                                 Pipeline(steps=[(&#x27;simple_imputer&#x27;,\n",
       "                                                  SimpleImputer(strategy=&#x27;most_frequent&#x27;)),\n",
       "                                                 (&#x27;one_hot_encoder&#x27;,\n",
       "                                                  OneHotEncoder(handle_unknown=&#x27;ignore&#x27;))]),\n",
       "                                 [&#x27;HomePlanet&#x27;, &#x27;CryoSleep&#x27;, &#x27;Destination&#x27;,\n",
       "                                  &#x27;VIP&#x27;, &#x27;Side&#x27;, &#x27;Travel_alone&#x27;])])</pre><b>In a Jupyter environment, please rerun this cell to show the HTML representation or trust the notebook. <br />On GitHub, the HTML representation is unable to render, please try loading this page with nbviewer.org.</b></div><div class=\"sk-container\" hidden><div class=\"sk-item sk-dashed-wrapped\"><div class=\"sk-label-container\"><div class=\"sk-label sk-toggleable\"><input class=\"sk-toggleable__control sk-hidden--visually\" id=\"sk-estimator-id-31\" type=\"checkbox\" ><label for=\"sk-estimator-id-31\" class=\"sk-toggleable__label sk-toggleable__label-arrow\">ColumnTransformer</label><div class=\"sk-toggleable__content\"><pre>ColumnTransformer(n_jobs=-1,\n",
       "                  transformers=[(&#x27;numerical&#x27;,\n",
       "                                 Pipeline(steps=[(&#x27;simple_imputer&#x27;,\n",
       "                                                  SimpleImputer(strategy=&#x27;median&#x27;)),\n",
       "                                                 (&#x27;scaler&#x27;, StandardScaler())]),\n",
       "                                 [&#x27;Age&#x27;, &#x27;Cabin_num&#x27;]),\n",
       "                                (&#x27;categorical&#x27;,\n",
       "                                 Pipeline(steps=[(&#x27;simple_imputer&#x27;,\n",
       "                                                  SimpleImputer(strategy=&#x27;most_frequent&#x27;)),\n",
       "                                                 (&#x27;one_hot_encoder&#x27;,\n",
       "                                                  OneHotEncoder(handle_unknown=&#x27;ignore&#x27;))]),\n",
       "                                 [&#x27;HomePlanet&#x27;, &#x27;CryoSleep&#x27;, &#x27;Destination&#x27;,\n",
       "                                  &#x27;VIP&#x27;, &#x27;Side&#x27;, &#x27;Travel_alone&#x27;])])</pre></div></div></div><div class=\"sk-parallel\"><div class=\"sk-parallel-item\"><div class=\"sk-item\"><div class=\"sk-label-container\"><div class=\"sk-label sk-toggleable\"><input class=\"sk-toggleable__control sk-hidden--visually\" id=\"sk-estimator-id-32\" type=\"checkbox\" ><label for=\"sk-estimator-id-32\" class=\"sk-toggleable__label sk-toggleable__label-arrow\">numerical</label><div class=\"sk-toggleable__content\"><pre>[&#x27;Age&#x27;, &#x27;Cabin_num&#x27;]</pre></div></div></div><div class=\"sk-serial\"><div class=\"sk-item\"><div class=\"sk-serial\"><div class=\"sk-item\"><div class=\"sk-estimator sk-toggleable\"><input class=\"sk-toggleable__control sk-hidden--visually\" id=\"sk-estimator-id-33\" type=\"checkbox\" ><label for=\"sk-estimator-id-33\" class=\"sk-toggleable__label sk-toggleable__label-arrow\">SimpleImputer</label><div class=\"sk-toggleable__content\"><pre>SimpleImputer(strategy=&#x27;median&#x27;)</pre></div></div></div><div class=\"sk-item\"><div class=\"sk-estimator sk-toggleable\"><input class=\"sk-toggleable__control sk-hidden--visually\" id=\"sk-estimator-id-34\" type=\"checkbox\" ><label for=\"sk-estimator-id-34\" class=\"sk-toggleable__label sk-toggleable__label-arrow\">StandardScaler</label><div class=\"sk-toggleable__content\"><pre>StandardScaler()</pre></div></div></div></div></div></div></div></div><div class=\"sk-parallel-item\"><div class=\"sk-item\"><div class=\"sk-label-container\"><div class=\"sk-label sk-toggleable\"><input class=\"sk-toggleable__control sk-hidden--visually\" id=\"sk-estimator-id-35\" type=\"checkbox\" ><label for=\"sk-estimator-id-35\" class=\"sk-toggleable__label sk-toggleable__label-arrow\">categorical</label><div class=\"sk-toggleable__content\"><pre>[&#x27;HomePlanet&#x27;, &#x27;CryoSleep&#x27;, &#x27;Destination&#x27;, &#x27;VIP&#x27;, &#x27;Side&#x27;, &#x27;Travel_alone&#x27;]</pre></div></div></div><div class=\"sk-serial\"><div class=\"sk-item\"><div class=\"sk-serial\"><div class=\"sk-item\"><div class=\"sk-estimator sk-toggleable\"><input class=\"sk-toggleable__control sk-hidden--visually\" id=\"sk-estimator-id-36\" type=\"checkbox\" ><label for=\"sk-estimator-id-36\" class=\"sk-toggleable__label sk-toggleable__label-arrow\">SimpleImputer</label><div class=\"sk-toggleable__content\"><pre>SimpleImputer(strategy=&#x27;most_frequent&#x27;)</pre></div></div></div><div class=\"sk-item\"><div class=\"sk-estimator sk-toggleable\"><input class=\"sk-toggleable__control sk-hidden--visually\" id=\"sk-estimator-id-37\" type=\"checkbox\" ><label for=\"sk-estimator-id-37\" class=\"sk-toggleable__label sk-toggleable__label-arrow\">OneHotEncoder</label><div class=\"sk-toggleable__content\"><pre>OneHotEncoder(handle_unknown=&#x27;ignore&#x27;)</pre></div></div></div></div></div></div></div></div></div></div></div></div>"
      ],
      "text/plain": [
       "ColumnTransformer(n_jobs=-1,\n",
       "                  transformers=[('numerical',\n",
       "                                 Pipeline(steps=[('simple_imputer',\n",
       "                                                  SimpleImputer(strategy='median')),\n",
       "                                                 ('scaler', StandardScaler())]),\n",
       "                                 ['Age', 'Cabin_num']),\n",
       "                                ('categorical',\n",
       "                                 Pipeline(steps=[('simple_imputer',\n",
       "                                                  SimpleImputer(strategy='most_frequent')),\n",
       "                                                 ('one_hot_encoder',\n",
       "                                                  OneHotEncoder(handle_unknown='ignore'))]),\n",
       "                                 ['HomePlanet', 'CryoSleep', 'Destination',\n",
       "                                  'VIP', 'Side', 'Travel_alone'])])"
      ]
     },
     "execution_count": 60,
     "metadata": {},
     "output_type": "execute_result"
    }
   ],
   "source": [
    "preprocessor = ColumnTransformer([\n",
    "        (\"numerical\", numerical_pipe, num_features),\n",
    "        (\"categorical\", categorical_pipe, cat_features),\n",
    "    ], remainder=\"drop\", n_jobs=-1\n",
    ")\n",
    "preprocessor\n",
    "\n",
    "# (\"num_to_cat\", num_to_cat_pipe, num_to_cat_features)"
   ]
  },
  {
   "cell_type": "markdown",
   "id": "arranged-thompson",
   "metadata": {
    "heading_collapsed": true
   },
   "source": [
    "## drafty"
   ]
  },
  {
   "cell_type": "code",
   "execution_count": null,
   "id": "right-tomato",
   "metadata": {
    "hidden": true
   },
   "outputs": [],
   "source": [
    "# data['capital_gain'] = pd.cut(data.capital_gain,\n",
    "#       bins=[-1, 1, 50000, 100_000],\n",
    "#       labels=['zero', 'medium', 'outlier'])"
   ]
  },
  {
   "cell_type": "code",
   "execution_count": null,
   "id": "later-fault",
   "metadata": {
    "hidden": true
   },
   "outputs": [],
   "source": [
    "# def exctract_first_letter(X):\n",
    "#     return pd.DataFrame(X.iloc[:,0].str[0])  # można użyć funkcji '.to_frame()'\n",
    "# dla NaN nadal zwraca NaN\n",
    "# do ogólnej funkcji do przekształcania dowolnej kolumny"
   ]
  },
  {
   "cell_type": "code",
   "execution_count": null,
   "id": "hungarian-wireless",
   "metadata": {
    "hidden": true
   },
   "outputs": [],
   "source": [
    "# def extract_first_letter(X):\n",
    "#     # w praktyce transformator powinine byc tak zaimplementowany, \n",
    "#     # zeby dzialac rowniez na numpy'owych macierzach\n",
    "#     X_copy = X.copy()\n",
    "#     for column in X.columns:\n",
    "#         X_copy[column] = X_copy[column].str[0] \n",
    "#     return X_copy "
   ]
  },
  {
   "cell_type": "code",
   "execution_count": null,
   "id": "consolidated-aviation",
   "metadata": {
    "hidden": true
   },
   "outputs": [],
   "source": [
    "# cabin_pipe = Pipeline([\n",
    "#     (\"extractor\", first_letter_extractor),\n",
    "#     (\"floor_function\", SimpleImputer(strategy=\"constant\", fill_value=\"UNKNOWN\")),\n",
    "#     (\"one_hot_encoder\", OneHotEncoder(handle_unknown=\"ignore\")) "
   ]
  },
  {
   "cell_type": "code",
   "execution_count": 56,
   "id": "valuable-organic",
   "metadata": {
    "hidden": true
   },
   "outputs": [],
   "source": [
    "#class RareValuesAggregator(BaseEstimator, TransformerMixin):\n",
    "#    \n",
    "#    def __init__(self, threshold=2, replace_value='RARE'):\n",
    "#        self._validate_threshold(threshold)\n",
    "#        self.threshold = threshold\n",
    "#        self.replace_value = replace_value\n",
    "#    \n",
    "#    def fit(self, X, y=None): \n",
    "#        self.most_frequent_values_ = {}\n",
    "#        if isinstance(X, np.ndarray):\n",
    "#            X = pd.DataFrame(X)\n",
    "#        use_percentage_frequency = self.threshold < 1\n",
    "#        for col in X.columns:\n",
    "#            counts = X[col].value_counts(normalize=use_percentage_frequency)\n",
    "#            self.most_frequent_values_[col] = set(counts.index[counts >= self.threshold])\n",
    "#        return self\n",
    "#    \n",
    "#    def transform(self, X):\n",
    "#        if isinstance(X, np.ndarray):\n",
    "#            X = pd.DataFrame(X)\n",
    "#        X_copy = X.copy()\n",
    "#        for col in X.columns:\n",
    "#            where_rare = ~X_copy[col].isin(self.most_frequent_values_[col])\n",
    "#            self._warn_if_only_rare(X, where_rare, col) \n",
    "#            X_copy[col][where_rare] = self.replace_value\n",
    "#        if isinstance(X, np.ndarray):\n",
    "#            return X_copy.values\n",
    "#        else:\n",
    "#            return X_copy\n",
    "#    \n",
    "#    def _validate_threshold(self, threshold):\n",
    "#        if not (isinstance(threshold, int) or isinstance(threshold, float)):\n",
    "#            raise ValueError(\"Argument 'threshold' must be a number.\")\n",
    "#        if threshold < 0:\n",
    "#            raise ValueError(\"Argument 'threshold' must be positive.\")\n",
    "#    \n",
    "#    def _warn_if_only_rare(self, X, where_rare, col):\n",
    "#        if X.shape[0] > 1 and np.all(where_rare):\n",
    "#            warnings.warn(\n",
    "#                f\"There were only rare values incolumns '{col}' - all values where replaced.\")"
   ]
  },
  {
   "cell_type": "code",
   "execution_count": 36,
   "id": "transsexual-affect",
   "metadata": {
    "hidden": true
   },
   "outputs": [],
   "source": [
    "#class RareValuesAggregator(BaseEstimator, TransformerMixin):\n",
    "#    \n",
    "#    def __init__(self, threshold=10, replace_value='RARE'):\n",
    "#        self.threshold = threshold\n",
    "#        self.replace_value = replace_value\n",
    "#    \n",
    "#    def fit(self, X, y=None): \n",
    "#        self.most_frequent_values_ = {}\n",
    "#        for col in X.columns:\n",
    "#            counts = X[col].value_counts()\n",
    "#            self.most_frequent_values_[col] = set(counts.index[counts >= self.threshold])\n",
    "#        return self\n",
    "#    \n",
    "#    def transform(self, X):\n",
    "#        X_copy = X.copy()\n",
    "#        for col in X.columns:\n",
    "#            X_copy[col][~X_copy[col].isin(self.most_frequent_values_[col])] = self.replace_value\n",
    "#        return X_copy"
   ]
  },
  {
   "cell_type": "code",
   "execution_count": 57,
   "id": "pressed-sampling",
   "metadata": {
    "hidden": true
   },
   "outputs": [],
   "source": [
    "aggregator = RareValuesAggregator(2)\n",
    "aggregator.fit(X_train[num_to_cat_features])"
   ]
  },
  {
   "cell_type": "code",
   "execution_count": 58,
   "id": "functioning-skating",
   "metadata": {
    "hidden": true
   },
   "outputs": [
    {
     "data": {
      "text/html": [
       "<div>\n",
       "<style scoped>\n",
       "    .dataframe tbody tr th:only-of-type {\n",
       "        vertical-align: middle;\n",
       "    }\n",
       "\n",
       "    .dataframe tbody tr th {\n",
       "        vertical-align: top;\n",
       "    }\n",
       "\n",
       "    .dataframe thead th {\n",
       "        text-align: right;\n",
       "    }\n",
       "</style>\n",
       "<table border=\"1\" class=\"dataframe\">\n",
       "  <thead>\n",
       "    <tr style=\"text-align: right;\">\n",
       "      <th></th>\n",
       "      <th>a</th>\n",
       "      <th>b</th>\n",
       "    </tr>\n",
       "  </thead>\n",
       "  <tbody>\n",
       "    <tr>\n",
       "      <th>0</th>\n",
       "      <td>1</td>\n",
       "      <td>7</td>\n",
       "    </tr>\n",
       "    <tr>\n",
       "      <th>1</th>\n",
       "      <td>2</td>\n",
       "      <td>7</td>\n",
       "    </tr>\n",
       "    <tr>\n",
       "      <th>2</th>\n",
       "      <td>1</td>\n",
       "      <td>7</td>\n",
       "    </tr>\n",
       "    <tr>\n",
       "      <th>3</th>\n",
       "      <td>7</td>\n",
       "      <td>7</td>\n",
       "    </tr>\n",
       "    <tr>\n",
       "      <th>4</th>\n",
       "      <td>5</td>\n",
       "      <td>1</td>\n",
       "    </tr>\n",
       "  </tbody>\n",
       "</table>\n",
       "</div>"
      ],
      "text/plain": [
       "   a  b\n",
       "0  1  7\n",
       "1  2  7\n",
       "2  1  7\n",
       "3  7  7\n",
       "4  5  1"
      ]
     },
     "execution_count": 58,
     "metadata": {},
     "output_type": "execute_result"
    }
   ],
   "source": [
    "Z = pd.DataFrame({\"a\":[1,2,1, 7, 5], \"b\": [7, 7,7,7, 1]})\n",
    "Z"
   ]
  },
  {
   "cell_type": "code",
   "execution_count": 48,
   "id": "royal-engagement",
   "metadata": {
    "hidden": true
   },
   "outputs": [
    {
     "data": {
      "text/html": [
       "<style>#sk-container-id-6 {color: black;background-color: white;}#sk-container-id-6 pre{padding: 0;}#sk-container-id-6 div.sk-toggleable {background-color: white;}#sk-container-id-6 label.sk-toggleable__label {cursor: pointer;display: block;width: 100%;margin-bottom: 0;padding: 0.3em;box-sizing: border-box;text-align: center;}#sk-container-id-6 label.sk-toggleable__label-arrow:before {content: \"▸\";float: left;margin-right: 0.25em;color: #696969;}#sk-container-id-6 label.sk-toggleable__label-arrow:hover:before {color: black;}#sk-container-id-6 div.sk-estimator:hover label.sk-toggleable__label-arrow:before {color: black;}#sk-container-id-6 div.sk-toggleable__content {max-height: 0;max-width: 0;overflow: hidden;text-align: left;background-color: #f0f8ff;}#sk-container-id-6 div.sk-toggleable__content pre {margin: 0.2em;color: black;border-radius: 0.25em;background-color: #f0f8ff;}#sk-container-id-6 input.sk-toggleable__control:checked~div.sk-toggleable__content {max-height: 200px;max-width: 100%;overflow: auto;}#sk-container-id-6 input.sk-toggleable__control:checked~label.sk-toggleable__label-arrow:before {content: \"▾\";}#sk-container-id-6 div.sk-estimator input.sk-toggleable__control:checked~label.sk-toggleable__label {background-color: #d4ebff;}#sk-container-id-6 div.sk-label input.sk-toggleable__control:checked~label.sk-toggleable__label {background-color: #d4ebff;}#sk-container-id-6 input.sk-hidden--visually {border: 0;clip: rect(1px 1px 1px 1px);clip: rect(1px, 1px, 1px, 1px);height: 1px;margin: -1px;overflow: hidden;padding: 0;position: absolute;width: 1px;}#sk-container-id-6 div.sk-estimator {font-family: monospace;background-color: #f0f8ff;border: 1px dotted black;border-radius: 0.25em;box-sizing: border-box;margin-bottom: 0.5em;}#sk-container-id-6 div.sk-estimator:hover {background-color: #d4ebff;}#sk-container-id-6 div.sk-parallel-item::after {content: \"\";width: 100%;border-bottom: 1px solid gray;flex-grow: 1;}#sk-container-id-6 div.sk-label:hover label.sk-toggleable__label {background-color: #d4ebff;}#sk-container-id-6 div.sk-serial::before {content: \"\";position: absolute;border-left: 1px solid gray;box-sizing: border-box;top: 0;bottom: 0;left: 50%;z-index: 0;}#sk-container-id-6 div.sk-serial {display: flex;flex-direction: column;align-items: center;background-color: white;padding-right: 0.2em;padding-left: 0.2em;position: relative;}#sk-container-id-6 div.sk-item {position: relative;z-index: 1;}#sk-container-id-6 div.sk-parallel {display: flex;align-items: stretch;justify-content: center;background-color: white;position: relative;}#sk-container-id-6 div.sk-item::before, #sk-container-id-6 div.sk-parallel-item::before {content: \"\";position: absolute;border-left: 1px solid gray;box-sizing: border-box;top: 0;bottom: 0;left: 50%;z-index: -1;}#sk-container-id-6 div.sk-parallel-item {display: flex;flex-direction: column;z-index: 1;position: relative;background-color: white;}#sk-container-id-6 div.sk-parallel-item:first-child::after {align-self: flex-end;width: 50%;}#sk-container-id-6 div.sk-parallel-item:last-child::after {align-self: flex-start;width: 50%;}#sk-container-id-6 div.sk-parallel-item:only-child::after {width: 0;}#sk-container-id-6 div.sk-dashed-wrapped {border: 1px dashed gray;margin: 0 0.4em 0.5em 0.4em;box-sizing: border-box;padding-bottom: 0.4em;background-color: white;}#sk-container-id-6 div.sk-label label {font-family: monospace;font-weight: bold;display: inline-block;line-height: 1.2em;}#sk-container-id-6 div.sk-label-container {text-align: center;}#sk-container-id-6 div.sk-container {/* jupyter's `normalize.less` sets `[hidden] { display: none; }` but bootstrap.min.css set `[hidden] { display: none !important; }` so we also need the `!important` here to be able to override the default hidden behavior on the sphinx rendered scikit-learn.org. See: https://github.com/scikit-learn/scikit-learn/issues/21755 */display: inline-block !important;position: relative;}#sk-container-id-6 div.sk-text-repr-fallback {display: none;}</style><div id=\"sk-container-id-6\" class=\"sk-top-container\"><div class=\"sk-text-repr-fallback\"><pre>RareValuesAggregator()</pre><b>In a Jupyter environment, please rerun this cell to show the HTML representation or trust the notebook. <br />On GitHub, the HTML representation is unable to render, please try loading this page with nbviewer.org.</b></div><div class=\"sk-container\" hidden><div class=\"sk-item\"><div class=\"sk-estimator sk-toggleable\"><input class=\"sk-toggleable__control sk-hidden--visually\" id=\"sk-estimator-id-6\" type=\"checkbox\" checked><label for=\"sk-estimator-id-6\" class=\"sk-toggleable__label sk-toggleable__label-arrow\">RareValuesAggregator</label><div class=\"sk-toggleable__content\"><pre>RareValuesAggregator()</pre></div></div></div></div></div>"
      ],
      "text/plain": [
       "RareValuesAggregator()"
      ]
     },
     "execution_count": 48,
     "metadata": {},
     "output_type": "execute_result"
    }
   ],
   "source": [
    "aggregator = RareValuesAggregator(2)\n",
    "aggregator.fit(Z)"
   ]
  },
  {
   "cell_type": "code",
   "execution_count": 49,
   "id": "connected-roulette",
   "metadata": {
    "hidden": true
   },
   "outputs": [
    {
     "name": "stderr",
     "output_type": "stream",
     "text": [
      "<ipython-input-45-bbbf4431c0d2>:25: SettingWithCopyWarning: \n",
      "A value is trying to be set on a copy of a slice from a DataFrame\n",
      "\n",
      "See the caveats in the documentation: https://pandas.pydata.org/pandas-docs/stable/user_guide/indexing.html#returning-a-view-versus-a-copy\n",
      "  X_copy[col][where_rare] = self.replace_value\n"
     ]
    },
    {
     "data": {
      "text/html": [
       "<div>\n",
       "<style scoped>\n",
       "    .dataframe tbody tr th:only-of-type {\n",
       "        vertical-align: middle;\n",
       "    }\n",
       "\n",
       "    .dataframe tbody tr th {\n",
       "        vertical-align: top;\n",
       "    }\n",
       "\n",
       "    .dataframe thead th {\n",
       "        text-align: right;\n",
       "    }\n",
       "</style>\n",
       "<table border=\"1\" class=\"dataframe\">\n",
       "  <thead>\n",
       "    <tr style=\"text-align: right;\">\n",
       "      <th></th>\n",
       "      <th>a</th>\n",
       "      <th>b</th>\n",
       "    </tr>\n",
       "  </thead>\n",
       "  <tbody>\n",
       "    <tr>\n",
       "      <th>0</th>\n",
       "      <td>1</td>\n",
       "      <td>7</td>\n",
       "    </tr>\n",
       "    <tr>\n",
       "      <th>1</th>\n",
       "      <td>RARE</td>\n",
       "      <td>7</td>\n",
       "    </tr>\n",
       "    <tr>\n",
       "      <th>2</th>\n",
       "      <td>1</td>\n",
       "      <td>7</td>\n",
       "    </tr>\n",
       "    <tr>\n",
       "      <th>3</th>\n",
       "      <td>RARE</td>\n",
       "      <td>7</td>\n",
       "    </tr>\n",
       "    <tr>\n",
       "      <th>4</th>\n",
       "      <td>RARE</td>\n",
       "      <td>RARE</td>\n",
       "    </tr>\n",
       "  </tbody>\n",
       "</table>\n",
       "</div>"
      ],
      "text/plain": [
       "      a     b\n",
       "0     1     7\n",
       "1  RARE     7\n",
       "2     1     7\n",
       "3  RARE     7\n",
       "4  RARE  RARE"
      ]
     },
     "execution_count": 49,
     "metadata": {},
     "output_type": "execute_result"
    }
   ],
   "source": [
    "aggregator.transform(Z)"
   ]
  },
  {
   "cell_type": "code",
   "execution_count": null,
   "id": "informal-leone",
   "metadata": {
    "hidden": true
   },
   "outputs": [],
   "source": []
  },
  {
   "cell_type": "code",
   "execution_count": null,
   "id": "geographic-response",
   "metadata": {
    "hidden": true
   },
   "outputs": [],
   "source": []
  },
  {
   "cell_type": "code",
   "execution_count": null,
   "id": "helpful-coach",
   "metadata": {
    "hidden": true
   },
   "outputs": [],
   "source": []
  },
  {
   "cell_type": "markdown",
   "id": "synthetic-separate",
   "metadata": {},
   "source": [
    "## Model "
   ]
  },
  {
   "cell_type": "markdown",
   "id": "external-toner",
   "metadata": {},
   "source": [
    "### Logistic Regression"
   ]
  },
  {
   "cell_type": "code",
   "execution_count": 64,
   "id": "increasing-ranking",
   "metadata": {},
   "outputs": [
    {
     "data": {
      "text/html": [
       "<style>#sk-container-id-13 {color: black;background-color: white;}#sk-container-id-13 pre{padding: 0;}#sk-container-id-13 div.sk-toggleable {background-color: white;}#sk-container-id-13 label.sk-toggleable__label {cursor: pointer;display: block;width: 100%;margin-bottom: 0;padding: 0.3em;box-sizing: border-box;text-align: center;}#sk-container-id-13 label.sk-toggleable__label-arrow:before {content: \"▸\";float: left;margin-right: 0.25em;color: #696969;}#sk-container-id-13 label.sk-toggleable__label-arrow:hover:before {color: black;}#sk-container-id-13 div.sk-estimator:hover label.sk-toggleable__label-arrow:before {color: black;}#sk-container-id-13 div.sk-toggleable__content {max-height: 0;max-width: 0;overflow: hidden;text-align: left;background-color: #f0f8ff;}#sk-container-id-13 div.sk-toggleable__content pre {margin: 0.2em;color: black;border-radius: 0.25em;background-color: #f0f8ff;}#sk-container-id-13 input.sk-toggleable__control:checked~div.sk-toggleable__content {max-height: 200px;max-width: 100%;overflow: auto;}#sk-container-id-13 input.sk-toggleable__control:checked~label.sk-toggleable__label-arrow:before {content: \"▾\";}#sk-container-id-13 div.sk-estimator input.sk-toggleable__control:checked~label.sk-toggleable__label {background-color: #d4ebff;}#sk-container-id-13 div.sk-label input.sk-toggleable__control:checked~label.sk-toggleable__label {background-color: #d4ebff;}#sk-container-id-13 input.sk-hidden--visually {border: 0;clip: rect(1px 1px 1px 1px);clip: rect(1px, 1px, 1px, 1px);height: 1px;margin: -1px;overflow: hidden;padding: 0;position: absolute;width: 1px;}#sk-container-id-13 div.sk-estimator {font-family: monospace;background-color: #f0f8ff;border: 1px dotted black;border-radius: 0.25em;box-sizing: border-box;margin-bottom: 0.5em;}#sk-container-id-13 div.sk-estimator:hover {background-color: #d4ebff;}#sk-container-id-13 div.sk-parallel-item::after {content: \"\";width: 100%;border-bottom: 1px solid gray;flex-grow: 1;}#sk-container-id-13 div.sk-label:hover label.sk-toggleable__label {background-color: #d4ebff;}#sk-container-id-13 div.sk-serial::before {content: \"\";position: absolute;border-left: 1px solid gray;box-sizing: border-box;top: 0;bottom: 0;left: 50%;z-index: 0;}#sk-container-id-13 div.sk-serial {display: flex;flex-direction: column;align-items: center;background-color: white;padding-right: 0.2em;padding-left: 0.2em;position: relative;}#sk-container-id-13 div.sk-item {position: relative;z-index: 1;}#sk-container-id-13 div.sk-parallel {display: flex;align-items: stretch;justify-content: center;background-color: white;position: relative;}#sk-container-id-13 div.sk-item::before, #sk-container-id-13 div.sk-parallel-item::before {content: \"\";position: absolute;border-left: 1px solid gray;box-sizing: border-box;top: 0;bottom: 0;left: 50%;z-index: -1;}#sk-container-id-13 div.sk-parallel-item {display: flex;flex-direction: column;z-index: 1;position: relative;background-color: white;}#sk-container-id-13 div.sk-parallel-item:first-child::after {align-self: flex-end;width: 50%;}#sk-container-id-13 div.sk-parallel-item:last-child::after {align-self: flex-start;width: 50%;}#sk-container-id-13 div.sk-parallel-item:only-child::after {width: 0;}#sk-container-id-13 div.sk-dashed-wrapped {border: 1px dashed gray;margin: 0 0.4em 0.5em 0.4em;box-sizing: border-box;padding-bottom: 0.4em;background-color: white;}#sk-container-id-13 div.sk-label label {font-family: monospace;font-weight: bold;display: inline-block;line-height: 1.2em;}#sk-container-id-13 div.sk-label-container {text-align: center;}#sk-container-id-13 div.sk-container {/* jupyter's `normalize.less` sets `[hidden] { display: none; }` but bootstrap.min.css set `[hidden] { display: none !important; }` so we also need the `!important` here to be able to override the default hidden behavior on the sphinx rendered scikit-learn.org. See: https://github.com/scikit-learn/scikit-learn/issues/21755 */display: inline-block !important;position: relative;}#sk-container-id-13 div.sk-text-repr-fallback {display: none;}</style><div id=\"sk-container-id-13\" class=\"sk-top-container\"><div class=\"sk-text-repr-fallback\"><pre>Pipeline(steps=[(&#x27;preprocessor&#x27;,\n",
       "                 ColumnTransformer(n_jobs=-1,\n",
       "                                   transformers=[(&#x27;numerical&#x27;,\n",
       "                                                  Pipeline(steps=[(&#x27;simple_imputer&#x27;,\n",
       "                                                                   SimpleImputer(strategy=&#x27;median&#x27;)),\n",
       "                                                                  (&#x27;scaler&#x27;,\n",
       "                                                                   StandardScaler())]),\n",
       "                                                  [&#x27;Age&#x27;, &#x27;Cabin_num&#x27;]),\n",
       "                                                 (&#x27;categorical&#x27;,\n",
       "                                                  Pipeline(steps=[(&#x27;simple_imputer&#x27;,\n",
       "                                                                   SimpleImputer(strategy=&#x27;most_frequent&#x27;)),\n",
       "                                                                  (&#x27;one_hot_encoder&#x27;,\n",
       "                                                                   OneHotEncoder(handle_unknown=&#x27;ignore&#x27;))]),\n",
       "                                                  [&#x27;HomePlanet&#x27;, &#x27;CryoSleep&#x27;,\n",
       "                                                   &#x27;Destination&#x27;, &#x27;VIP&#x27;, &#x27;Side&#x27;,\n",
       "                                                   &#x27;Travel_alone&#x27;])])),\n",
       "                (&#x27;model_log_regr&#x27;, LogisticRegression())])</pre><b>In a Jupyter environment, please rerun this cell to show the HTML representation or trust the notebook. <br />On GitHub, the HTML representation is unable to render, please try loading this page with nbviewer.org.</b></div><div class=\"sk-container\" hidden><div class=\"sk-item sk-dashed-wrapped\"><div class=\"sk-label-container\"><div class=\"sk-label sk-toggleable\"><input class=\"sk-toggleable__control sk-hidden--visually\" id=\"sk-estimator-id-65\" type=\"checkbox\" ><label for=\"sk-estimator-id-65\" class=\"sk-toggleable__label sk-toggleable__label-arrow\">Pipeline</label><div class=\"sk-toggleable__content\"><pre>Pipeline(steps=[(&#x27;preprocessor&#x27;,\n",
       "                 ColumnTransformer(n_jobs=-1,\n",
       "                                   transformers=[(&#x27;numerical&#x27;,\n",
       "                                                  Pipeline(steps=[(&#x27;simple_imputer&#x27;,\n",
       "                                                                   SimpleImputer(strategy=&#x27;median&#x27;)),\n",
       "                                                                  (&#x27;scaler&#x27;,\n",
       "                                                                   StandardScaler())]),\n",
       "                                                  [&#x27;Age&#x27;, &#x27;Cabin_num&#x27;]),\n",
       "                                                 (&#x27;categorical&#x27;,\n",
       "                                                  Pipeline(steps=[(&#x27;simple_imputer&#x27;,\n",
       "                                                                   SimpleImputer(strategy=&#x27;most_frequent&#x27;)),\n",
       "                                                                  (&#x27;one_hot_encoder&#x27;,\n",
       "                                                                   OneHotEncoder(handle_unknown=&#x27;ignore&#x27;))]),\n",
       "                                                  [&#x27;HomePlanet&#x27;, &#x27;CryoSleep&#x27;,\n",
       "                                                   &#x27;Destination&#x27;, &#x27;VIP&#x27;, &#x27;Side&#x27;,\n",
       "                                                   &#x27;Travel_alone&#x27;])])),\n",
       "                (&#x27;model_log_regr&#x27;, LogisticRegression())])</pre></div></div></div><div class=\"sk-serial\"><div class=\"sk-item sk-dashed-wrapped\"><div class=\"sk-label-container\"><div class=\"sk-label sk-toggleable\"><input class=\"sk-toggleable__control sk-hidden--visually\" id=\"sk-estimator-id-66\" type=\"checkbox\" ><label for=\"sk-estimator-id-66\" class=\"sk-toggleable__label sk-toggleable__label-arrow\">preprocessor: ColumnTransformer</label><div class=\"sk-toggleable__content\"><pre>ColumnTransformer(n_jobs=-1,\n",
       "                  transformers=[(&#x27;numerical&#x27;,\n",
       "                                 Pipeline(steps=[(&#x27;simple_imputer&#x27;,\n",
       "                                                  SimpleImputer(strategy=&#x27;median&#x27;)),\n",
       "                                                 (&#x27;scaler&#x27;, StandardScaler())]),\n",
       "                                 [&#x27;Age&#x27;, &#x27;Cabin_num&#x27;]),\n",
       "                                (&#x27;categorical&#x27;,\n",
       "                                 Pipeline(steps=[(&#x27;simple_imputer&#x27;,\n",
       "                                                  SimpleImputer(strategy=&#x27;most_frequent&#x27;)),\n",
       "                                                 (&#x27;one_hot_encoder&#x27;,\n",
       "                                                  OneHotEncoder(handle_unknown=&#x27;ignore&#x27;))]),\n",
       "                                 [&#x27;HomePlanet&#x27;, &#x27;CryoSleep&#x27;, &#x27;Destination&#x27;,\n",
       "                                  &#x27;VIP&#x27;, &#x27;Side&#x27;, &#x27;Travel_alone&#x27;])])</pre></div></div></div><div class=\"sk-parallel\"><div class=\"sk-parallel-item\"><div class=\"sk-item\"><div class=\"sk-label-container\"><div class=\"sk-label sk-toggleable\"><input class=\"sk-toggleable__control sk-hidden--visually\" id=\"sk-estimator-id-67\" type=\"checkbox\" ><label for=\"sk-estimator-id-67\" class=\"sk-toggleable__label sk-toggleable__label-arrow\">numerical</label><div class=\"sk-toggleable__content\"><pre>[&#x27;Age&#x27;, &#x27;Cabin_num&#x27;]</pre></div></div></div><div class=\"sk-serial\"><div class=\"sk-item\"><div class=\"sk-serial\"><div class=\"sk-item\"><div class=\"sk-estimator sk-toggleable\"><input class=\"sk-toggleable__control sk-hidden--visually\" id=\"sk-estimator-id-68\" type=\"checkbox\" ><label for=\"sk-estimator-id-68\" class=\"sk-toggleable__label sk-toggleable__label-arrow\">SimpleImputer</label><div class=\"sk-toggleable__content\"><pre>SimpleImputer(strategy=&#x27;median&#x27;)</pre></div></div></div><div class=\"sk-item\"><div class=\"sk-estimator sk-toggleable\"><input class=\"sk-toggleable__control sk-hidden--visually\" id=\"sk-estimator-id-69\" type=\"checkbox\" ><label for=\"sk-estimator-id-69\" class=\"sk-toggleable__label sk-toggleable__label-arrow\">StandardScaler</label><div class=\"sk-toggleable__content\"><pre>StandardScaler()</pre></div></div></div></div></div></div></div></div><div class=\"sk-parallel-item\"><div class=\"sk-item\"><div class=\"sk-label-container\"><div class=\"sk-label sk-toggleable\"><input class=\"sk-toggleable__control sk-hidden--visually\" id=\"sk-estimator-id-70\" type=\"checkbox\" ><label for=\"sk-estimator-id-70\" class=\"sk-toggleable__label sk-toggleable__label-arrow\">categorical</label><div class=\"sk-toggleable__content\"><pre>[&#x27;HomePlanet&#x27;, &#x27;CryoSleep&#x27;, &#x27;Destination&#x27;, &#x27;VIP&#x27;, &#x27;Side&#x27;, &#x27;Travel_alone&#x27;]</pre></div></div></div><div class=\"sk-serial\"><div class=\"sk-item\"><div class=\"sk-serial\"><div class=\"sk-item\"><div class=\"sk-estimator sk-toggleable\"><input class=\"sk-toggleable__control sk-hidden--visually\" id=\"sk-estimator-id-71\" type=\"checkbox\" ><label for=\"sk-estimator-id-71\" class=\"sk-toggleable__label sk-toggleable__label-arrow\">SimpleImputer</label><div class=\"sk-toggleable__content\"><pre>SimpleImputer(strategy=&#x27;most_frequent&#x27;)</pre></div></div></div><div class=\"sk-item\"><div class=\"sk-estimator sk-toggleable\"><input class=\"sk-toggleable__control sk-hidden--visually\" id=\"sk-estimator-id-72\" type=\"checkbox\" ><label for=\"sk-estimator-id-72\" class=\"sk-toggleable__label sk-toggleable__label-arrow\">OneHotEncoder</label><div class=\"sk-toggleable__content\"><pre>OneHotEncoder(handle_unknown=&#x27;ignore&#x27;)</pre></div></div></div></div></div></div></div></div></div></div><div class=\"sk-item\"><div class=\"sk-estimator sk-toggleable\"><input class=\"sk-toggleable__control sk-hidden--visually\" id=\"sk-estimator-id-73\" type=\"checkbox\" ><label for=\"sk-estimator-id-73\" class=\"sk-toggleable__label sk-toggleable__label-arrow\">LogisticRegression</label><div class=\"sk-toggleable__content\"><pre>LogisticRegression()</pre></div></div></div></div></div></div></div>"
      ],
      "text/plain": [
       "Pipeline(steps=[('preprocessor',\n",
       "                 ColumnTransformer(n_jobs=-1,\n",
       "                                   transformers=[('numerical',\n",
       "                                                  Pipeline(steps=[('simple_imputer',\n",
       "                                                                   SimpleImputer(strategy='median')),\n",
       "                                                                  ('scaler',\n",
       "                                                                   StandardScaler())]),\n",
       "                                                  ['Age', 'Cabin_num']),\n",
       "                                                 ('categorical',\n",
       "                                                  Pipeline(steps=[('simple_imputer',\n",
       "                                                                   SimpleImputer(strategy='most_frequent')),\n",
       "                                                                  ('one_hot_encoder',\n",
       "                                                                   OneHotEncoder(handle_unknown='ignore'))]),\n",
       "                                                  ['HomePlanet', 'CryoSleep',\n",
       "                                                   'Destination', 'VIP', 'Side',\n",
       "                                                   'Travel_alone'])])),\n",
       "                ('model_log_regr', LogisticRegression())])"
      ]
     },
     "execution_count": 64,
     "metadata": {},
     "output_type": "execute_result"
    }
   ],
   "source": [
    "pipe_log_regr = Pipeline([\n",
    "    (\"preprocessor\", preprocessor),\n",
    "    (\"model_log_regr\", LogisticRegression())\n",
    "])\n",
    "pipe"
   ]
  },
  {
   "cell_type": "code",
   "execution_count": 62,
   "id": "capital-hygiene",
   "metadata": {},
   "outputs": [
    {
     "data": {
      "text/html": [
       "<style>#sk-container-id-11 {color: black;background-color: white;}#sk-container-id-11 pre{padding: 0;}#sk-container-id-11 div.sk-toggleable {background-color: white;}#sk-container-id-11 label.sk-toggleable__label {cursor: pointer;display: block;width: 100%;margin-bottom: 0;padding: 0.3em;box-sizing: border-box;text-align: center;}#sk-container-id-11 label.sk-toggleable__label-arrow:before {content: \"▸\";float: left;margin-right: 0.25em;color: #696969;}#sk-container-id-11 label.sk-toggleable__label-arrow:hover:before {color: black;}#sk-container-id-11 div.sk-estimator:hover label.sk-toggleable__label-arrow:before {color: black;}#sk-container-id-11 div.sk-toggleable__content {max-height: 0;max-width: 0;overflow: hidden;text-align: left;background-color: #f0f8ff;}#sk-container-id-11 div.sk-toggleable__content pre {margin: 0.2em;color: black;border-radius: 0.25em;background-color: #f0f8ff;}#sk-container-id-11 input.sk-toggleable__control:checked~div.sk-toggleable__content {max-height: 200px;max-width: 100%;overflow: auto;}#sk-container-id-11 input.sk-toggleable__control:checked~label.sk-toggleable__label-arrow:before {content: \"▾\";}#sk-container-id-11 div.sk-estimator input.sk-toggleable__control:checked~label.sk-toggleable__label {background-color: #d4ebff;}#sk-container-id-11 div.sk-label input.sk-toggleable__control:checked~label.sk-toggleable__label {background-color: #d4ebff;}#sk-container-id-11 input.sk-hidden--visually {border: 0;clip: rect(1px 1px 1px 1px);clip: rect(1px, 1px, 1px, 1px);height: 1px;margin: -1px;overflow: hidden;padding: 0;position: absolute;width: 1px;}#sk-container-id-11 div.sk-estimator {font-family: monospace;background-color: #f0f8ff;border: 1px dotted black;border-radius: 0.25em;box-sizing: border-box;margin-bottom: 0.5em;}#sk-container-id-11 div.sk-estimator:hover {background-color: #d4ebff;}#sk-container-id-11 div.sk-parallel-item::after {content: \"\";width: 100%;border-bottom: 1px solid gray;flex-grow: 1;}#sk-container-id-11 div.sk-label:hover label.sk-toggleable__label {background-color: #d4ebff;}#sk-container-id-11 div.sk-serial::before {content: \"\";position: absolute;border-left: 1px solid gray;box-sizing: border-box;top: 0;bottom: 0;left: 50%;z-index: 0;}#sk-container-id-11 div.sk-serial {display: flex;flex-direction: column;align-items: center;background-color: white;padding-right: 0.2em;padding-left: 0.2em;position: relative;}#sk-container-id-11 div.sk-item {position: relative;z-index: 1;}#sk-container-id-11 div.sk-parallel {display: flex;align-items: stretch;justify-content: center;background-color: white;position: relative;}#sk-container-id-11 div.sk-item::before, #sk-container-id-11 div.sk-parallel-item::before {content: \"\";position: absolute;border-left: 1px solid gray;box-sizing: border-box;top: 0;bottom: 0;left: 50%;z-index: -1;}#sk-container-id-11 div.sk-parallel-item {display: flex;flex-direction: column;z-index: 1;position: relative;background-color: white;}#sk-container-id-11 div.sk-parallel-item:first-child::after {align-self: flex-end;width: 50%;}#sk-container-id-11 div.sk-parallel-item:last-child::after {align-self: flex-start;width: 50%;}#sk-container-id-11 div.sk-parallel-item:only-child::after {width: 0;}#sk-container-id-11 div.sk-dashed-wrapped {border: 1px dashed gray;margin: 0 0.4em 0.5em 0.4em;box-sizing: border-box;padding-bottom: 0.4em;background-color: white;}#sk-container-id-11 div.sk-label label {font-family: monospace;font-weight: bold;display: inline-block;line-height: 1.2em;}#sk-container-id-11 div.sk-label-container {text-align: center;}#sk-container-id-11 div.sk-container {/* jupyter's `normalize.less` sets `[hidden] { display: none; }` but bootstrap.min.css set `[hidden] { display: none !important; }` so we also need the `!important` here to be able to override the default hidden behavior on the sphinx rendered scikit-learn.org. See: https://github.com/scikit-learn/scikit-learn/issues/21755 */display: inline-block !important;position: relative;}#sk-container-id-11 div.sk-text-repr-fallback {display: none;}</style><div id=\"sk-container-id-11\" class=\"sk-top-container\"><div class=\"sk-text-repr-fallback\"><pre>Pipeline(steps=[(&#x27;preprocessor&#x27;,\n",
       "                 ColumnTransformer(n_jobs=-1,\n",
       "                                   transformers=[(&#x27;numerical&#x27;,\n",
       "                                                  Pipeline(steps=[(&#x27;simple_imputer&#x27;,\n",
       "                                                                   SimpleImputer(strategy=&#x27;median&#x27;)),\n",
       "                                                                  (&#x27;scaler&#x27;,\n",
       "                                                                   StandardScaler())]),\n",
       "                                                  [&#x27;Age&#x27;, &#x27;Cabin_num&#x27;]),\n",
       "                                                 (&#x27;categorical&#x27;,\n",
       "                                                  Pipeline(steps=[(&#x27;simple_imputer&#x27;,\n",
       "                                                                   SimpleImputer(strategy=&#x27;most_frequent&#x27;)),\n",
       "                                                                  (&#x27;one_hot_encoder&#x27;,\n",
       "                                                                   OneHotEncoder(handle_unknown=&#x27;ignore&#x27;))]),\n",
       "                                                  [&#x27;HomePlanet&#x27;, &#x27;CryoSleep&#x27;,\n",
       "                                                   &#x27;Destination&#x27;, &#x27;VIP&#x27;, &#x27;Side&#x27;,\n",
       "                                                   &#x27;Travel_alone&#x27;])])),\n",
       "                (&#x27;model&#x27;, LogisticRegression())])</pre><b>In a Jupyter environment, please rerun this cell to show the HTML representation or trust the notebook. <br />On GitHub, the HTML representation is unable to render, please try loading this page with nbviewer.org.</b></div><div class=\"sk-container\" hidden><div class=\"sk-item sk-dashed-wrapped\"><div class=\"sk-label-container\"><div class=\"sk-label sk-toggleable\"><input class=\"sk-toggleable__control sk-hidden--visually\" id=\"sk-estimator-id-47\" type=\"checkbox\" ><label for=\"sk-estimator-id-47\" class=\"sk-toggleable__label sk-toggleable__label-arrow\">Pipeline</label><div class=\"sk-toggleable__content\"><pre>Pipeline(steps=[(&#x27;preprocessor&#x27;,\n",
       "                 ColumnTransformer(n_jobs=-1,\n",
       "                                   transformers=[(&#x27;numerical&#x27;,\n",
       "                                                  Pipeline(steps=[(&#x27;simple_imputer&#x27;,\n",
       "                                                                   SimpleImputer(strategy=&#x27;median&#x27;)),\n",
       "                                                                  (&#x27;scaler&#x27;,\n",
       "                                                                   StandardScaler())]),\n",
       "                                                  [&#x27;Age&#x27;, &#x27;Cabin_num&#x27;]),\n",
       "                                                 (&#x27;categorical&#x27;,\n",
       "                                                  Pipeline(steps=[(&#x27;simple_imputer&#x27;,\n",
       "                                                                   SimpleImputer(strategy=&#x27;most_frequent&#x27;)),\n",
       "                                                                  (&#x27;one_hot_encoder&#x27;,\n",
       "                                                                   OneHotEncoder(handle_unknown=&#x27;ignore&#x27;))]),\n",
       "                                                  [&#x27;HomePlanet&#x27;, &#x27;CryoSleep&#x27;,\n",
       "                                                   &#x27;Destination&#x27;, &#x27;VIP&#x27;, &#x27;Side&#x27;,\n",
       "                                                   &#x27;Travel_alone&#x27;])])),\n",
       "                (&#x27;model&#x27;, LogisticRegression())])</pre></div></div></div><div class=\"sk-serial\"><div class=\"sk-item sk-dashed-wrapped\"><div class=\"sk-label-container\"><div class=\"sk-label sk-toggleable\"><input class=\"sk-toggleable__control sk-hidden--visually\" id=\"sk-estimator-id-48\" type=\"checkbox\" ><label for=\"sk-estimator-id-48\" class=\"sk-toggleable__label sk-toggleable__label-arrow\">preprocessor: ColumnTransformer</label><div class=\"sk-toggleable__content\"><pre>ColumnTransformer(n_jobs=-1,\n",
       "                  transformers=[(&#x27;numerical&#x27;,\n",
       "                                 Pipeline(steps=[(&#x27;simple_imputer&#x27;,\n",
       "                                                  SimpleImputer(strategy=&#x27;median&#x27;)),\n",
       "                                                 (&#x27;scaler&#x27;, StandardScaler())]),\n",
       "                                 [&#x27;Age&#x27;, &#x27;Cabin_num&#x27;]),\n",
       "                                (&#x27;categorical&#x27;,\n",
       "                                 Pipeline(steps=[(&#x27;simple_imputer&#x27;,\n",
       "                                                  SimpleImputer(strategy=&#x27;most_frequent&#x27;)),\n",
       "                                                 (&#x27;one_hot_encoder&#x27;,\n",
       "                                                  OneHotEncoder(handle_unknown=&#x27;ignore&#x27;))]),\n",
       "                                 [&#x27;HomePlanet&#x27;, &#x27;CryoSleep&#x27;, &#x27;Destination&#x27;,\n",
       "                                  &#x27;VIP&#x27;, &#x27;Side&#x27;, &#x27;Travel_alone&#x27;])])</pre></div></div></div><div class=\"sk-parallel\"><div class=\"sk-parallel-item\"><div class=\"sk-item\"><div class=\"sk-label-container\"><div class=\"sk-label sk-toggleable\"><input class=\"sk-toggleable__control sk-hidden--visually\" id=\"sk-estimator-id-49\" type=\"checkbox\" ><label for=\"sk-estimator-id-49\" class=\"sk-toggleable__label sk-toggleable__label-arrow\">numerical</label><div class=\"sk-toggleable__content\"><pre>[&#x27;Age&#x27;, &#x27;Cabin_num&#x27;]</pre></div></div></div><div class=\"sk-serial\"><div class=\"sk-item\"><div class=\"sk-serial\"><div class=\"sk-item\"><div class=\"sk-estimator sk-toggleable\"><input class=\"sk-toggleable__control sk-hidden--visually\" id=\"sk-estimator-id-50\" type=\"checkbox\" ><label for=\"sk-estimator-id-50\" class=\"sk-toggleable__label sk-toggleable__label-arrow\">SimpleImputer</label><div class=\"sk-toggleable__content\"><pre>SimpleImputer(strategy=&#x27;median&#x27;)</pre></div></div></div><div class=\"sk-item\"><div class=\"sk-estimator sk-toggleable\"><input class=\"sk-toggleable__control sk-hidden--visually\" id=\"sk-estimator-id-51\" type=\"checkbox\" ><label for=\"sk-estimator-id-51\" class=\"sk-toggleable__label sk-toggleable__label-arrow\">StandardScaler</label><div class=\"sk-toggleable__content\"><pre>StandardScaler()</pre></div></div></div></div></div></div></div></div><div class=\"sk-parallel-item\"><div class=\"sk-item\"><div class=\"sk-label-container\"><div class=\"sk-label sk-toggleable\"><input class=\"sk-toggleable__control sk-hidden--visually\" id=\"sk-estimator-id-52\" type=\"checkbox\" ><label for=\"sk-estimator-id-52\" class=\"sk-toggleable__label sk-toggleable__label-arrow\">categorical</label><div class=\"sk-toggleable__content\"><pre>[&#x27;HomePlanet&#x27;, &#x27;CryoSleep&#x27;, &#x27;Destination&#x27;, &#x27;VIP&#x27;, &#x27;Side&#x27;, &#x27;Travel_alone&#x27;]</pre></div></div></div><div class=\"sk-serial\"><div class=\"sk-item\"><div class=\"sk-serial\"><div class=\"sk-item\"><div class=\"sk-estimator sk-toggleable\"><input class=\"sk-toggleable__control sk-hidden--visually\" id=\"sk-estimator-id-53\" type=\"checkbox\" ><label for=\"sk-estimator-id-53\" class=\"sk-toggleable__label sk-toggleable__label-arrow\">SimpleImputer</label><div class=\"sk-toggleable__content\"><pre>SimpleImputer(strategy=&#x27;most_frequent&#x27;)</pre></div></div></div><div class=\"sk-item\"><div class=\"sk-estimator sk-toggleable\"><input class=\"sk-toggleable__control sk-hidden--visually\" id=\"sk-estimator-id-54\" type=\"checkbox\" ><label for=\"sk-estimator-id-54\" class=\"sk-toggleable__label sk-toggleable__label-arrow\">OneHotEncoder</label><div class=\"sk-toggleable__content\"><pre>OneHotEncoder(handle_unknown=&#x27;ignore&#x27;)</pre></div></div></div></div></div></div></div></div></div></div><div class=\"sk-item\"><div class=\"sk-estimator sk-toggleable\"><input class=\"sk-toggleable__control sk-hidden--visually\" id=\"sk-estimator-id-55\" type=\"checkbox\" ><label for=\"sk-estimator-id-55\" class=\"sk-toggleable__label sk-toggleable__label-arrow\">LogisticRegression</label><div class=\"sk-toggleable__content\"><pre>LogisticRegression()</pre></div></div></div></div></div></div></div>"
      ],
      "text/plain": [
       "Pipeline(steps=[('preprocessor',\n",
       "                 ColumnTransformer(n_jobs=-1,\n",
       "                                   transformers=[('numerical',\n",
       "                                                  Pipeline(steps=[('simple_imputer',\n",
       "                                                                   SimpleImputer(strategy='median')),\n",
       "                                                                  ('scaler',\n",
       "                                                                   StandardScaler())]),\n",
       "                                                  ['Age', 'Cabin_num']),\n",
       "                                                 ('categorical',\n",
       "                                                  Pipeline(steps=[('simple_imputer',\n",
       "                                                                   SimpleImputer(strategy='most_frequent')),\n",
       "                                                                  ('one_hot_encoder',\n",
       "                                                                   OneHotEncoder(handle_unknown='ignore'))]),\n",
       "                                                  ['HomePlanet', 'CryoSleep',\n",
       "                                                   'Destination', 'VIP', 'Side',\n",
       "                                                   'Travel_alone'])])),\n",
       "                ('model', LogisticRegression())])"
      ]
     },
     "execution_count": 62,
     "metadata": {},
     "output_type": "execute_result"
    }
   ],
   "source": [
    "pipe_log_regr.fit(X_train, y_train)"
   ]
  },
  {
   "cell_type": "code",
   "execution_count": null,
   "id": "fifth-colonial",
   "metadata": {
    "scrolled": true
   },
   "outputs": [],
   "source": [
    "pipe_log_regr.predict(X_test)"
   ]
  },
  {
   "cell_type": "code",
   "execution_count": null,
   "id": "musical-header",
   "metadata": {},
   "outputs": [],
   "source": []
  },
  {
   "cell_type": "code",
   "execution_count": null,
   "id": "public-vietnamese",
   "metadata": {},
   "outputs": [],
   "source": []
  },
  {
   "cell_type": "code",
   "execution_count": null,
   "id": "desirable-thermal",
   "metadata": {},
   "outputs": [],
   "source": [
    "Podsumowanie po obliczeniu różnych algorytmów\n",
    "Porównanie w tabelce accuracy i F1 dla różnych wyników"
   ]
  }
 ],
 "metadata": {
  "kernelspec": {
   "display_name": "Python 3",
   "language": "python",
   "name": "python3"
  },
  "language_info": {
   "codemirror_mode": {
    "name": "ipython",
    "version": 3
   },
   "file_extension": ".py",
   "mimetype": "text/x-python",
   "name": "python",
   "nbconvert_exporter": "python",
   "pygments_lexer": "ipython3",
   "version": "3.9.1"
  },
  "toc": {
   "base_numbering": 1,
   "nav_menu": {},
   "number_sections": true,
   "sideBar": true,
   "skip_h1_title": true,
   "title_cell": "Table of Contents",
   "title_sidebar": "Contents",
   "toc_cell": false,
   "toc_position": {
    "height": "calc(100% - 180px)",
    "left": "10px",
    "top": "150px",
    "width": "218.6px"
   },
   "toc_section_display": true,
   "toc_window_display": true
  }
 },
 "nbformat": 4,
 "nbformat_minor": 5
}
